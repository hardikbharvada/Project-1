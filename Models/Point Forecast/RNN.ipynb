{
 "cells": [
  {
   "cell_type": "code",
   "execution_count": 4,
   "id": "d4e12012",
   "metadata": {},
   "outputs": [
    {
     "name": "stderr",
     "output_type": "stream",
     "text": [
      "[I 2025-08-15 14:04:59,208] A new study created in memory with name: no-name-49a2fde8-1570-4426-8b16-fd23d8f0b5c8\n"
     ]
    },
    {
     "name": "stdout",
     "output_type": "stream",
     "text": [
      "Using device: cuda\n"
     ]
    },
    {
     "name": "stderr",
     "output_type": "stream",
     "text": [
      "Best trial: 0. Best value: 0.0827611:   0%|          | 1/200 [00:01<05:20,  1.61s/it]"
     ]
    },
    {
     "name": "stdout",
     "output_type": "stream",
     "text": [
      "[I 2025-08-15 14:05:00,825] Trial 0 finished with value: 0.08276109104966965 and parameters: {'lookback': 12, 'num_layers': 2, 'hidden_size': 79, 'lr': 0.0021101690408583985, 'batch_size': 16}. Best is trial 0 with value: 0.08276109104966965.\n"
     ]
    },
    {
     "name": "stderr",
     "output_type": "stream",
     "text": [
      "Best trial: 1. Best value: 0.0793808:   1%|          | 2/200 [00:04<07:56,  2.41s/it]"
     ]
    },
    {
     "name": "stdout",
     "output_type": "stream",
     "text": [
      "[I 2025-08-15 14:05:03,788] Trial 1 finished with value: 0.07938076523696223 and parameters: {'lookback': 23, 'num_layers': 3, 'hidden_size': 108, 'lr': 0.0003275472394572504, 'batch_size': 16}. Best is trial 1 with value: 0.07938076523696223.\n"
     ]
    },
    {
     "name": "stderr",
     "output_type": "stream",
     "text": [
      "Best trial: 1. Best value: 0.0793808:   2%|▏         | 3/200 [00:05<05:17,  1.61s/it]"
     ]
    },
    {
     "name": "stdout",
     "output_type": "stream",
     "text": [
      "[I 2025-08-15 14:05:04,453] Trial 2 finished with value: 0.11571202780815676 and parameters: {'lookback': 8, 'num_layers': 3, 'hidden_size': 22, 'lr': 0.0007152048308388016, 'batch_size': 64}. Best is trial 1 with value: 0.07938076523696223.\n"
     ]
    },
    {
     "name": "stderr",
     "output_type": "stream",
     "text": [
      "Best trial: 3. Best value: 0.0789968:   2%|▏         | 4/200 [00:05<03:59,  1.22s/it]"
     ]
    },
    {
     "name": "stdout",
     "output_type": "stream",
     "text": [
      "[I 2025-08-15 14:05:05,080] Trial 3 finished with value: 0.07899680118229203 and parameters: {'lookback': 29, 'num_layers': 2, 'hidden_size': 106, 'lr': 0.005648457735450684, 'batch_size': 64}. Best is trial 3 with value: 0.07899680118229203.\n"
     ]
    },
    {
     "name": "stderr",
     "output_type": "stream",
     "text": [
      "Best trial: 3. Best value: 0.0789968:   2%|▎         | 5/200 [00:06<03:49,  1.18s/it]"
     ]
    },
    {
     "name": "stdout",
     "output_type": "stream",
     "text": [
      "[I 2025-08-15 14:05:06,171] Trial 4 finished with value: 0.10552785615124938 and parameters: {'lookback': 14, 'num_layers': 1, 'hidden_size': 109, 'lr': 0.00039830257061647156, 'batch_size': 64}. Best is trial 3 with value: 0.07899680118229203.\n"
     ]
    },
    {
     "name": "stderr",
     "output_type": "stream",
     "text": [
      "Best trial: 3. Best value: 0.0789968:   3%|▎         | 6/200 [00:09<04:55,  1.53s/it]"
     ]
    },
    {
     "name": "stdout",
     "output_type": "stream",
     "text": [
      "[I 2025-08-15 14:05:08,372] Trial 5 finished with value: 0.1163453245877364 and parameters: {'lookback': 24, 'num_layers': 1, 'hidden_size': 58, 'lr': 0.00013770854404508695, 'batch_size': 16}. Best is trial 3 with value: 0.07899680118229203.\n"
     ]
    },
    {
     "name": "stderr",
     "output_type": "stream",
     "text": [
      "Best trial: 3. Best value: 0.0789968:   4%|▎         | 7/200 [00:10<04:31,  1.41s/it]"
     ]
    },
    {
     "name": "stdout",
     "output_type": "stream",
     "text": [
      "[I 2025-08-15 14:05:09,532] Trial 6 finished with value: 0.08616176121578141 and parameters: {'lookback': 13, 'num_layers': 2, 'hidden_size': 22, 'lr': 0.002991617402768156, 'batch_size': 16}. Best is trial 3 with value: 0.07899680118229203.\n"
     ]
    },
    {
     "name": "stderr",
     "output_type": "stream",
     "text": [
      "Best trial: 3. Best value: 0.0789968:   4%|▍         | 8/200 [00:14<06:50,  2.14s/it]"
     ]
    },
    {
     "name": "stdout",
     "output_type": "stream",
     "text": [
      "[I 2025-08-15 14:05:13,248] Trial 7 finished with value: 0.09388176980899632 and parameters: {'lookback': 30, 'num_layers': 2, 'hidden_size': 66, 'lr': 0.00011210693288886547, 'batch_size': 32}. Best is trial 3 with value: 0.07899680118229203.\n"
     ]
    },
    {
     "name": "stderr",
     "output_type": "stream",
     "text": [
      "Best trial: 3. Best value: 0.0789968:   4%|▍         | 9/200 [00:15<05:39,  1.78s/it]"
     ]
    },
    {
     "name": "stdout",
     "output_type": "stream",
     "text": [
      "[I 2025-08-15 14:05:14,223] Trial 8 finished with value: 0.0841100211513909 and parameters: {'lookback': 2, 'num_layers': 2, 'hidden_size': 18, 'lr': 0.006676891174446859, 'batch_size': 32}. Best is trial 3 with value: 0.07899680118229203.\n"
     ]
    },
    {
     "name": "stderr",
     "output_type": "stream",
     "text": [
      "Best trial: 3. Best value: 0.0789968:   5%|▌         | 10/200 [00:15<04:38,  1.47s/it]"
     ]
    },
    {
     "name": "stdout",
     "output_type": "stream",
     "text": [
      "[I 2025-08-15 14:05:14,996] Trial 9 finished with value: 0.21607117767457706 and parameters: {'lookback': 12, 'num_layers': 1, 'hidden_size': 26, 'lr': 0.0001285741280237031, 'batch_size': 32}. Best is trial 3 with value: 0.07899680118229203.\n"
     ]
    },
    {
     "name": "stderr",
     "output_type": "stream",
     "text": [
      "Best trial: 10. Best value: 0.0787338:   6%|▌         | 11/200 [00:16<03:49,  1.22s/it]"
     ]
    },
    {
     "name": "stdout",
     "output_type": "stream",
     "text": [
      "[I 2025-08-15 14:05:15,644] Trial 10 finished with value: 0.078733769633886 and parameters: {'lookback': 21, 'num_layers': 3, 'hidden_size': 44, 'lr': 0.009347160925714066, 'batch_size': 64}. Best is trial 10 with value: 0.078733769633886.\n"
     ]
    },
    {
     "name": "stderr",
     "output_type": "stream",
     "text": [
      "Best trial: 11. Best value: 0.0783204:   6%|▌         | 12/200 [00:17<03:16,  1.05s/it]"
     ]
    },
    {
     "name": "stdout",
     "output_type": "stream",
     "text": [
      "[I 2025-08-15 14:05:16,296] Trial 11 finished with value: 0.07832041312693665 and parameters: {'lookback': 22, 'num_layers': 3, 'hidden_size': 34, 'lr': 0.008241799967835339, 'batch_size': 64}. Best is trial 11 with value: 0.07832041312693665.\n"
     ]
    },
    {
     "name": "stderr",
     "output_type": "stream",
     "text": [
      "Best trial: 11. Best value: 0.0783204:   6%|▋         | 13/200 [00:17<02:51,  1.09it/s]"
     ]
    },
    {
     "name": "stdout",
     "output_type": "stream",
     "text": [
      "[I 2025-08-15 14:05:16,933] Trial 12 finished with value: 0.07975441353231094 and parameters: {'lookback': 20, 'num_layers': 3, 'hidden_size': 36, 'lr': 0.00936922989969562, 'batch_size': 64}. Best is trial 11 with value: 0.07832041312693665.\n"
     ]
    },
    {
     "name": "stderr",
     "output_type": "stream",
     "text": [
      "Best trial: 11. Best value: 0.0783204:   7%|▋         | 14/200 [00:18<02:50,  1.09it/s]"
     ]
    },
    {
     "name": "stdout",
     "output_type": "stream",
     "text": [
      "[I 2025-08-15 14:05:17,831] Trial 13 finished with value: 0.08264988669623717 and parameters: {'lookback': 20, 'num_layers': 3, 'hidden_size': 39, 'lr': 0.0026910048495442534, 'batch_size': 64}. Best is trial 11 with value: 0.07832041312693665.\n"
     ]
    },
    {
     "name": "stderr",
     "output_type": "stream",
     "text": [
      "Best trial: 11. Best value: 0.0783204:   8%|▊         | 15/200 [00:19<02:40,  1.15it/s]"
     ]
    },
    {
     "name": "stdout",
     "output_type": "stream",
     "text": [
      "[I 2025-08-15 14:05:18,589] Trial 14 finished with value: 0.08009059023502703 and parameters: {'lookback': 19, 'num_layers': 3, 'hidden_size': 33, 'lr': 0.004578063222353148, 'batch_size': 64}. Best is trial 11 with value: 0.07832041312693665.\n"
     ]
    },
    {
     "name": "stderr",
     "output_type": "stream",
     "text": [
      "Best trial: 11. Best value: 0.0783204:   8%|▊         | 16/200 [00:20<02:29,  1.23it/s]"
     ]
    },
    {
     "name": "stdout",
     "output_type": "stream",
     "text": [
      "[I 2025-08-15 14:05:19,276] Trial 15 finished with value: 0.10037818280868488 and parameters: {'lookback': 25, 'num_layers': 3, 'hidden_size': 51, 'lr': 0.0012676396048035678, 'batch_size': 64}. Best is trial 11 with value: 0.07832041312693665.\n"
     ]
    },
    {
     "name": "stderr",
     "output_type": "stream",
     "text": [
      "Best trial: 11. Best value: 0.0783204:   8%|▊         | 17/200 [00:20<02:23,  1.28it/s]"
     ]
    },
    {
     "name": "stdout",
     "output_type": "stream",
     "text": [
      "[I 2025-08-15 14:05:19,987] Trial 16 finished with value: 0.07865819925106804 and parameters: {'lookback': 17, 'num_layers': 3, 'hidden_size': 45, 'lr': 0.009094363865662073, 'batch_size': 64}. Best is trial 11 with value: 0.07832041312693665.\n"
     ]
    },
    {
     "name": "stderr",
     "output_type": "stream",
     "text": [
      "Best trial: 11. Best value: 0.0783204:   9%|▉         | 18/200 [00:21<02:36,  1.17it/s]"
     ]
    },
    {
     "name": "stdout",
     "output_type": "stream",
     "text": [
      "[I 2025-08-15 14:05:21,020] Trial 17 finished with value: 0.09144868216425564 and parameters: {'lookback': 17, 'num_layers': 3, 'hidden_size': 28, 'lr': 0.0015411907036856434, 'batch_size': 64}. Best is trial 11 with value: 0.07832041312693665.\n"
     ]
    },
    {
     "name": "stderr",
     "output_type": "stream",
     "text": [
      "Best trial: 11. Best value: 0.0783204:  10%|▉         | 19/200 [00:22<02:31,  1.20it/s]"
     ]
    },
    {
     "name": "stdout",
     "output_type": "stream",
     "text": [
      "[I 2025-08-15 14:05:21,809] Trial 18 finished with value: 0.07943594516522196 and parameters: {'lookback': 9, 'num_layers': 3, 'hidden_size': 75, 'lr': 0.004107902935907912, 'batch_size': 64}. Best is trial 11 with value: 0.07832041312693665.\n"
     ]
    },
    {
     "name": "stderr",
     "output_type": "stream",
     "text": [
      "Best trial: 11. Best value: 0.0783204:  10%|█         | 20/200 [00:24<03:21,  1.12s/it]"
     ]
    },
    {
     "name": "stdout",
     "output_type": "stream",
     "text": [
      "[I 2025-08-15 14:05:23,589] Trial 19 finished with value: 0.08782438692137204 and parameters: {'lookback': 26, 'num_layers': 2, 'hidden_size': 48, 'lr': 0.0007906880564880664, 'batch_size': 32}. Best is trial 11 with value: 0.07832041312693665.\n"
     ]
    },
    {
     "name": "stderr",
     "output_type": "stream",
     "text": [
      "Best trial: 11. Best value: 0.0783204:  10%|█         | 21/200 [00:24<02:41,  1.11it/s]"
     ]
    },
    {
     "name": "stdout",
     "output_type": "stream",
     "text": [
      "[I 2025-08-15 14:05:23,970] Trial 20 finished with value: 0.09553917790900973 and parameters: {'lookback': 17, 'num_layers': 2, 'hidden_size': 28, 'lr': 0.0037985067752304325, 'batch_size': 64}. Best is trial 11 with value: 0.07832041312693665.\n"
     ]
    },
    {
     "name": "stderr",
     "output_type": "stream",
     "text": [
      "Best trial: 21. Best value: 0.0770544:  11%|█         | 22/200 [00:25<02:15,  1.32it/s]"
     ]
    },
    {
     "name": "stdout",
     "output_type": "stream",
     "text": [
      "[I 2025-08-15 14:05:24,404] Trial 21 finished with value: 0.07705444270087482 and parameters: {'lookback': 22, 'num_layers': 3, 'hidden_size': 42, 'lr': 0.009991758886584622, 'batch_size': 64}. Best is trial 21 with value: 0.07705444270087482.\n"
     ]
    },
    {
     "name": "stderr",
     "output_type": "stream",
     "text": [
      "Best trial: 21. Best value: 0.0770544:  12%|█▏        | 23/200 [00:25<02:12,  1.34it/s]"
     ]
    },
    {
     "name": "stdout",
     "output_type": "stream",
     "text": [
      "[I 2025-08-15 14:05:25,121] Trial 22 finished with value: 0.07795999958301392 and parameters: {'lookback': 27, 'num_layers': 3, 'hidden_size': 41, 'lr': 0.006986193697408365, 'batch_size': 64}. Best is trial 21 with value: 0.07705444270087482.\n"
     ]
    },
    {
     "name": "stderr",
     "output_type": "stream",
     "text": [
      "Best trial: 21. Best value: 0.0770544:  12%|█▏        | 24/200 [00:26<02:04,  1.42it/s]"
     ]
    },
    {
     "name": "stdout",
     "output_type": "stream",
     "text": [
      "[I 2025-08-15 14:05:25,726] Trial 23 finished with value: 0.08105514150309108 and parameters: {'lookback': 28, 'num_layers': 3, 'hidden_size': 33, 'lr': 0.00668627805657092, 'batch_size': 64}. Best is trial 21 with value: 0.07705444270087482.\n"
     ]
    },
    {
     "name": "stderr",
     "output_type": "stream",
     "text": [
      "Best trial: 21. Best value: 0.0770544:  12%|█▎        | 25/200 [00:27<01:53,  1.54it/s]"
     ]
    },
    {
     "name": "stdout",
     "output_type": "stream",
     "text": [
      "[I 2025-08-15 14:05:26,254] Trial 24 finished with value: 0.08776226424517682 and parameters: {'lookback': 27, 'num_layers': 3, 'hidden_size': 57, 'lr': 0.0061704103365883495, 'batch_size': 64}. Best is trial 21 with value: 0.07705444270087482.\n"
     ]
    },
    {
     "name": "stderr",
     "output_type": "stream",
     "text": [
      "Best trial: 21. Best value: 0.0770544:  13%|█▎        | 26/200 [00:28<02:37,  1.10it/s]"
     ]
    },
    {
     "name": "stdout",
     "output_type": "stream",
     "text": [
      "[I 2025-08-15 14:05:27,756] Trial 25 finished with value: 0.08039178642498512 and parameters: {'lookback': 23, 'num_layers': 3, 'hidden_size': 37, 'lr': 0.0022209729762307394, 'batch_size': 64}. Best is trial 21 with value: 0.07705444270087482.\n"
     ]
    },
    {
     "name": "stderr",
     "output_type": "stream",
     "text": [
      "Best trial: 21. Best value: 0.0770544:  14%|█▎        | 27/200 [00:29<02:54,  1.01s/it]"
     ]
    },
    {
     "name": "stdout",
     "output_type": "stream",
     "text": [
      "[I 2025-08-15 14:05:29,005] Trial 26 finished with value: 0.07925689407175936 and parameters: {'lookback': 22, 'num_layers': 3, 'hidden_size': 16, 'lr': 0.004913213839920245, 'batch_size': 64}. Best is trial 21 with value: 0.07705444270087482.\n"
     ]
    },
    {
     "name": "stderr",
     "output_type": "stream",
     "text": [
      "Best trial: 21. Best value: 0.0770544:  14%|█▍        | 28/200 [00:30<02:53,  1.01s/it]"
     ]
    },
    {
     "name": "stdout",
     "output_type": "stream",
     "text": [
      "[I 2025-08-15 14:05:30,003] Trial 27 finished with value: 0.07828363084559867 and parameters: {'lookback': 26, 'num_layers': 2, 'hidden_size': 42, 'lr': 0.007572108995259586, 'batch_size': 64}. Best is trial 21 with value: 0.07705444270087482.\n"
     ]
    },
    {
     "name": "stderr",
     "output_type": "stream",
     "text": [
      "Best trial: 21. Best value: 0.0770544:  14%|█▍        | 29/200 [00:32<03:15,  1.15s/it]"
     ]
    },
    {
     "name": "stdout",
     "output_type": "stream",
     "text": [
      "[I 2025-08-15 14:05:31,475] Trial 28 finished with value: 0.07994779938785831 and parameters: {'lookback': 26, 'num_layers': 2, 'hidden_size': 41, 'lr': 0.0032904766452842476, 'batch_size': 32}. Best is trial 21 with value: 0.07705444270087482.\n"
     ]
    },
    {
     "name": "stderr",
     "output_type": "stream",
     "text": [
      "Best trial: 21. Best value: 0.0770544:  15%|█▌        | 30/200 [00:34<03:51,  1.36s/it]"
     ]
    },
    {
     "name": "stdout",
     "output_type": "stream",
     "text": [
      "[I 2025-08-15 14:05:33,345] Trial 29 finished with value: 0.08943486691540184 and parameters: {'lookback': 30, 'num_layers': 1, 'hidden_size': 55, 'lr': 0.0017913083505657745, 'batch_size': 16}. Best is trial 21 with value: 0.07705444270087482.\n"
     ]
    },
    {
     "name": "stderr",
     "output_type": "stream",
     "text": [
      "Best trial: 21. Best value: 0.0770544:  16%|█▌        | 31/200 [00:35<03:44,  1.33s/it]"
     ]
    },
    {
     "name": "stdout",
     "output_type": "stream",
     "text": [
      "[I 2025-08-15 14:05:34,597] Trial 30 finished with value: 0.08042901661622125 and parameters: {'lookback': 27, 'num_layers': 2, 'hidden_size': 90, 'lr': 0.0024795257417305526, 'batch_size': 16}. Best is trial 21 with value: 0.07705444270087482.\n"
     ]
    },
    {
     "name": "stderr",
     "output_type": "stream",
     "text": [
      "Best trial: 21. Best value: 0.0770544:  16%|█▌        | 32/200 [00:35<03:06,  1.11s/it]"
     ]
    },
    {
     "name": "stdout",
     "output_type": "stream",
     "text": [
      "[I 2025-08-15 14:05:35,204] Trial 31 finished with value: 0.07932222790279926 and parameters: {'lookback': 25, 'num_layers': 2, 'hidden_size': 32, 'lr': 0.007351288765457985, 'batch_size': 64}. Best is trial 21 with value: 0.07705444270087482.\n"
     ]
    },
    {
     "name": "stderr",
     "output_type": "stream",
     "text": [
      "Best trial: 21. Best value: 0.0770544:  16%|█▋        | 33/200 [00:36<02:42,  1.03it/s]"
     ]
    },
    {
     "name": "stdout",
     "output_type": "stream",
     "text": [
      "[I 2025-08-15 14:05:35,847] Trial 32 finished with value: 0.07908160104810982 and parameters: {'lookback': 23, 'num_layers': 2, 'hidden_size': 65, 'lr': 0.009967866373469844, 'batch_size': 64}. Best is trial 21 with value: 0.07705444270087482.\n"
     ]
    },
    {
     "name": "stderr",
     "output_type": "stream",
     "text": [
      "Best trial: 21. Best value: 0.0770544:  17%|█▋        | 34/200 [00:37<02:21,  1.17it/s]"
     ]
    },
    {
     "name": "stdout",
     "output_type": "stream",
     "text": [
      "[I 2025-08-15 14:05:36,426] Trial 33 finished with value: 0.07956820071138179 and parameters: {'lookback': 22, 'num_layers': 3, 'hidden_size': 24, 'lr': 0.007190034588719307, 'batch_size': 64}. Best is trial 21 with value: 0.07705444270087482.\n"
     ]
    },
    {
     "name": "stderr",
     "output_type": "stream",
     "text": [
      "Best trial: 21. Best value: 0.0770544:  18%|█▊        | 35/200 [00:37<02:13,  1.23it/s]"
     ]
    },
    {
     "name": "stdout",
     "output_type": "stream",
     "text": [
      "[I 2025-08-15 14:05:37,135] Trial 34 finished with value: 0.0788847260590944 and parameters: {'lookback': 24, 'num_layers': 3, 'hidden_size': 42, 'lr': 0.0053136897770797165, 'batch_size': 64}. Best is trial 21 with value: 0.07705444270087482.\n"
     ]
    },
    {
     "name": "stderr",
     "output_type": "stream",
     "text": [
      "Best trial: 21. Best value: 0.0770544:  18%|█▊        | 36/200 [00:39<02:54,  1.06s/it]"
     ]
    },
    {
     "name": "stdout",
     "output_type": "stream",
     "text": [
      "[I 2025-08-15 14:05:38,785] Trial 35 finished with value: 0.09717723459174561 and parameters: {'lookback': 29, 'num_layers': 2, 'hidden_size': 30, 'lr': 0.0004830377574003468, 'batch_size': 64}. Best is trial 21 with value: 0.07705444270087482.\n"
     ]
    },
    {
     "name": "stderr",
     "output_type": "stream",
     "text": [
      "Best trial: 21. Best value: 0.0770544:  18%|█▊        | 37/200 [00:40<02:34,  1.05it/s]"
     ]
    },
    {
     "name": "stdout",
     "output_type": "stream",
     "text": [
      "[I 2025-08-15 14:05:39,471] Trial 36 finished with value: 0.07843388534674547 and parameters: {'lookback': 19, 'num_layers': 3, 'hidden_size': 50, 'lr': 0.007794539021141754, 'batch_size': 64}. Best is trial 21 with value: 0.07705444270087482.\n"
     ]
    },
    {
     "name": "stderr",
     "output_type": "stream",
     "text": [
      "Best trial: 21. Best value: 0.0770544:  19%|█▉        | 38/200 [00:45<05:52,  2.17s/it]"
     ]
    },
    {
     "name": "stdout",
     "output_type": "stream",
     "text": [
      "[I 2025-08-15 14:05:44,507] Trial 37 finished with value: 0.08503391157398785 and parameters: {'lookback': 28, 'num_layers': 3, 'hidden_size': 37, 'lr': 0.0002595845427723925, 'batch_size': 16}. Best is trial 21 with value: 0.07705444270087482.\n"
     ]
    },
    {
     "name": "stderr",
     "output_type": "stream",
     "text": [
      "Best trial: 21. Best value: 0.0770544:  20%|█▉        | 39/200 [00:46<04:39,  1.73s/it]"
     ]
    },
    {
     "name": "stdout",
     "output_type": "stream",
     "text": [
      "[I 2025-08-15 14:05:45,199] Trial 38 finished with value: 0.07894289259228479 and parameters: {'lookback': 15, 'num_layers': 2, 'hidden_size': 128, 'lr': 0.003917172636022139, 'batch_size': 64}. Best is trial 21 with value: 0.07705444270087482.\n"
     ]
    },
    {
     "name": "stderr",
     "output_type": "stream",
     "text": [
      "Best trial: 21. Best value: 0.0770544:  20%|██        | 40/200 [00:46<03:46,  1.42s/it]"
     ]
    },
    {
     "name": "stdout",
     "output_type": "stream",
     "text": [
      "[I 2025-08-15 14:05:45,887] Trial 39 finished with value: 0.09111953965675663 and parameters: {'lookback': 25, 'num_layers': 1, 'hidden_size': 21, 'lr': 0.005557264783725637, 'batch_size': 64}. Best is trial 21 with value: 0.07705444270087482.\n"
     ]
    },
    {
     "name": "stderr",
     "output_type": "stream",
     "text": [
      "Best trial: 21. Best value: 0.0770544:  20%|██        | 41/200 [00:48<04:08,  1.56s/it]"
     ]
    },
    {
     "name": "stdout",
     "output_type": "stream",
     "text": [
      "[I 2025-08-15 14:05:47,791] Trial 40 finished with value: 0.11048990960053191 and parameters: {'lookback': 4, 'num_layers': 3, 'hidden_size': 65, 'lr': 0.00020949476227538, 'batch_size': 16}. Best is trial 21 with value: 0.07705444270087482.\n"
     ]
    },
    {
     "name": "stderr",
     "output_type": "stream",
     "text": [
      "Best trial: 21. Best value: 0.0770544:  21%|██        | 42/200 [00:49<03:18,  1.26s/it]"
     ]
    },
    {
     "name": "stdout",
     "output_type": "stream",
     "text": [
      "[I 2025-08-15 14:05:48,340] Trial 41 finished with value: 0.08118343873677653 and parameters: {'lookback': 19, 'num_layers': 3, 'hidden_size': 50, 'lr': 0.007828739131992722, 'batch_size': 64}. Best is trial 21 with value: 0.07705444270087482.\n"
     ]
    },
    {
     "name": "stderr",
     "output_type": "stream",
     "text": [
      "Best trial: 21. Best value: 0.0770544:  22%|██▏       | 43/200 [00:49<02:41,  1.03s/it]"
     ]
    },
    {
     "name": "stdout",
     "output_type": "stream",
     "text": [
      "[I 2025-08-15 14:05:48,829] Trial 42 finished with value: 0.07901901021726454 and parameters: {'lookback': 22, 'num_layers': 3, 'hidden_size': 47, 'lr': 0.007977093083128429, 'batch_size': 64}. Best is trial 21 with value: 0.07705444270087482.\n"
     ]
    },
    {
     "name": "stderr",
     "output_type": "stream",
     "text": [
      "Best trial: 21. Best value: 0.0770544:  22%|██▏       | 44/200 [00:50<02:21,  1.10it/s]"
     ]
    },
    {
     "name": "stdout",
     "output_type": "stream",
     "text": [
      "[I 2025-08-15 14:05:49,461] Trial 43 finished with value: 0.07948928317129236 and parameters: {'lookback': 18, 'num_layers': 3, 'hidden_size': 41, 'lr': 0.005506114839367117, 'batch_size': 64}. Best is trial 21 with value: 0.07705444270087482.\n"
     ]
    },
    {
     "name": "stderr",
     "output_type": "stream",
     "text": [
      "Best trial: 21. Best value: 0.0770544:  22%|██▎       | 45/200 [00:51<02:36,  1.01s/it]"
     ]
    },
    {
     "name": "stdout",
     "output_type": "stream",
     "text": [
      "[I 2025-08-15 14:05:50,701] Trial 44 finished with value: 0.08060829915564506 and parameters: {'lookback': 21, 'num_layers': 3, 'hidden_size': 34, 'lr': 0.0034993361055982463, 'batch_size': 32}. Best is trial 21 with value: 0.07705444270087482.\n"
     ]
    },
    {
     "name": "stderr",
     "output_type": "stream",
     "text": [
      "Best trial: 21. Best value: 0.0770544:  23%|██▎       | 46/200 [00:52<02:24,  1.07it/s]"
     ]
    },
    {
     "name": "stdout",
     "output_type": "stream",
     "text": [
      "[I 2025-08-15 14:05:51,472] Trial 45 finished with value: 0.07882192049827683 and parameters: {'lookback': 15, 'num_layers': 3, 'hidden_size': 53, 'lr': 0.009917452442048802, 'batch_size': 64}. Best is trial 21 with value: 0.07705444270087482.\n"
     ]
    },
    {
     "name": "stderr",
     "output_type": "stream",
     "text": [
      "Best trial: 21. Best value: 0.0770544:  24%|██▎       | 47/200 [00:53<02:30,  1.02it/s]"
     ]
    },
    {
     "name": "stdout",
     "output_type": "stream",
     "text": [
      "[I 2025-08-15 14:05:52,551] Trial 46 finished with value: 0.07879781434768841 and parameters: {'lookback': 24, 'num_layers': 2, 'hidden_size': 39, 'lr': 0.004683410114742238, 'batch_size': 64}. Best is trial 21 with value: 0.07705444270087482.\n"
     ]
    },
    {
     "name": "stderr",
     "output_type": "stream",
     "text": [
      "Best trial: 21. Best value: 0.0770544:  24%|██▍       | 48/200 [00:53<02:10,  1.16it/s]"
     ]
    },
    {
     "name": "stdout",
     "output_type": "stream",
     "text": [
      "[I 2025-08-15 14:05:53,127] Trial 47 finished with value: 0.07942424686325121 and parameters: {'lookback': 20, 'num_layers': 3, 'hidden_size': 60, 'lr': 0.006434278456460864, 'batch_size': 64}. Best is trial 21 with value: 0.07705444270087482.\n"
     ]
    },
    {
     "name": "stderr",
     "output_type": "stream",
     "text": [
      "Best trial: 21. Best value: 0.0770544:  24%|██▍       | 49/200 [00:54<02:11,  1.15it/s]"
     ]
    },
    {
     "name": "stdout",
     "output_type": "stream",
     "text": [
      "[I 2025-08-15 14:05:54,025] Trial 48 finished with value: 0.07963541324641892 and parameters: {'lookback': 21, 'num_layers': 3, 'hidden_size': 45, 'lr': 0.007622304279451553, 'batch_size': 64}. Best is trial 21 with value: 0.07705444270087482.\n"
     ]
    },
    {
     "name": "stderr",
     "output_type": "stream",
     "text": [
      "Best trial: 21. Best value: 0.0770544:  25%|██▌       | 50/200 [00:55<02:01,  1.24it/s]"
     ]
    },
    {
     "name": "stdout",
     "output_type": "stream",
     "text": [
      "[I 2025-08-15 14:05:54,697] Trial 49 finished with value: 0.08064527659937569 and parameters: {'lookback': 13, 'num_layers': 2, 'hidden_size': 76, 'lr': 0.00844723842787485, 'batch_size': 32}. Best is trial 21 with value: 0.07705444270087482.\n"
     ]
    },
    {
     "name": "stderr",
     "output_type": "stream",
     "text": [
      "Best trial: 21. Best value: 0.0770544:  26%|██▌       | 51/200 [00:56<02:00,  1.24it/s]"
     ]
    },
    {
     "name": "stdout",
     "output_type": "stream",
     "text": [
      "[I 2025-08-15 14:05:55,495] Trial 50 finished with value: 0.09273738817067734 and parameters: {'lookback': 19, 'num_layers': 1, 'hidden_size': 29, 'lr': 0.0031493285672111095, 'batch_size': 64}. Best is trial 21 with value: 0.07705444270087482.\n"
     ]
    },
    {
     "name": "stderr",
     "output_type": "stream",
     "text": [
      "Best trial: 21. Best value: 0.0770544:  26%|██▌       | 52/200 [00:57<02:01,  1.21it/s]"
     ]
    },
    {
     "name": "stdout",
     "output_type": "stream",
     "text": [
      "[I 2025-08-15 14:05:56,360] Trial 51 finished with value: 0.07975043002408418 and parameters: {'lookback': 16, 'num_layers': 3, 'hidden_size': 45, 'lr': 0.008666673773563293, 'batch_size': 64}. Best is trial 21 with value: 0.07705444270087482.\n"
     ]
    },
    {
     "name": "stderr",
     "output_type": "stream",
     "text": [
      "Best trial: 21. Best value: 0.0770544:  26%|██▋       | 53/200 [00:57<01:52,  1.31it/s]"
     ]
    },
    {
     "name": "stdout",
     "output_type": "stream",
     "text": [
      "[I 2025-08-15 14:05:56,990] Trial 52 finished with value: 0.07844580759350347 and parameters: {'lookback': 10, 'num_layers': 3, 'hidden_size': 49, 'lr': 0.006157054068641652, 'batch_size': 64}. Best is trial 21 with value: 0.07705444270087482.\n"
     ]
    },
    {
     "name": "stderr",
     "output_type": "stream",
     "text": [
      "Best trial: 21. Best value: 0.0770544:  27%|██▋       | 54/200 [00:58<01:39,  1.47it/s]"
     ]
    },
    {
     "name": "stdout",
     "output_type": "stream",
     "text": [
      "[I 2025-08-15 14:05:57,471] Trial 53 finished with value: 0.07970655028317011 and parameters: {'lookback': 7, 'num_layers': 3, 'hidden_size': 51, 'lr': 0.006187431582843776, 'batch_size': 64}. Best is trial 21 with value: 0.07705444270087482.\n"
     ]
    },
    {
     "name": "stderr",
     "output_type": "stream",
     "text": [
      "Best trial: 21. Best value: 0.0770544:  28%|██▊       | 55/200 [00:58<01:39,  1.46it/s]"
     ]
    },
    {
     "name": "stdout",
     "output_type": "stream",
     "text": [
      "[I 2025-08-15 14:05:58,170] Trial 54 finished with value: 0.07993631796915908 and parameters: {'lookback': 12, 'num_layers': 3, 'hidden_size': 60, 'lr': 0.0044440164686099905, 'batch_size': 64}. Best is trial 21 with value: 0.07705444270087482.\n"
     ]
    },
    {
     "name": "stderr",
     "output_type": "stream",
     "text": [
      "Best trial: 21. Best value: 0.0770544:  28%|██▊       | 56/200 [00:59<01:26,  1.67it/s]"
     ]
    },
    {
     "name": "stdout",
     "output_type": "stream",
     "text": [
      "[I 2025-08-15 14:05:58,558] Trial 55 finished with value: 0.08667538020565171 and parameters: {'lookback': 8, 'num_layers': 3, 'hidden_size': 35, 'lr': 0.0064395366742499675, 'batch_size': 64}. Best is trial 21 with value: 0.07705444270087482.\n"
     ]
    },
    {
     "name": "stderr",
     "output_type": "stream",
     "text": [
      "Best trial: 21. Best value: 0.0770544:  28%|██▊       | 57/200 [00:59<01:27,  1.64it/s]"
     ]
    },
    {
     "name": "stdout",
     "output_type": "stream",
     "text": [
      "[I 2025-08-15 14:05:59,188] Trial 56 finished with value: 0.08317448681805256 and parameters: {'lookback': 4, 'num_layers': 3, 'hidden_size': 38, 'lr': 0.00541883481532709, 'batch_size': 64}. Best is trial 21 with value: 0.07705444270087482.\n"
     ]
    },
    {
     "name": "stderr",
     "output_type": "stream",
     "text": [
      "Best trial: 21. Best value: 0.0770544:  29%|██▉       | 58/200 [01:00<01:41,  1.40it/s]"
     ]
    },
    {
     "name": "stdout",
     "output_type": "stream",
     "text": [
      "[I 2025-08-15 14:06:00,160] Trial 57 finished with value: 0.0907862688599227 and parameters: {'lookback': 26, 'num_layers': 3, 'hidden_size': 31, 'lr': 0.0010778588248687797, 'batch_size': 64}. Best is trial 21 with value: 0.07705444270087482.\n"
     ]
    },
    {
     "name": "stderr",
     "output_type": "stream",
     "text": [
      "Best trial: 21. Best value: 0.0770544:  30%|██▉       | 59/200 [01:02<02:10,  1.08it/s]"
     ]
    },
    {
     "name": "stdout",
     "output_type": "stream",
     "text": [
      "[I 2025-08-15 14:06:01,587] Trial 58 finished with value: 0.08202171736070428 and parameters: {'lookback': 28, 'num_layers': 3, 'hidden_size': 26, 'lr': 0.008379710056521151, 'batch_size': 16}. Best is trial 21 with value: 0.07705444270087482.\n"
     ]
    },
    {
     "name": "stderr",
     "output_type": "stream",
     "text": [
      "Best trial: 21. Best value: 0.0770544:  30%|███       | 60/200 [01:03<01:57,  1.19it/s]"
     ]
    },
    {
     "name": "stdout",
     "output_type": "stream",
     "text": [
      "[I 2025-08-15 14:06:02,220] Trial 59 finished with value: 0.07828714374653399 and parameters: {'lookback': 11, 'num_layers': 3, 'hidden_size': 43, 'lr': 0.004714027235697824, 'batch_size': 64}. Best is trial 21 with value: 0.07705444270087482.\n"
     ]
    },
    {
     "name": "stderr",
     "output_type": "stream",
     "text": [
      "Best trial: 21. Best value: 0.0770544:  30%|███       | 61/200 [01:05<02:47,  1.21s/it]"
     ]
    },
    {
     "name": "stdout",
     "output_type": "stream",
     "text": [
      "[I 2025-08-15 14:06:04,291] Trial 60 finished with value: 0.0838405222195122 and parameters: {'lookback': 23, 'num_layers': 2, 'hidden_size': 43, 'lr': 0.0005505976396647365, 'batch_size': 32}. Best is trial 21 with value: 0.07705444270087482.\n"
     ]
    },
    {
     "name": "stderr",
     "output_type": "stream",
     "text": [
      "Best trial: 21. Best value: 0.0770544:  31%|███       | 62/200 [01:05<02:29,  1.08s/it]"
     ]
    },
    {
     "name": "stdout",
     "output_type": "stream",
     "text": [
      "[I 2025-08-15 14:06:05,073] Trial 61 finished with value: 0.0801432964188637 and parameters: {'lookback': 11, 'num_layers': 3, 'hidden_size': 48, 'lr': 0.007052795993960502, 'batch_size': 64}. Best is trial 21 with value: 0.07705444270087482.\n"
     ]
    },
    {
     "name": "stderr",
     "output_type": "stream",
     "text": [
      "Best trial: 21. Best value: 0.0770544:  32%|███▏      | 63/200 [01:06<02:06,  1.08it/s]"
     ]
    },
    {
     "name": "stdout",
     "output_type": "stream",
     "text": [
      "[I 2025-08-15 14:06:05,637] Trial 62 finished with value: 0.07954714655791022 and parameters: {'lookback': 10, 'num_layers': 3, 'hidden_size': 40, 'lr': 0.00984769942325835, 'batch_size': 64}. Best is trial 21 with value: 0.07705444270087482.\n"
     ]
    },
    {
     "name": "stderr",
     "output_type": "stream",
     "text": [
      "Best trial: 21. Best value: 0.0770544:  32%|███▏      | 64/200 [01:07<02:08,  1.06it/s]"
     ]
    },
    {
     "name": "stdout",
     "output_type": "stream",
     "text": [
      "[I 2025-08-15 14:06:06,629] Trial 63 finished with value: 0.07893876731946413 and parameters: {'lookback': 7, 'num_layers': 3, 'hidden_size': 35, 'lr': 0.00435126788365056, 'batch_size': 64}. Best is trial 21 with value: 0.07705444270087482.\n"
     ]
    },
    {
     "name": "stderr",
     "output_type": "stream",
     "text": [
      "Best trial: 21. Best value: 0.0770544:  32%|███▎      | 65/200 [01:08<02:12,  1.02it/s]"
     ]
    },
    {
     "name": "stdout",
     "output_type": "stream",
     "text": [
      "[I 2025-08-15 14:06:07,697] Trial 64 finished with value: 0.0800403074163008 and parameters: {'lookback': 10, 'num_layers': 3, 'hidden_size': 47, 'lr': 0.00272053469142539, 'batch_size': 64}. Best is trial 21 with value: 0.07705444270087482.\n"
     ]
    },
    {
     "name": "stderr",
     "output_type": "stream",
     "text": [
      "Best trial: 21. Best value: 0.0770544:  33%|███▎      | 66/200 [01:09<01:54,  1.17it/s]"
     ]
    },
    {
     "name": "stdout",
     "output_type": "stream",
     "text": [
      "[I 2025-08-15 14:06:08,238] Trial 65 finished with value: 0.08052951520921252 and parameters: {'lookback': 18, 'num_layers': 3, 'hidden_size': 53, 'lr': 0.004981952277782802, 'batch_size': 64}. Best is trial 21 with value: 0.07705444270087482.\n"
     ]
    },
    {
     "name": "stderr",
     "output_type": "stream",
     "text": [
      "Best trial: 21. Best value: 0.0770544:  34%|███▎      | 67/200 [01:09<01:44,  1.28it/s]"
     ]
    },
    {
     "name": "stdout",
     "output_type": "stream",
     "text": [
      "[I 2025-08-15 14:06:08,870] Trial 66 finished with value: 0.07985310044091301 and parameters: {'lookback': 14, 'num_layers': 3, 'hidden_size': 57, 'lr': 0.005853816683823888, 'batch_size': 64}. Best is trial 21 with value: 0.07705444270087482.\n"
     ]
    },
    {
     "name": "stderr",
     "output_type": "stream",
     "text": [
      "Best trial: 21. Best value: 0.0770544:  34%|███▍      | 68/200 [01:10<01:31,  1.44it/s]"
     ]
    },
    {
     "name": "stdout",
     "output_type": "stream",
     "text": [
      "[I 2025-08-15 14:06:09,363] Trial 67 finished with value: 0.08344160914342696 and parameters: {'lookback': 24, 'num_layers': 3, 'hidden_size': 43, 'lr': 0.007121407748948936, 'batch_size': 64}. Best is trial 21 with value: 0.07705444270087482.\n"
     ]
    },
    {
     "name": "stderr",
     "output_type": "stream",
     "text": [
      "Best trial: 21. Best value: 0.0770544:  34%|███▍      | 69/200 [01:10<01:31,  1.43it/s]"
     ]
    },
    {
     "name": "stdout",
     "output_type": "stream",
     "text": [
      "[I 2025-08-15 14:06:10,065] Trial 68 finished with value: 0.07902124915865572 and parameters: {'lookback': 27, 'num_layers': 2, 'hidden_size': 37, 'lr': 0.009036048970765346, 'batch_size': 64}. Best is trial 21 with value: 0.07705444270087482.\n"
     ]
    },
    {
     "name": "stderr",
     "output_type": "stream",
     "text": [
      "Best trial: 21. Best value: 0.0770544:  35%|███▌      | 70/200 [01:11<01:25,  1.52it/s]"
     ]
    },
    {
     "name": "stdout",
     "output_type": "stream",
     "text": [
      "[I 2025-08-15 14:06:10,625] Trial 69 finished with value: 0.07960856443893698 and parameters: {'lookback': 21, 'num_layers': 3, 'hidden_size': 40, 'lr': 0.004014088072045779, 'batch_size': 64}. Best is trial 21 with value: 0.07705444270087482.\n"
     ]
    },
    {
     "name": "stderr",
     "output_type": "stream",
     "text": [
      "Best trial: 21. Best value: 0.0770544:  36%|███▌      | 71/200 [01:12<01:55,  1.11it/s]"
     ]
    },
    {
     "name": "stdout",
     "output_type": "stream",
     "text": [
      "[I 2025-08-15 14:06:12,073] Trial 70 finished with value: 0.07865416067954958 and parameters: {'lookback': 30, 'num_layers': 3, 'hidden_size': 50, 'lr': 0.006029931962675008, 'batch_size': 16}. Best is trial 21 with value: 0.07705444270087482.\n"
     ]
    },
    {
     "name": "stderr",
     "output_type": "stream",
     "text": [
      "Best trial: 21. Best value: 0.0770544:  36%|███▌      | 72/200 [01:14<02:24,  1.13s/it]"
     ]
    },
    {
     "name": "stdout",
     "output_type": "stream",
     "text": [
      "[I 2025-08-15 14:06:13,756] Trial 71 finished with value: 0.08040755319936774 and parameters: {'lookback': 29, 'num_layers': 3, 'hidden_size': 50, 'lr': 0.0062614641543600495, 'batch_size': 16}. Best is trial 21 with value: 0.07705444270087482.\n"
     ]
    },
    {
     "name": "stderr",
     "output_type": "stream",
     "text": [
      "Best trial: 21. Best value: 0.0770544:  36%|███▋      | 73/200 [01:16<02:58,  1.40s/it]"
     ]
    },
    {
     "name": "stdout",
     "output_type": "stream",
     "text": [
      "[I 2025-08-15 14:06:15,803] Trial 72 finished with value: 0.08056992958088974 and parameters: {'lookback': 30, 'num_layers': 3, 'hidden_size': 70, 'lr': 0.008038716815238319, 'batch_size': 16}. Best is trial 21 with value: 0.07705444270087482.\n"
     ]
    },
    {
     "name": "stderr",
     "output_type": "stream",
     "text": [
      "Best trial: 21. Best value: 0.0770544:  37%|███▋      | 74/200 [01:17<02:41,  1.28s/it]"
     ]
    },
    {
     "name": "stdout",
     "output_type": "stream",
     "text": [
      "[I 2025-08-15 14:06:16,795] Trial 73 finished with value: 0.08353205957436832 and parameters: {'lookback': 26, 'num_layers': 3, 'hidden_size': 45, 'lr': 0.004889301648903731, 'batch_size': 16}. Best is trial 21 with value: 0.07705444270087482.\n"
     ]
    },
    {
     "name": "stderr",
     "output_type": "stream",
     "text": [
      "Best trial: 21. Best value: 0.0770544:  38%|███▊      | 75/200 [01:19<02:47,  1.34s/it]"
     ]
    },
    {
     "name": "stdout",
     "output_type": "stream",
     "text": [
      "[I 2025-08-15 14:06:18,271] Trial 74 finished with value: 0.07875720626701824 and parameters: {'lookback': 29, 'num_layers': 3, 'hidden_size': 54, 'lr': 0.00358003069126452, 'batch_size': 16}. Best is trial 21 with value: 0.07705444270087482.\n"
     ]
    },
    {
     "name": "stderr",
     "output_type": "stream",
     "text": [
      "Best trial: 21. Best value: 0.0770544:  38%|███▊      | 76/200 [01:21<03:34,  1.73s/it]"
     ]
    },
    {
     "name": "stdout",
     "output_type": "stream",
     "text": [
      "[I 2025-08-15 14:06:20,919] Trial 75 finished with value: 0.08024837662092758 and parameters: {'lookback': 25, 'num_layers': 3, 'hidden_size': 33, 'lr': 0.0072726195577567645, 'batch_size': 16}. Best is trial 21 with value: 0.07705444270087482.\n"
     ]
    },
    {
     "name": "stderr",
     "output_type": "stream",
     "text": [
      "Best trial: 21. Best value: 0.0770544:  38%|███▊      | 77/200 [01:22<02:52,  1.40s/it]"
     ]
    },
    {
     "name": "stdout",
     "output_type": "stream",
     "text": [
      "[I 2025-08-15 14:06:21,530] Trial 76 finished with value: 0.0784861535663484 and parameters: {'lookback': 28, 'num_layers': 3, 'hidden_size': 42, 'lr': 0.005632008702010295, 'batch_size': 64}. Best is trial 21 with value: 0.07705444270087482.\n"
     ]
    },
    {
     "name": "stderr",
     "output_type": "stream",
     "text": [
      "Best trial: 21. Best value: 0.0770544:  39%|███▉      | 78/200 [01:22<02:15,  1.11s/it]"
     ]
    },
    {
     "name": "stdout",
     "output_type": "stream",
     "text": [
      "[I 2025-08-15 14:06:21,976] Trial 77 finished with value: 0.08340848020317616 and parameters: {'lookback': 27, 'num_layers': 3, 'hidden_size': 43, 'lr': 0.008899781125878435, 'batch_size': 64}. Best is trial 21 with value: 0.07705444270087482.\n"
     ]
    },
    {
     "name": "stderr",
     "output_type": "stream",
     "text": [
      "Best trial: 21. Best value: 0.0770544:  40%|███▉      | 79/200 [01:23<02:00,  1.00it/s]"
     ]
    },
    {
     "name": "stdout",
     "output_type": "stream",
     "text": [
      "[I 2025-08-15 14:06:22,714] Trial 78 finished with value: 0.07938257741243396 and parameters: {'lookback': 23, 'num_layers': 2, 'hidden_size': 36, 'lr': 0.005235693745780188, 'batch_size': 64}. Best is trial 21 with value: 0.07705444270087482.\n"
     ]
    },
    {
     "name": "stderr",
     "output_type": "stream",
     "text": [
      "Best trial: 21. Best value: 0.0770544:  40%|████      | 80/200 [01:24<02:10,  1.09s/it]"
     ]
    },
    {
     "name": "stdout",
     "output_type": "stream",
     "text": [
      "[I 2025-08-15 14:06:24,012] Trial 79 finished with value: 0.07943254905906409 and parameters: {'lookback': 18, 'num_layers': 3, 'hidden_size': 39, 'lr': 0.0018661079221652913, 'batch_size': 64}. Best is trial 21 with value: 0.07705444270087482.\n"
     ]
    },
    {
     "name": "stderr",
     "output_type": "stream",
     "text": [
      "Best trial: 21. Best value: 0.0770544:  40%|████      | 81/200 [01:25<01:45,  1.12it/s]"
     ]
    },
    {
     "name": "stdout",
     "output_type": "stream",
     "text": [
      "[I 2025-08-15 14:06:24,440] Trial 80 finished with value: 0.08081295906099681 and parameters: {'lookback': 22, 'num_layers': 3, 'hidden_size': 47, 'lr': 0.006814174633241191, 'batch_size': 64}. Best is trial 21 with value: 0.07705444270087482.\n"
     ]
    },
    {
     "name": "stderr",
     "output_type": "stream",
     "text": [
      "Best trial: 21. Best value: 0.0770544:  41%|████      | 82/200 [01:25<01:27,  1.34it/s]"
     ]
    },
    {
     "name": "stdout",
     "output_type": "stream",
     "text": [
      "[I 2025-08-15 14:06:24,842] Trial 81 finished with value: 0.08180430356010727 and parameters: {'lookback': 28, 'num_layers': 3, 'hidden_size': 62, 'lr': 0.0061193589997452485, 'batch_size': 64}. Best is trial 21 with value: 0.07705444270087482.\n"
     ]
    },
    {
     "name": "stderr",
     "output_type": "stream",
     "text": [
      "Best trial: 21. Best value: 0.0770544:  42%|████▏     | 83/200 [01:26<01:41,  1.15it/s]"
     ]
    },
    {
     "name": "stdout",
     "output_type": "stream",
     "text": [
      "[I 2025-08-15 14:06:25,999] Trial 82 finished with value: 0.08086486197918448 and parameters: {'lookback': 30, 'num_layers': 3, 'hidden_size': 41, 'lr': 0.007827310768895457, 'batch_size': 32}. Best is trial 21 with value: 0.07705444270087482.\n"
     ]
    },
    {
     "name": "stderr",
     "output_type": "stream",
     "text": [
      "Best trial: 21. Best value: 0.0770544:  42%|████▏     | 84/200 [01:27<01:35,  1.22it/s]"
     ]
    },
    {
     "name": "stdout",
     "output_type": "stream",
     "text": [
      "[I 2025-08-15 14:06:26,719] Trial 83 finished with value: 0.07894464827107234 and parameters: {'lookback': 29, 'num_layers': 3, 'hidden_size': 51, 'lr': 0.005574516890082881, 'batch_size': 64}. Best is trial 21 with value: 0.07705444270087482.\n"
     ]
    },
    {
     "name": "stderr",
     "output_type": "stream",
     "text": [
      "Best trial: 21. Best value: 0.0770544:  42%|████▎     | 85/200 [01:27<01:15,  1.53it/s]"
     ]
    },
    {
     "name": "stdout",
     "output_type": "stream",
     "text": [
      "[I 2025-08-15 14:06:26,974] Trial 84 finished with value: 0.09306920328313818 and parameters: {'lookback': 27, 'num_layers': 3, 'hidden_size': 56, 'lr': 0.008748084526140346, 'batch_size': 64}. Best is trial 21 with value: 0.07705444270087482.\n"
     ]
    },
    {
     "name": "stderr",
     "output_type": "stream",
     "text": [
      "Best trial: 21. Best value: 0.0770544:  43%|████▎     | 86/200 [01:28<01:04,  1.76it/s]"
     ]
    },
    {
     "name": "stdout",
     "output_type": "stream",
     "text": [
      "[I 2025-08-15 14:06:27,344] Trial 85 finished with value: 0.07811867072375328 and parameters: {'lookback': 25, 'num_layers': 3, 'hidden_size': 49, 'lr': 0.009977596688211321, 'batch_size': 64}. Best is trial 21 with value: 0.07705444270087482.\n"
     ]
    },
    {
     "name": "stderr",
     "output_type": "stream",
     "text": [
      "Best trial: 21. Best value: 0.0770544:  44%|████▎     | 87/200 [01:28<01:00,  1.87it/s]"
     ]
    },
    {
     "name": "stdout",
     "output_type": "stream",
     "text": [
      "[I 2025-08-15 14:06:27,800] Trial 86 finished with value: 0.07863839666110774 and parameters: {'lookback': 25, 'num_layers': 3, 'hidden_size': 46, 'lr': 0.00963751480625275, 'batch_size': 64}. Best is trial 21 with value: 0.07705444270087482.\n"
     ]
    },
    {
     "name": "stderr",
     "output_type": "stream",
     "text": [
      "Best trial: 21. Best value: 0.0770544:  44%|████▍     | 88/200 [01:29<00:57,  1.94it/s]"
     ]
    },
    {
     "name": "stdout",
     "output_type": "stream",
     "text": [
      "[I 2025-08-15 14:06:28,274] Trial 87 finished with value: 0.0787449235126787 and parameters: {'lookback': 24, 'num_layers': 2, 'hidden_size': 42, 'lr': 0.0077843073636012765, 'batch_size': 64}. Best is trial 21 with value: 0.07705444270087482.\n"
     ]
    },
    {
     "name": "stderr",
     "output_type": "stream",
     "text": [
      "Best trial: 21. Best value: 0.0770544:  44%|████▍     | 89/200 [01:30<01:14,  1.49it/s]"
     ]
    },
    {
     "name": "stdout",
     "output_type": "stream",
     "text": [
      "[I 2025-08-15 14:06:29,307] Trial 88 finished with value: 0.07850736298287825 and parameters: {'lookback': 20, 'num_layers': 3, 'hidden_size': 38, 'lr': 0.009953253277032037, 'batch_size': 64}. Best is trial 21 with value: 0.07705444270087482.\n"
     ]
    },
    {
     "name": "stderr",
     "output_type": "stream",
     "text": [
      "Best trial: 21. Best value: 0.0770544:  45%|████▌     | 90/200 [01:30<01:14,  1.48it/s]"
     ]
    },
    {
     "name": "stdout",
     "output_type": "stream",
     "text": [
      "[I 2025-08-15 14:06:29,999] Trial 89 finished with value: 0.0808281386223719 and parameters: {'lookback': 26, 'num_layers': 3, 'hidden_size': 32, 'lr': 0.00679233936182213, 'batch_size': 64}. Best is trial 21 with value: 0.07705444270087482.\n"
     ]
    },
    {
     "name": "stderr",
     "output_type": "stream",
     "text": [
      "Best trial: 21. Best value: 0.0770544:  46%|████▌     | 91/200 [01:31<01:30,  1.20it/s]"
     ]
    },
    {
     "name": "stdout",
     "output_type": "stream",
     "text": [
      "[I 2025-08-15 14:06:31,182] Trial 90 finished with value: 0.10174616957743357 and parameters: {'lookback': 12, 'num_layers': 1, 'hidden_size': 35, 'lr': 0.0007654429301485389, 'batch_size': 64}. Best is trial 21 with value: 0.07705444270087482.\n"
     ]
    },
    {
     "name": "stderr",
     "output_type": "stream",
     "text": [
      "Best trial: 21. Best value: 0.0770544:  46%|████▌     | 92/200 [01:32<01:23,  1.29it/s]"
     ]
    },
    {
     "name": "stdout",
     "output_type": "stream",
     "text": [
      "[I 2025-08-15 14:06:31,831] Trial 91 finished with value: 0.07913328739436402 and parameters: {'lookback': 20, 'num_layers': 3, 'hidden_size': 38, 'lr': 0.009193644870868312, 'batch_size': 64}. Best is trial 21 with value: 0.07705444270087482.\n"
     ]
    },
    {
     "name": "stderr",
     "output_type": "stream",
     "text": [
      "Best trial: 21. Best value: 0.0770544:  46%|████▋     | 93/200 [01:33<01:13,  1.46it/s]"
     ]
    },
    {
     "name": "stdout",
     "output_type": "stream",
     "text": [
      "[I 2025-08-15 14:06:32,302] Trial 92 finished with value: 0.07926567435800871 and parameters: {'lookback': 19, 'num_layers': 3, 'hidden_size': 48, 'lr': 0.00826234861374282, 'batch_size': 64}. Best is trial 21 with value: 0.07705444270087482.\n"
     ]
    },
    {
     "name": "stderr",
     "output_type": "stream",
     "text": [
      "Best trial: 21. Best value: 0.0770544:  47%|████▋     | 94/200 [01:33<01:13,  1.45it/s]"
     ]
    },
    {
     "name": "stdout",
     "output_type": "stream",
     "text": [
      "[I 2025-08-15 14:06:33,012] Trial 93 finished with value: 0.07873156255416926 and parameters: {'lookback': 23, 'num_layers': 3, 'hidden_size': 44, 'lr': 0.0072387540488516, 'batch_size': 64}. Best is trial 21 with value: 0.07705444270087482.\n"
     ]
    },
    {
     "name": "stderr",
     "output_type": "stream",
     "text": [
      "Best trial: 21. Best value: 0.0770544:  48%|████▊     | 95/200 [01:34<01:09,  1.50it/s]"
     ]
    },
    {
     "name": "stdout",
     "output_type": "stream",
     "text": [
      "[I 2025-08-15 14:06:33,620] Trial 94 finished with value: 0.07880134622220315 and parameters: {'lookback': 21, 'num_layers': 3, 'hidden_size': 40, 'lr': 0.009903796744826731, 'batch_size': 64}. Best is trial 21 with value: 0.07705444270087482.\n"
     ]
    },
    {
     "name": "stderr",
     "output_type": "stream",
     "text": [
      "Best trial: 21. Best value: 0.0770544:  48%|████▊     | 96/200 [01:35<01:08,  1.52it/s]"
     ]
    },
    {
     "name": "stdout",
     "output_type": "stream",
     "text": [
      "[I 2025-08-15 14:06:34,256] Trial 95 finished with value: 0.08022456961288668 and parameters: {'lookback': 16, 'num_layers': 3, 'hidden_size': 42, 'lr': 0.004359637109777182, 'batch_size': 64}. Best is trial 21 with value: 0.07705444270087482.\n"
     ]
    },
    {
     "name": "stderr",
     "output_type": "stream",
     "text": [
      "Best trial: 21. Best value: 0.0770544:  48%|████▊     | 97/200 [01:35<01:09,  1.49it/s]"
     ]
    },
    {
     "name": "stdout",
     "output_type": "stream",
     "text": [
      "[I 2025-08-15 14:06:34,953] Trial 96 finished with value: 0.07878835051040171 and parameters: {'lookback': 22, 'num_layers': 3, 'hidden_size': 38, 'lr': 0.00869797371125047, 'batch_size': 64}. Best is trial 21 with value: 0.07705444270087482.\n"
     ]
    },
    {
     "name": "stderr",
     "output_type": "stream",
     "text": [
      "Best trial: 21. Best value: 0.0770544:  49%|████▉     | 98/200 [01:36<01:02,  1.62it/s]"
     ]
    },
    {
     "name": "stdout",
     "output_type": "stream",
     "text": [
      "[I 2025-08-15 14:06:35,441] Trial 97 finished with value: 0.15340266958736562 and parameters: {'lookback': 20, 'num_layers': 2, 'hidden_size': 49, 'lr': 0.00010301833621417893, 'batch_size': 64}. Best is trial 21 with value: 0.07705444270087482.\n"
     ]
    },
    {
     "name": "stderr",
     "output_type": "stream",
     "text": [
      "Best trial: 21. Best value: 0.0770544:  50%|████▉     | 99/200 [01:36<01:03,  1.58it/s]"
     ]
    },
    {
     "name": "stdout",
     "output_type": "stream",
     "text": [
      "[I 2025-08-15 14:06:36,123] Trial 98 finished with value: 0.0792395555501484 and parameters: {'lookback': 8, 'num_layers': 3, 'hidden_size': 30, 'lr': 0.006499762525904634, 'batch_size': 64}. Best is trial 21 with value: 0.07705444270087482.\n"
     ]
    },
    {
     "name": "stderr",
     "output_type": "stream",
     "text": [
      "Best trial: 21. Best value: 0.0770544:  50%|█████     | 100/200 [01:37<01:02,  1.61it/s]"
     ]
    },
    {
     "name": "stdout",
     "output_type": "stream",
     "text": [
      "[I 2025-08-15 14:06:36,717] Trial 99 finished with value: 0.08893302206480677 and parameters: {'lookback': 10, 'num_layers': 3, 'hidden_size': 34, 'lr': 0.007659393731163143, 'batch_size': 32}. Best is trial 21 with value: 0.07705444270087482.\n"
     ]
    },
    {
     "name": "stderr",
     "output_type": "stream",
     "text": [
      "Best trial: 21. Best value: 0.0770544:  50%|█████     | 101/200 [01:37<00:55,  1.78it/s]"
     ]
    },
    {
     "name": "stdout",
     "output_type": "stream",
     "text": [
      "[I 2025-08-15 14:06:37,137] Trial 100 finished with value: 0.08599499147099118 and parameters: {'lookback': 24, 'num_layers': 3, 'hidden_size': 52, 'lr': 0.009971687567820084, 'batch_size': 64}. Best is trial 21 with value: 0.07705444270087482.\n"
     ]
    },
    {
     "name": "stderr",
     "output_type": "stream",
     "text": [
      "Best trial: 21. Best value: 0.0770544:  51%|█████     | 102/200 [01:38<00:54,  1.79it/s]"
     ]
    },
    {
     "name": "stdout",
     "output_type": "stream",
     "text": [
      "[I 2025-08-15 14:06:37,696] Trial 101 finished with value: 0.07880227056864707 and parameters: {'lookback': 25, 'num_layers': 3, 'hidden_size': 46, 'lr': 0.008644525627197296, 'batch_size': 64}. Best is trial 21 with value: 0.07705444270087482.\n"
     ]
    },
    {
     "name": "stderr",
     "output_type": "stream",
     "text": [
      "Best trial: 21. Best value: 0.0770544:  52%|█████▏    | 103/200 [01:39<00:53,  1.81it/s]"
     ]
    },
    {
     "name": "stdout",
     "output_type": "stream",
     "text": [
      "[I 2025-08-15 14:06:38,224] Trial 102 finished with value: 0.08300806853886353 and parameters: {'lookback': 26, 'num_layers': 3, 'hidden_size': 44, 'lr': 0.0057653624898589976, 'batch_size': 64}. Best is trial 21 with value: 0.07705444270087482.\n"
     ]
    },
    {
     "name": "stderr",
     "output_type": "stream",
     "text": [
      "Best trial: 21. Best value: 0.0770544:  52%|█████▏    | 104/200 [01:39<00:57,  1.66it/s]"
     ]
    },
    {
     "name": "stdout",
     "output_type": "stream",
     "text": [
      "[I 2025-08-15 14:06:38,944] Trial 103 finished with value: 0.07924546081254315 and parameters: {'lookback': 25, 'num_layers': 3, 'hidden_size': 46, 'lr': 0.009297524079782939, 'batch_size': 64}. Best is trial 21 with value: 0.07705444270087482.\n"
     ]
    },
    {
     "name": "stderr",
     "output_type": "stream",
     "text": [
      "Best trial: 21. Best value: 0.0770544:  52%|█████▎    | 105/200 [01:40<00:56,  1.67it/s]"
     ]
    },
    {
     "name": "stdout",
     "output_type": "stream",
     "text": [
      "[I 2025-08-15 14:06:39,541] Trial 104 finished with value: 0.07937769596592395 and parameters: {'lookback': 27, 'num_layers': 3, 'hidden_size': 86, 'lr': 0.0068902503438464935, 'batch_size': 64}. Best is trial 21 with value: 0.07705444270087482.\n"
     ]
    },
    {
     "name": "stderr",
     "output_type": "stream",
     "text": [
      "Best trial: 21. Best value: 0.0770544:  53%|█████▎    | 106/200 [01:41<01:00,  1.55it/s]"
     ]
    },
    {
     "name": "stdout",
     "output_type": "stream",
     "text": [
      "[I 2025-08-15 14:06:40,281] Trial 105 finished with value: 0.07968568492050192 and parameters: {'lookback': 28, 'num_layers': 3, 'hidden_size': 37, 'lr': 0.008027952408817754, 'batch_size': 64}. Best is trial 21 with value: 0.07705444270087482.\n"
     ]
    },
    {
     "name": "stderr",
     "output_type": "stream",
     "text": [
      "Best trial: 21. Best value: 0.0770544:  54%|█████▎    | 107/200 [01:41<00:57,  1.61it/s]"
     ]
    },
    {
     "name": "stdout",
     "output_type": "stream",
     "text": [
      "[I 2025-08-15 14:06:40,853] Trial 106 finished with value: 0.08089510593526086 and parameters: {'lookback': 9, 'num_layers': 3, 'hidden_size': 41, 'lr': 0.0048358469142602825, 'batch_size': 64}. Best is trial 21 with value: 0.07705444270087482.\n"
     ]
    },
    {
     "name": "stderr",
     "output_type": "stream",
     "text": [
      "Best trial: 21. Best value: 0.0770544:  54%|█████▍    | 108/200 [01:42<00:53,  1.71it/s]"
     ]
    },
    {
     "name": "stdout",
     "output_type": "stream",
     "text": [
      "[I 2025-08-15 14:06:41,356] Trial 107 finished with value: 0.07964126501911269 and parameters: {'lookback': 24, 'num_layers': 3, 'hidden_size': 59, 'lr': 0.009379450781485133, 'batch_size': 64}. Best is trial 21 with value: 0.07705444270087482.\n"
     ]
    },
    {
     "name": "stderr",
     "output_type": "stream",
     "text": [
      "Best trial: 21. Best value: 0.0770544:  55%|█████▍    | 109/200 [01:42<00:57,  1.59it/s]"
     ]
    },
    {
     "name": "stdout",
     "output_type": "stream",
     "text": [
      "[I 2025-08-15 14:06:42,090] Trial 108 finished with value: 0.0805346189863917 and parameters: {'lookback': 13, 'num_layers': 3, 'hidden_size': 49, 'lr': 0.00748354555752262, 'batch_size': 64}. Best is trial 21 with value: 0.07705444270087482.\n"
     ]
    },
    {
     "name": "stderr",
     "output_type": "stream",
     "text": [
      "Best trial: 21. Best value: 0.0770544:  55%|█████▌    | 110/200 [01:43<01:02,  1.44it/s]"
     ]
    },
    {
     "name": "stdout",
     "output_type": "stream",
     "text": [
      "[I 2025-08-15 14:06:42,932] Trial 109 finished with value: 0.08018895119427366 and parameters: {'lookback': 21, 'num_layers': 3, 'hidden_size': 36, 'lr': 0.0051836029350438295, 'batch_size': 64}. Best is trial 21 with value: 0.07705444270087482.\n"
     ]
    },
    {
     "name": "stderr",
     "output_type": "stream",
     "text": [
      "Best trial: 21. Best value: 0.0770544:  56%|█████▌    | 111/200 [01:45<01:39,  1.12s/it]"
     ]
    },
    {
     "name": "stdout",
     "output_type": "stream",
     "text": [
      "[I 2025-08-15 14:06:45,037] Trial 110 finished with value: 0.09902972886415577 and parameters: {'lookback': 23, 'num_layers': 3, 'hidden_size': 54, 'lr': 0.00016467235524535842, 'batch_size': 64}. Best is trial 21 with value: 0.07705444270087482.\n"
     ]
    },
    {
     "name": "stderr",
     "output_type": "stream",
     "text": [
      "Best trial: 21. Best value: 0.0770544:  56%|█████▌    | 112/200 [01:46<01:39,  1.13s/it]"
     ]
    },
    {
     "name": "stdout",
     "output_type": "stream",
     "text": [
      "[I 2025-08-15 14:06:46,184] Trial 111 finished with value: 0.0793649711764234 and parameters: {'lookback': 28, 'num_layers': 3, 'hidden_size': 44, 'lr': 0.005903502851585964, 'batch_size': 16}. Best is trial 21 with value: 0.07705444270087482.\n"
     ]
    },
    {
     "name": "stderr",
     "output_type": "stream",
     "text": [
      "Best trial: 21. Best value: 0.0770544:  56%|█████▋    | 113/200 [01:48<01:42,  1.18s/it]"
     ]
    },
    {
     "name": "stdout",
     "output_type": "stream",
     "text": [
      "[I 2025-08-15 14:06:47,495] Trial 112 finished with value: 0.08163557354056952 and parameters: {'lookback': 29, 'num_layers': 3, 'hidden_size': 52, 'lr': 0.00649763440515834, 'batch_size': 16}. Best is trial 21 with value: 0.07705444270087482.\n"
     ]
    },
    {
     "name": "stderr",
     "output_type": "stream",
     "text": [
      "Best trial: 21. Best value: 0.0770544:  57%|█████▋    | 114/200 [01:48<01:25,  1.01it/s]"
     ]
    },
    {
     "name": "stdout",
     "output_type": "stream",
     "text": [
      "[I 2025-08-15 14:06:48,037] Trial 113 finished with value: 0.07930210495780966 and parameters: {'lookback': 11, 'num_layers': 3, 'hidden_size': 46, 'lr': 0.008243221041659766, 'batch_size': 64}. Best is trial 21 with value: 0.07705444270087482.\n"
     ]
    },
    {
     "name": "stderr",
     "output_type": "stream",
     "text": [
      "Best trial: 21. Best value: 0.0770544:  57%|█████▊    | 115/200 [01:49<01:24,  1.01it/s]"
     ]
    },
    {
     "name": "stdout",
     "output_type": "stream",
     "text": [
      "[I 2025-08-15 14:06:49,045] Trial 114 finished with value: 0.0855317265895206 and parameters: {'lookback': 26, 'num_layers': 3, 'hidden_size': 49, 'lr': 0.005828091557012221, 'batch_size': 16}. Best is trial 21 with value: 0.07705444270087482.\n"
     ]
    },
    {
     "name": "stderr",
     "output_type": "stream",
     "text": [
      "Best trial: 21. Best value: 0.0770544:  58%|█████▊    | 116/200 [01:50<01:21,  1.03it/s]"
     ]
    },
    {
     "name": "stdout",
     "output_type": "stream",
     "text": [
      "[I 2025-08-15 14:06:49,965] Trial 115 finished with value: 0.08591258261868502 and parameters: {'lookback': 27, 'num_layers': 3, 'hidden_size': 39, 'lr': 0.0012980423220574518, 'batch_size': 64}. Best is trial 21 with value: 0.07705444270087482.\n"
     ]
    },
    {
     "name": "stderr",
     "output_type": "stream",
     "text": [
      "Best trial: 21. Best value: 0.0770544:  58%|█████▊    | 117/200 [01:51<01:19,  1.04it/s]"
     ]
    },
    {
     "name": "stdout",
     "output_type": "stream",
     "text": [
      "[I 2025-08-15 14:06:50,900] Trial 116 finished with value: 0.08005653380129235 and parameters: {'lookback': 5, 'num_layers': 3, 'hidden_size': 42, 'lr': 0.009969950082538221, 'batch_size': 32}. Best is trial 21 with value: 0.07705444270087482.\n"
     ]
    },
    {
     "name": "stderr",
     "output_type": "stream",
     "text": [
      "Best trial: 21. Best value: 0.0770544:  59%|█████▉    | 118/200 [01:52<01:06,  1.23it/s]"
     ]
    },
    {
     "name": "stdout",
     "output_type": "stream",
     "text": [
      "[I 2025-08-15 14:06:51,376] Trial 117 finished with value: 0.07872736865166713 and parameters: {'lookback': 11, 'num_layers': 3, 'hidden_size': 55, 'lr': 0.007468073582758638, 'batch_size': 64}. Best is trial 21 with value: 0.07705444270087482.\n"
     ]
    },
    {
     "name": "stderr",
     "output_type": "stream",
     "text": [
      "Best trial: 21. Best value: 0.0770544:  60%|█████▉    | 119/200 [01:52<01:05,  1.23it/s]"
     ]
    },
    {
     "name": "stdout",
     "output_type": "stream",
     "text": [
      "[I 2025-08-15 14:06:52,172] Trial 118 finished with value: 0.07931839926476421 and parameters: {'lookback': 22, 'num_layers': 2, 'hidden_size': 47, 'lr': 0.006675214245062078, 'batch_size': 64}. Best is trial 21 with value: 0.07705444270087482.\n"
     ]
    },
    {
     "name": "stderr",
     "output_type": "stream",
     "text": [
      "Best trial: 21. Best value: 0.0770544:  60%|██████    | 120/200 [01:53<01:06,  1.21it/s]"
     ]
    },
    {
     "name": "stdout",
     "output_type": "stream",
     "text": [
      "[I 2025-08-15 14:06:53,035] Trial 119 finished with value: 0.10579260439190416 and parameters: {'lookback': 19, 'num_layers': 3, 'hidden_size': 62, 'lr': 0.00033604660916015515, 'batch_size': 64}. Best is trial 21 with value: 0.07705444270087482.\n"
     ]
    },
    {
     "name": "stderr",
     "output_type": "stream",
     "text": [
      "Best trial: 21. Best value: 0.0770544:  60%|██████    | 121/200 [01:54<01:01,  1.29it/s]"
     ]
    },
    {
     "name": "stdout",
     "output_type": "stream",
     "text": [
      "[I 2025-08-15 14:06:53,698] Trial 120 finished with value: 0.07822351029657408 and parameters: {'lookback': 30, 'num_layers': 3, 'hidden_size': 40, 'lr': 0.009186462489806499, 'batch_size': 64}. Best is trial 21 with value: 0.07705444270087482.\n"
     ]
    },
    {
     "name": "stderr",
     "output_type": "stream",
     "text": [
      "Best trial: 21. Best value: 0.0770544:  61%|██████    | 122/200 [01:55<00:54,  1.42it/s]"
     ]
    },
    {
     "name": "stdout",
     "output_type": "stream",
     "text": [
      "[I 2025-08-15 14:06:54,230] Trial 121 finished with value: 0.07877406512709328 and parameters: {'lookback': 30, 'num_layers': 3, 'hidden_size': 43, 'lr': 0.008964752420669783, 'batch_size': 64}. Best is trial 21 with value: 0.07705444270087482.\n"
     ]
    },
    {
     "name": "stderr",
     "output_type": "stream",
     "text": [
      "Best trial: 21. Best value: 0.0770544:  62%|██████▏   | 123/200 [01:55<00:57,  1.34it/s]"
     ]
    },
    {
     "name": "stdout",
     "output_type": "stream",
     "text": [
      "[I 2025-08-15 14:06:55,078] Trial 122 finished with value: 0.07894805432479025 and parameters: {'lookback': 29, 'num_layers': 3, 'hidden_size': 40, 'lr': 0.008348231622096249, 'batch_size': 64}. Best is trial 21 with value: 0.07705444270087482.\n"
     ]
    },
    {
     "name": "stderr",
     "output_type": "stream",
     "text": [
      "Best trial: 21. Best value: 0.0770544:  62%|██████▏   | 124/200 [01:56<00:56,  1.34it/s]"
     ]
    },
    {
     "name": "stdout",
     "output_type": "stream",
     "text": [
      "[I 2025-08-15 14:06:55,831] Trial 123 finished with value: 0.07877631815392762 and parameters: {'lookback': 28, 'num_layers': 3, 'hidden_size': 45, 'lr': 0.007393355330078671, 'batch_size': 64}. Best is trial 21 with value: 0.07705444270087482.\n"
     ]
    },
    {
     "name": "stderr",
     "output_type": "stream",
     "text": [
      "Best trial: 21. Best value: 0.0770544:  62%|██████▎   | 125/200 [01:57<00:53,  1.40it/s]"
     ]
    },
    {
     "name": "stdout",
     "output_type": "stream",
     "text": [
      "[I 2025-08-15 14:06:56,459] Trial 124 finished with value: 0.07899906221520696 and parameters: {'lookback': 29, 'num_layers': 3, 'hidden_size': 50, 'lr': 0.009147991554676991, 'batch_size': 64}. Best is trial 21 with value: 0.07705444270087482.\n"
     ]
    },
    {
     "name": "stderr",
     "output_type": "stream",
     "text": [
      "Best trial: 21. Best value: 0.0770544:  63%|██████▎   | 126/200 [01:57<00:50,  1.45it/s]"
     ]
    },
    {
     "name": "stdout",
     "output_type": "stream",
     "text": [
      "[I 2025-08-15 14:06:57,091] Trial 125 finished with value: 0.08058825154457866 and parameters: {'lookback': 30, 'num_layers': 3, 'hidden_size': 38, 'lr': 0.00608753740582953, 'batch_size': 64}. Best is trial 21 with value: 0.07705444270087482.\n"
     ]
    },
    {
     "name": "stderr",
     "output_type": "stream",
     "text": [
      "Best trial: 21. Best value: 0.0770544:  64%|██████▎   | 127/200 [01:58<00:46,  1.58it/s]"
     ]
    },
    {
     "name": "stdout",
     "output_type": "stream",
     "text": [
      "[I 2025-08-15 14:06:57,597] Trial 126 finished with value: 0.08175978833831336 and parameters: {'lookback': 18, 'num_layers': 3, 'hidden_size': 41, 'lr': 0.007972241884333518, 'batch_size': 64}. Best is trial 21 with value: 0.07705444270087482.\n"
     ]
    },
    {
     "name": "stderr",
     "output_type": "stream",
     "text": [
      "Best trial: 21. Best value: 0.0770544:  64%|██████▍   | 128/200 [01:59<00:53,  1.34it/s]"
     ]
    },
    {
     "name": "stdout",
     "output_type": "stream",
     "text": [
      "[I 2025-08-15 14:06:58,600] Trial 127 finished with value: 0.08103309245861344 and parameters: {'lookback': 26, 'num_layers': 2, 'hidden_size': 37, 'lr': 0.00535001849605837, 'batch_size': 16}. Best is trial 21 with value: 0.07705444270087482.\n"
     ]
    },
    {
     "name": "stderr",
     "output_type": "stream",
     "text": [
      "Best trial: 21. Best value: 0.0770544:  64%|██████▍   | 129/200 [02:00<00:59,  1.19it/s]"
     ]
    },
    {
     "name": "stdout",
     "output_type": "stream",
     "text": [
      "[I 2025-08-15 14:06:59,661] Trial 128 finished with value: 0.07905879378463627 and parameters: {'lookback': 30, 'num_layers': 3, 'hidden_size': 35, 'lr': 0.006944113396142035, 'batch_size': 64}. Best is trial 21 with value: 0.07705444270087482.\n"
     ]
    },
    {
     "name": "stderr",
     "output_type": "stream",
     "text": [
      "Best trial: 21. Best value: 0.0770544:  65%|██████▌   | 130/200 [02:01<00:54,  1.29it/s]"
     ]
    },
    {
     "name": "stdout",
     "output_type": "stream",
     "text": [
      "[I 2025-08-15 14:07:00,281] Trial 129 finished with value: 0.0799787084205947 and parameters: {'lookback': 17, 'num_layers': 3, 'hidden_size': 32, 'lr': 0.004554780903459529, 'batch_size': 64}. Best is trial 21 with value: 0.07705444270087482.\n"
     ]
    },
    {
     "name": "stderr",
     "output_type": "stream",
     "text": [
      "Best trial: 21. Best value: 0.0770544:  66%|██████▌   | 131/200 [02:01<00:48,  1.44it/s]"
     ]
    },
    {
     "name": "stdout",
     "output_type": "stream",
     "text": [
      "[I 2025-08-15 14:07:00,795] Trial 130 finished with value: 0.09255994164508759 and parameters: {'lookback': 25, 'num_layers': 3, 'hidden_size': 43, 'lr': 0.009256468287917355, 'batch_size': 64}. Best is trial 21 with value: 0.07705444270087482.\n"
     ]
    },
    {
     "name": "stderr",
     "output_type": "stream",
     "text": [
      "Best trial: 21. Best value: 0.0770544:  66%|██████▌   | 132/200 [02:02<00:46,  1.47it/s]"
     ]
    },
    {
     "name": "stdout",
     "output_type": "stream",
     "text": [
      "[I 2025-08-15 14:07:01,433] Trial 131 finished with value: 0.07934818813187117 and parameters: {'lookback': 17, 'num_layers': 3, 'hidden_size': 47, 'lr': 0.009937381862219402, 'batch_size': 64}. Best is trial 21 with value: 0.07705444270087482.\n"
     ]
    },
    {
     "name": "stderr",
     "output_type": "stream",
     "text": [
      "Best trial: 21. Best value: 0.0770544:  66%|██████▋   | 133/200 [02:02<00:41,  1.63it/s]"
     ]
    },
    {
     "name": "stdout",
     "output_type": "stream",
     "text": [
      "[I 2025-08-15 14:07:01,890] Trial 132 finished with value: 0.08447435728423822 and parameters: {'lookback': 16, 'num_layers': 3, 'hidden_size': 45, 'lr': 0.008249697613704561, 'batch_size': 64}. Best is trial 21 with value: 0.07705444270087482.\n"
     ]
    },
    {
     "name": "stderr",
     "output_type": "stream",
     "text": [
      "Best trial: 21. Best value: 0.0770544:  67%|██████▋   | 134/200 [02:03<00:47,  1.40it/s]"
     ]
    },
    {
     "name": "stdout",
     "output_type": "stream",
     "text": [
      "[I 2025-08-15 14:07:02,842] Trial 133 finished with value: 0.0801577664064699 and parameters: {'lookback': 19, 'num_layers': 3, 'hidden_size': 52, 'lr': 0.007194654535516547, 'batch_size': 64}. Best is trial 21 with value: 0.07705444270087482.\n"
     ]
    },
    {
     "name": "stderr",
     "output_type": "stream",
     "text": [
      "Best trial: 21. Best value: 0.0770544:  68%|██████▊   | 135/200 [02:04<00:56,  1.15it/s]"
     ]
    },
    {
     "name": "stdout",
     "output_type": "stream",
     "text": [
      "[I 2025-08-15 14:07:04,085] Trial 134 finished with value: 0.08872156123528552 and parameters: {'lookback': 20, 'num_layers': 3, 'hidden_size': 40, 'lr': 0.0006466176259953602, 'batch_size': 64}. Best is trial 21 with value: 0.07705444270087482.\n"
     ]
    },
    {
     "name": "stderr",
     "output_type": "stream",
     "text": [
      "Best trial: 21. Best value: 0.0770544:  68%|██████▊   | 136/200 [02:05<00:49,  1.29it/s]"
     ]
    },
    {
     "name": "stdout",
     "output_type": "stream",
     "text": [
      "[I 2025-08-15 14:07:04,628] Trial 135 finished with value: 0.0797862044767397 and parameters: {'lookback': 17, 'num_layers': 3, 'hidden_size': 48, 'lr': 0.006410365543294776, 'batch_size': 64}. Best is trial 21 with value: 0.07705444270087482.\n"
     ]
    },
    {
     "name": "stderr",
     "output_type": "stream",
     "text": [
      "Best trial: 21. Best value: 0.0770544:  68%|██████▊   | 137/200 [02:05<00:42,  1.47it/s]"
     ]
    },
    {
     "name": "stdout",
     "output_type": "stream",
     "text": [
      "[I 2025-08-15 14:07:05,087] Trial 136 finished with value: 0.07933401454327932 and parameters: {'lookback': 28, 'num_layers': 3, 'hidden_size': 57, 'lr': 0.008636426289251709, 'batch_size': 64}. Best is trial 21 with value: 0.07705444270087482.\n"
     ]
    },
    {
     "name": "stderr",
     "output_type": "stream",
     "text": [
      "Best trial: 21. Best value: 0.0770544:  69%|██████▉   | 138/200 [02:07<00:52,  1.18it/s]"
     ]
    },
    {
     "name": "stdout",
     "output_type": "stream",
     "text": [
      "[I 2025-08-15 14:07:06,320] Trial 137 finished with value: 0.08228712180404164 and parameters: {'lookback': 14, 'num_layers': 3, 'hidden_size': 42, 'lr': 0.007710593103844532, 'batch_size': 32}. Best is trial 21 with value: 0.07705444270087482.\n"
     ]
    },
    {
     "name": "stderr",
     "output_type": "stream",
     "text": [
      "Best trial: 21. Best value: 0.0770544:  70%|██████▉   | 139/200 [02:07<00:50,  1.20it/s]"
     ]
    },
    {
     "name": "stdout",
     "output_type": "stream",
     "text": [
      "[I 2025-08-15 14:07:07,122] Trial 138 finished with value: 0.07805746671703923 and parameters: {'lookback': 27, 'num_layers': 3, 'hidden_size': 39, 'lr': 0.009173331707128795, 'batch_size': 64}. Best is trial 21 with value: 0.07705444270087482.\n"
     ]
    },
    {
     "name": "stderr",
     "output_type": "stream",
     "text": [
      "Best trial: 21. Best value: 0.0770544:  70%|███████   | 140/200 [02:08<00:47,  1.27it/s]"
     ]
    },
    {
     "name": "stdout",
     "output_type": "stream",
     "text": [
      "[I 2025-08-15 14:07:07,796] Trial 139 finished with value: 0.08106042422103181 and parameters: {'lookback': 27, 'num_layers': 3, 'hidden_size': 34, 'lr': 0.009055823053485582, 'batch_size': 64}. Best is trial 21 with value: 0.07705444270087482.\n"
     ]
    },
    {
     "name": "stderr",
     "output_type": "stream",
     "text": [
      "Best trial: 21. Best value: 0.0770544:  70%|███████   | 141/200 [02:09<00:47,  1.26it/s]"
     ]
    },
    {
     "name": "stdout",
     "output_type": "stream",
     "text": [
      "[I 2025-08-15 14:07:08,621] Trial 140 finished with value: 0.08965158071303708 and parameters: {'lookback': 26, 'num_layers': 3, 'hidden_size': 39, 'lr': 0.007039729089928523, 'batch_size': 16}. Best is trial 21 with value: 0.07705444270087482.\n"
     ]
    },
    {
     "name": "stderr",
     "output_type": "stream",
     "text": [
      "Best trial: 21. Best value: 0.0770544:  71%|███████   | 142/200 [02:09<00:41,  1.41it/s]"
     ]
    },
    {
     "name": "stdout",
     "output_type": "stream",
     "text": [
      "[I 2025-08-15 14:07:09,128] Trial 141 finished with value: 0.08324027809644566 and parameters: {'lookback': 18, 'num_layers': 3, 'hidden_size': 36, 'lr': 0.009858381673763806, 'batch_size': 64}. Best is trial 21 with value: 0.07705444270087482.\n"
     ]
    },
    {
     "name": "stderr",
     "output_type": "stream",
     "text": [
      "Best trial: 21. Best value: 0.0770544:  72%|███████▏  | 143/200 [02:10<00:40,  1.42it/s]"
     ]
    },
    {
     "name": "stdout",
     "output_type": "stream",
     "text": [
      "[I 2025-08-15 14:07:09,815] Trial 142 finished with value: 0.07830647076657918 and parameters: {'lookback': 21, 'num_layers': 3, 'hidden_size': 44, 'lr': 0.00841658359245722, 'batch_size': 64}. Best is trial 21 with value: 0.07705444270087482.\n"
     ]
    },
    {
     "name": "stderr",
     "output_type": "stream",
     "text": [
      "Best trial: 21. Best value: 0.0770544:  72%|███████▏  | 144/200 [02:11<00:36,  1.54it/s]"
     ]
    },
    {
     "name": "stdout",
     "output_type": "stream",
     "text": [
      "[I 2025-08-15 14:07:10,320] Trial 143 finished with value: 0.07964105677621842 and parameters: {'lookback': 21, 'num_layers': 3, 'hidden_size': 44, 'lr': 0.008236120218203715, 'batch_size': 64}. Best is trial 21 with value: 0.07705444270087482.\n"
     ]
    },
    {
     "name": "stderr",
     "output_type": "stream",
     "text": [
      "Best trial: 21. Best value: 0.0770544:  72%|███████▎  | 145/200 [02:12<00:42,  1.30it/s]"
     ]
    },
    {
     "name": "stdout",
     "output_type": "stream",
     "text": [
      "[I 2025-08-15 14:07:11,392] Trial 144 finished with value: 0.08384611874591974 and parameters: {'lookback': 24, 'num_layers': 1, 'hidden_size': 41, 'lr': 0.00621501783816939, 'batch_size': 64}. Best is trial 21 with value: 0.07705444270087482.\n"
     ]
    },
    {
     "name": "stderr",
     "output_type": "stream",
     "text": [
      "Best trial: 21. Best value: 0.0770544:  73%|███████▎  | 146/200 [02:13<00:43,  1.24it/s]"
     ]
    },
    {
     "name": "stdout",
     "output_type": "stream",
     "text": [
      "[I 2025-08-15 14:07:12,265] Trial 145 finished with value: 0.07871565810395363 and parameters: {'lookback': 21, 'num_layers': 3, 'hidden_size': 51, 'lr': 0.007871054562687378, 'batch_size': 64}. Best is trial 21 with value: 0.07705444270087482.\n"
     ]
    },
    {
     "name": "stderr",
     "output_type": "stream",
     "text": [
      "Best trial: 21. Best value: 0.0770544:  74%|███████▎  | 147/200 [02:13<00:39,  1.33it/s]"
     ]
    },
    {
     "name": "stdout",
     "output_type": "stream",
     "text": [
      "[I 2025-08-15 14:07:12,901] Trial 146 finished with value: 0.07773427872933825 and parameters: {'lookback': 27, 'num_layers': 3, 'hidden_size': 38, 'lr': 0.00881031070446122, 'batch_size': 64}. Best is trial 21 with value: 0.07705444270087482.\n"
     ]
    },
    {
     "name": "stderr",
     "output_type": "stream",
     "text": [
      "Best trial: 21. Best value: 0.0770544:  74%|███████▍  | 148/200 [02:14<00:36,  1.44it/s]"
     ]
    },
    {
     "name": "stdout",
     "output_type": "stream",
     "text": [
      "[I 2025-08-15 14:07:13,471] Trial 147 finished with value: 0.07861512000188527 and parameters: {'lookback': 25, 'num_layers': 3, 'hidden_size': 38, 'lr': 0.008811943455084865, 'batch_size': 64}. Best is trial 21 with value: 0.07705444270087482.\n"
     ]
    },
    {
     "name": "stderr",
     "output_type": "stream",
     "text": [
      "Best trial: 21. Best value: 0.0770544:  74%|███████▍  | 149/200 [02:14<00:32,  1.57it/s]"
     ]
    },
    {
     "name": "stdout",
     "output_type": "stream",
     "text": [
      "[I 2025-08-15 14:07:13,966] Trial 148 finished with value: 0.07990598187733884 and parameters: {'lookback': 20, 'num_layers': 3, 'hidden_size': 38, 'lr': 0.00869585617484465, 'batch_size': 64}. Best is trial 21 with value: 0.07705444270087482.\n"
     ]
    },
    {
     "name": "stderr",
     "output_type": "stream",
     "text": [
      "Best trial: 21. Best value: 0.0770544:  75%|███████▌  | 150/200 [02:15<00:30,  1.64it/s]"
     ]
    },
    {
     "name": "stdout",
     "output_type": "stream",
     "text": [
      "[I 2025-08-15 14:07:14,502] Trial 149 finished with value: 0.1096514565491603 and parameters: {'lookback': 27, 'num_layers': 3, 'hidden_size': 33, 'lr': 0.0009425153019274102, 'batch_size': 64}. Best is trial 21 with value: 0.07705444270087482.\n"
     ]
    },
    {
     "name": "stderr",
     "output_type": "stream",
     "text": [
      "Best trial: 21. Best value: 0.0770544:  76%|███████▌  | 151/200 [02:16<00:33,  1.46it/s]"
     ]
    },
    {
     "name": "stdout",
     "output_type": "stream",
     "text": [
      "[I 2025-08-15 14:07:15,373] Trial 150 finished with value: 0.07893472472411721 and parameters: {'lookback': 22, 'num_layers': 3, 'hidden_size': 39, 'lr': 0.007074361427271015, 'batch_size': 64}. Best is trial 21 with value: 0.07705444270087482.\n"
     ]
    },
    {
     "name": "stderr",
     "output_type": "stream",
     "text": [
      "Best trial: 21. Best value: 0.0770544:  76%|███████▌  | 152/200 [02:16<00:29,  1.64it/s]"
     ]
    },
    {
     "name": "stdout",
     "output_type": "stream",
     "text": [
      "[I 2025-08-15 14:07:15,813] Trial 151 finished with value: 0.08062811979886852 and parameters: {'lookback': 25, 'num_layers': 3, 'hidden_size': 36, 'lr': 0.009414473548418812, 'batch_size': 64}. Best is trial 21 with value: 0.07705444270087482.\n"
     ]
    },
    {
     "name": "stderr",
     "output_type": "stream",
     "text": [
      "Best trial: 21. Best value: 0.0770544:  76%|███████▋  | 153/200 [02:17<00:28,  1.62it/s]"
     ]
    },
    {
     "name": "stdout",
     "output_type": "stream",
     "text": [
      "[I 2025-08-15 14:07:16,443] Trial 152 finished with value: 0.07927109154114173 and parameters: {'lookback': 24, 'num_layers': 3, 'hidden_size': 42, 'lr': 0.008561393350965145, 'batch_size': 64}. Best is trial 21 with value: 0.07705444270087482.\n"
     ]
    },
    {
     "name": "stderr",
     "output_type": "stream",
     "text": [
      "Best trial: 21. Best value: 0.0770544:  77%|███████▋  | 154/200 [02:17<00:30,  1.53it/s]"
     ]
    },
    {
     "name": "stdout",
     "output_type": "stream",
     "text": [
      "[I 2025-08-15 14:07:17,183] Trial 153 finished with value: 0.07786255964832911 and parameters: {'lookback': 26, 'num_layers': 3, 'hidden_size': 39, 'lr': 0.007611380427035664, 'batch_size': 64}. Best is trial 21 with value: 0.07705444270087482.\n"
     ]
    },
    {
     "name": "stderr",
     "output_type": "stream",
     "text": [
      "Best trial: 21. Best value: 0.0770544:  78%|███████▊  | 155/200 [02:18<00:26,  1.70it/s]"
     ]
    },
    {
     "name": "stdout",
     "output_type": "stream",
     "text": [
      "[I 2025-08-15 14:07:17,623] Trial 154 finished with value: 0.07947436297907154 and parameters: {'lookback': 26, 'num_layers': 3, 'hidden_size': 40, 'lr': 0.007698248901877483, 'batch_size': 64}. Best is trial 21 with value: 0.07705444270087482.\n"
     ]
    },
    {
     "name": "stderr",
     "output_type": "stream",
     "text": [
      "Best trial: 21. Best value: 0.0770544:  78%|███████▊  | 156/200 [02:19<00:26,  1.63it/s]"
     ]
    },
    {
     "name": "stdout",
     "output_type": "stream",
     "text": [
      "[I 2025-08-15 14:07:18,286] Trial 155 finished with value: 0.07921870419270341 and parameters: {'lookback': 27, 'num_layers': 3, 'hidden_size': 37, 'lr': 0.007584151255312727, 'batch_size': 64}. Best is trial 21 with value: 0.07705444270087482.\n"
     ]
    },
    {
     "name": "stderr",
     "output_type": "stream",
     "text": [
      "Best trial: 21. Best value: 0.0770544:  78%|███████▊  | 157/200 [02:19<00:29,  1.44it/s]"
     ]
    },
    {
     "name": "stdout",
     "output_type": "stream",
     "text": [
      "[I 2025-08-15 14:07:19,162] Trial 156 finished with value: 0.07886794164626484 and parameters: {'lookback': 28, 'num_layers': 3, 'hidden_size': 34, 'lr': 0.006690931006564355, 'batch_size': 64}. Best is trial 21 with value: 0.07705444270087482.\n"
     ]
    },
    {
     "name": "stderr",
     "output_type": "stream",
     "text": [
      "Best trial: 21. Best value: 0.0770544:  79%|███████▉  | 158/200 [02:20<00:29,  1.43it/s]"
     ]
    },
    {
     "name": "stdout",
     "output_type": "stream",
     "text": [
      "[I 2025-08-15 14:07:19,882] Trial 157 finished with value: 0.07860739062092918 and parameters: {'lookback': 9, 'num_layers': 2, 'hidden_size': 38, 'lr': 0.008795810393025228, 'batch_size': 64}. Best is trial 21 with value: 0.07705444270087482.\n"
     ]
    },
    {
     "name": "stderr",
     "output_type": "stream",
     "text": [
      "Best trial: 21. Best value: 0.0770544:  80%|███████▉  | 159/200 [02:21<00:28,  1.46it/s]"
     ]
    },
    {
     "name": "stdout",
     "output_type": "stream",
     "text": [
      "[I 2025-08-15 14:07:20,522] Trial 158 finished with value: 0.07880693834877765 and parameters: {'lookback': 9, 'num_layers': 2, 'hidden_size': 43, 'lr': 0.009936809804228099, 'batch_size': 64}. Best is trial 21 with value: 0.07705444270087482.\n"
     ]
    },
    {
     "name": "stderr",
     "output_type": "stream",
     "text": [
      "Best trial: 21. Best value: 0.0770544:  80%|████████  | 160/200 [02:21<00:24,  1.62it/s]"
     ]
    },
    {
     "name": "stdout",
     "output_type": "stream",
     "text": [
      "[I 2025-08-15 14:07:21,001] Trial 159 finished with value: 0.08771639826058968 and parameters: {'lookback': 8, 'num_layers': 2, 'hidden_size': 36, 'lr': 0.005505973367678506, 'batch_size': 64}. Best is trial 21 with value: 0.07705444270087482.\n"
     ]
    },
    {
     "name": "stderr",
     "output_type": "stream",
     "text": [
      "Best trial: 21. Best value: 0.0770544:  80%|████████  | 161/200 [02:22<00:24,  1.62it/s]"
     ]
    },
    {
     "name": "stdout",
     "output_type": "stream",
     "text": [
      "[I 2025-08-15 14:07:21,614] Trial 160 finished with value: 0.07871730880535066 and parameters: {'lookback': 10, 'num_layers': 2, 'hidden_size': 40, 'lr': 0.007919665416099547, 'batch_size': 64}. Best is trial 21 with value: 0.07705444270087482.\n"
     ]
    },
    {
     "name": "stderr",
     "output_type": "stream",
     "text": [
      "Best trial: 21. Best value: 0.0770544:  81%|████████  | 162/200 [02:23<00:24,  1.57it/s]"
     ]
    },
    {
     "name": "stdout",
     "output_type": "stream",
     "text": [
      "[I 2025-08-15 14:07:22,299] Trial 161 finished with value: 0.07959782011512358 and parameters: {'lookback': 26, 'num_layers': 2, 'hidden_size': 38, 'lr': 0.008817652541230256, 'batch_size': 64}. Best is trial 21 with value: 0.07705444270087482.\n"
     ]
    },
    {
     "name": "stderr",
     "output_type": "stream",
     "text": [
      "Best trial: 21. Best value: 0.0770544:  82%|████████▏ | 163/200 [02:23<00:21,  1.71it/s]"
     ]
    },
    {
     "name": "stdout",
     "output_type": "stream",
     "text": [
      "[I 2025-08-15 14:07:22,758] Trial 162 finished with value: 0.08151402201998904 and parameters: {'lookback': 28, 'num_layers': 2, 'hidden_size': 39, 'lr': 0.008741093703381095, 'batch_size': 64}. Best is trial 21 with value: 0.07705444270087482.\n"
     ]
    },
    {
     "name": "stderr",
     "output_type": "stream",
     "text": [
      "Best trial: 21. Best value: 0.0770544:  82%|████████▏ | 164/200 [02:24<00:29,  1.22it/s]"
     ]
    },
    {
     "name": "stdout",
     "output_type": "stream",
     "text": [
      "[I 2025-08-15 14:07:24,132] Trial 163 finished with value: 0.07864386251835732 and parameters: {'lookback': 23, 'num_layers': 2, 'hidden_size': 18, 'lr': 0.007053792328117438, 'batch_size': 64}. Best is trial 21 with value: 0.07705444270087482.\n"
     ]
    },
    {
     "name": "stderr",
     "output_type": "stream",
     "text": [
      "Best trial: 21. Best value: 0.0770544:  82%|████████▎ | 165/200 [02:25<00:25,  1.36it/s]"
     ]
    },
    {
     "name": "stdout",
     "output_type": "stream",
     "text": [
      "[I 2025-08-15 14:07:24,666] Trial 164 finished with value: 0.08141622176854221 and parameters: {'lookback': 7, 'num_layers': 3, 'hidden_size': 41, 'lr': 0.0091464197242882, 'batch_size': 64}. Best is trial 21 with value: 0.07705444270087482.\n"
     ]
    },
    {
     "name": "stderr",
     "output_type": "stream",
     "text": [
      "Best trial: 21. Best value: 0.0770544:  83%|████████▎ | 166/200 [02:26<00:23,  1.46it/s]"
     ]
    },
    {
     "name": "stdout",
     "output_type": "stream",
     "text": [
      "[I 2025-08-15 14:07:25,239] Trial 165 finished with value: 0.08081765217136253 and parameters: {'lookback': 26, 'num_layers': 3, 'hidden_size': 37, 'lr': 0.008066570101331364, 'batch_size': 64}. Best is trial 21 with value: 0.07705444270087482.\n"
     ]
    },
    {
     "name": "stderr",
     "output_type": "stream",
     "text": [
      "Best trial: 21. Best value: 0.0770544:  84%|████████▎ | 167/200 [02:26<00:21,  1.52it/s]"
     ]
    },
    {
     "name": "stdout",
     "output_type": "stream",
     "text": [
      "[I 2025-08-15 14:07:25,829] Trial 166 finished with value: 0.08209831332744451 and parameters: {'lookback': 9, 'num_layers': 3, 'hidden_size': 31, 'lr': 0.006584770977425882, 'batch_size': 64}. Best is trial 21 with value: 0.07705444270087482.\n"
     ]
    },
    {
     "name": "stderr",
     "output_type": "stream",
     "text": [
      "Best trial: 21. Best value: 0.0770544:  84%|████████▍ | 168/200 [02:26<00:18,  1.77it/s]"
     ]
    },
    {
     "name": "stdout",
     "output_type": "stream",
     "text": [
      "[I 2025-08-15 14:07:26,181] Trial 167 finished with value: 0.08054056382997608 and parameters: {'lookback': 1, 'num_layers': 3, 'hidden_size': 45, 'lr': 0.007440502751692547, 'batch_size': 64}. Best is trial 21 with value: 0.07705444270087482.\n"
     ]
    },
    {
     "name": "stderr",
     "output_type": "stream",
     "text": [
      "Best trial: 21. Best value: 0.0770544:  84%|████████▍ | 169/200 [02:27<00:17,  1.77it/s]"
     ]
    },
    {
     "name": "stdout",
     "output_type": "stream",
     "text": [
      "[I 2025-08-15 14:07:26,746] Trial 168 finished with value: 0.07866834224103211 and parameters: {'lookback': 22, 'num_layers': 2, 'hidden_size': 35, 'lr': 0.009979123859659298, 'batch_size': 64}. Best is trial 21 with value: 0.07705444270087482.\n"
     ]
    },
    {
     "name": "stderr",
     "output_type": "stream",
     "text": [
      "Best trial: 21. Best value: 0.0770544:  85%|████████▌ | 170/200 [02:28<00:18,  1.63it/s]"
     ]
    },
    {
     "name": "stdout",
     "output_type": "stream",
     "text": [
      "[I 2025-08-15 14:07:27,468] Trial 169 finished with value: 0.08175289461768102 and parameters: {'lookback': 25, 'num_layers': 3, 'hidden_size': 43, 'lr': 0.008308139679009837, 'batch_size': 64}. Best is trial 21 with value: 0.07705444270087482.\n"
     ]
    },
    {
     "name": "stderr",
     "output_type": "stream",
     "text": [
      "Best trial: 21. Best value: 0.0770544:  86%|████████▌ | 171/200 [02:29<00:19,  1.50it/s]"
     ]
    },
    {
     "name": "stdout",
     "output_type": "stream",
     "text": [
      "[I 2025-08-15 14:07:28,266] Trial 170 finished with value: 0.07851856689146172 and parameters: {'lookback': 20, 'num_layers': 3, 'hidden_size': 38, 'lr': 0.0059649445239501366, 'batch_size': 64}. Best is trial 21 with value: 0.07705444270087482.\n"
     ]
    },
    {
     "name": "stderr",
     "output_type": "stream",
     "text": [
      "Best trial: 21. Best value: 0.0770544:  86%|████████▌ | 172/200 [02:29<00:18,  1.49it/s]"
     ]
    },
    {
     "name": "stdout",
     "output_type": "stream",
     "text": [
      "[I 2025-08-15 14:07:28,952] Trial 171 finished with value: 0.07820716039089863 and parameters: {'lookback': 27, 'num_layers': 3, 'hidden_size': 39, 'lr': 0.006015174184660347, 'batch_size': 64}. Best is trial 21 with value: 0.07705444270087482.\n"
     ]
    },
    {
     "name": "stderr",
     "output_type": "stream",
     "text": [
      "Best trial: 21. Best value: 0.0770544:  86%|████████▋ | 173/200 [02:30<00:18,  1.45it/s]"
     ]
    },
    {
     "name": "stdout",
     "output_type": "stream",
     "text": [
      "[I 2025-08-15 14:07:29,685] Trial 172 finished with value: 0.07890606417371374 and parameters: {'lookback': 20, 'num_layers': 3, 'hidden_size': 42, 'lr': 0.005751530953070971, 'batch_size': 64}. Best is trial 21 with value: 0.07705444270087482.\n"
     ]
    },
    {
     "name": "stderr",
     "output_type": "stream",
     "text": [
      "Best trial: 21. Best value: 0.0770544:  87%|████████▋ | 174/200 [02:30<00:16,  1.57it/s]"
     ]
    },
    {
     "name": "stdout",
     "output_type": "stream",
     "text": [
      "[I 2025-08-15 14:07:30,188] Trial 173 finished with value: 0.08126077431822339 and parameters: {'lookback': 27, 'num_layers': 3, 'hidden_size': 39, 'lr': 0.005016462283097249, 'batch_size': 64}. Best is trial 21 with value: 0.07705444270087482.\n"
     ]
    },
    {
     "name": "stderr",
     "output_type": "stream",
     "text": [
      "Best trial: 21. Best value: 0.0770544:  88%|████████▊ | 175/200 [02:31<00:15,  1.61it/s]"
     ]
    },
    {
     "name": "stdout",
     "output_type": "stream",
     "text": [
      "[I 2025-08-15 14:07:30,778] Trial 174 finished with value: 0.07843184352800192 and parameters: {'lookback': 20, 'num_layers': 3, 'hidden_size': 41, 'lr': 0.006749173412013416, 'batch_size': 64}. Best is trial 21 with value: 0.07705444270087482.\n"
     ]
    },
    {
     "name": "stderr",
     "output_type": "stream",
     "text": [
      "Best trial: 21. Best value: 0.0770544:  88%|████████▊ | 176/200 [02:32<00:14,  1.65it/s]"
     ]
    },
    {
     "name": "stdout",
     "output_type": "stream",
     "text": [
      "[I 2025-08-15 14:07:31,356] Trial 175 finished with value: 0.08041471095608943 and parameters: {'lookback': 20, 'num_layers': 3, 'hidden_size': 41, 'lr': 0.005982280156198588, 'batch_size': 64}. Best is trial 21 with value: 0.07705444270087482.\n"
     ]
    },
    {
     "name": "stderr",
     "output_type": "stream",
     "text": [
      "Best trial: 21. Best value: 0.0770544:  88%|████████▊ | 177/200 [02:33<00:17,  1.35it/s]"
     ]
    },
    {
     "name": "stdout",
     "output_type": "stream",
     "text": [
      "[I 2025-08-15 14:07:32,410] Trial 176 finished with value: 0.07938527025464474 and parameters: {'lookback': 21, 'num_layers': 3, 'hidden_size': 44, 'lr': 0.0041384968667359185, 'batch_size': 32}. Best is trial 21 with value: 0.07705444270087482.\n"
     ]
    },
    {
     "name": "stderr",
     "output_type": "stream",
     "text": [
      "Best trial: 21. Best value: 0.0770544:  89%|████████▉ | 178/200 [02:34<00:17,  1.28it/s]"
     ]
    },
    {
     "name": "stdout",
     "output_type": "stream",
     "text": [
      "[I 2025-08-15 14:07:33,280] Trial 177 finished with value: 0.07861006027393465 and parameters: {'lookback': 19, 'num_layers': 3, 'hidden_size': 47, 'lr': 0.00633602506457939, 'batch_size': 64}. Best is trial 21 with value: 0.07705444270087482.\n"
     ]
    },
    {
     "name": "stderr",
     "output_type": "stream",
     "text": [
      "Best trial: 21. Best value: 0.0770544:  90%|████████▉ | 179/200 [02:34<00:16,  1.28it/s]"
     ]
    },
    {
     "name": "stdout",
     "output_type": "stream",
     "text": [
      "[I 2025-08-15 14:07:34,056] Trial 178 finished with value: 0.07879214603171657 and parameters: {'lookback': 27, 'num_layers': 3, 'hidden_size': 45, 'lr': 0.005357342690316204, 'batch_size': 64}. Best is trial 21 with value: 0.07705444270087482.\n"
     ]
    },
    {
     "name": "stderr",
     "output_type": "stream",
     "text": [
      "Best trial: 21. Best value: 0.0770544:  90%|█████████ | 180/200 [02:35<00:15,  1.33it/s]"
     ]
    },
    {
     "name": "stdout",
     "output_type": "stream",
     "text": [
      "[I 2025-08-15 14:07:34,738] Trial 179 finished with value: 0.07884544056842029 and parameters: {'lookback': 20, 'num_layers': 3, 'hidden_size': 40, 'lr': 0.007221853616244136, 'batch_size': 64}. Best is trial 21 with value: 0.07705444270087482.\n"
     ]
    },
    {
     "name": "stderr",
     "output_type": "stream",
     "text": [
      "Best trial: 21. Best value: 0.0770544:  90%|█████████ | 181/200 [02:36<00:14,  1.32it/s]"
     ]
    },
    {
     "name": "stdout",
     "output_type": "stream",
     "text": [
      "[I 2025-08-15 14:07:35,505] Trial 180 finished with value: 0.07998467181706508 and parameters: {'lookback': 21, 'num_layers': 3, 'hidden_size': 36, 'lr': 0.004776213179654967, 'batch_size': 64}. Best is trial 21 with value: 0.07705444270087482.\n"
     ]
    },
    {
     "name": "stderr",
     "output_type": "stream",
     "text": [
      "Best trial: 21. Best value: 0.0770544:  91%|█████████ | 182/200 [02:36<00:13,  1.37it/s]"
     ]
    },
    {
     "name": "stdout",
     "output_type": "stream",
     "text": [
      "[I 2025-08-15 14:07:36,175] Trial 181 finished with value: 0.08025303854897173 and parameters: {'lookback': 28, 'num_layers': 3, 'hidden_size': 37, 'lr': 0.006857206652509218, 'batch_size': 64}. Best is trial 21 with value: 0.07705444270087482.\n"
     ]
    },
    {
     "name": "stderr",
     "output_type": "stream",
     "text": [
      "Best trial: 21. Best value: 0.0770544:  92%|█████████▏| 183/200 [02:37<00:12,  1.34it/s]"
     ]
    },
    {
     "name": "stdout",
     "output_type": "stream",
     "text": [
      "[I 2025-08-15 14:07:36,967] Trial 182 finished with value: 0.07863966955654865 and parameters: {'lookback': 23, 'num_layers': 3, 'hidden_size': 42, 'lr': 0.007838323622177347, 'batch_size': 64}. Best is trial 21 with value: 0.07705444270087482.\n"
     ]
    },
    {
     "name": "stderr",
     "output_type": "stream",
     "text": [
      "Best trial: 21. Best value: 0.0770544:  92%|█████████▏| 184/200 [02:39<00:14,  1.09it/s]"
     ]
    },
    {
     "name": "stdout",
     "output_type": "stream",
     "text": [
      "[I 2025-08-15 14:07:38,280] Trial 183 finished with value: 0.07931351341670559 and parameters: {'lookback': 9, 'num_layers': 3, 'hidden_size': 39, 'lr': 0.002183433622453448, 'batch_size': 64}. Best is trial 21 with value: 0.07705444270087482.\n"
     ]
    },
    {
     "name": "stderr",
     "output_type": "stream",
     "text": [
      "Best trial: 21. Best value: 0.0770544:  92%|█████████▎| 185/200 [02:39<00:11,  1.26it/s]"
     ]
    },
    {
     "name": "stdout",
     "output_type": "stream",
     "text": [
      "[I 2025-08-15 14:07:38,789] Trial 184 finished with value: 0.07926219985445264 and parameters: {'lookback': 11, 'num_layers': 3, 'hidden_size': 41, 'lr': 0.006227556336081654, 'batch_size': 64}. Best is trial 21 with value: 0.07705444270087482.\n"
     ]
    },
    {
     "name": "stderr",
     "output_type": "stream",
     "text": [
      "Best trial: 21. Best value: 0.0770544:  93%|█████████▎| 186/200 [02:40<00:10,  1.37it/s]"
     ]
    },
    {
     "name": "stdout",
     "output_type": "stream",
     "text": [
      "[I 2025-08-15 14:07:39,370] Trial 185 finished with value: 0.08120190165012227 and parameters: {'lookback': 29, 'num_layers': 3, 'hidden_size': 38, 'lr': 0.009015945810770072, 'batch_size': 64}. Best is trial 21 with value: 0.07705444270087482.\n"
     ]
    },
    {
     "name": "stderr",
     "output_type": "stream",
     "text": [
      "Best trial: 21. Best value: 0.0770544:  94%|█████████▎| 187/200 [02:40<00:09,  1.44it/s]"
     ]
    },
    {
     "name": "stdout",
     "output_type": "stream",
     "text": [
      "[I 2025-08-15 14:07:39,986] Trial 186 finished with value: 0.07825887424616051 and parameters: {'lookback': 22, 'num_layers': 3, 'hidden_size': 44, 'lr': 0.008274571783479049, 'batch_size': 64}. Best is trial 21 with value: 0.07705444270087482.\n"
     ]
    },
    {
     "name": "stderr",
     "output_type": "stream",
     "text": [
      "Best trial: 21. Best value: 0.0770544:  94%|█████████▍| 188/200 [02:41<00:08,  1.45it/s]"
     ]
    },
    {
     "name": "stdout",
     "output_type": "stream",
     "text": [
      "[I 2025-08-15 14:07:40,646] Trial 187 finished with value: 0.07922120139738369 and parameters: {'lookback': 22, 'num_layers': 3, 'hidden_size': 48, 'lr': 0.005714105402623724, 'batch_size': 64}. Best is trial 21 with value: 0.07705444270087482.\n"
     ]
    },
    {
     "name": "stderr",
     "output_type": "stream",
     "text": [
      "Best trial: 21. Best value: 0.0770544:  94%|█████████▍| 189/200 [02:41<00:07,  1.57it/s]"
     ]
    },
    {
     "name": "stdout",
     "output_type": "stream",
     "text": [
      "[I 2025-08-15 14:07:41,178] Trial 188 finished with value: 0.08104183684680483 and parameters: {'lookback': 22, 'num_layers': 3, 'hidden_size': 44, 'lr': 0.006782050930841217, 'batch_size': 64}. Best is trial 21 with value: 0.07705444270087482.\n"
     ]
    },
    {
     "name": "stderr",
     "output_type": "stream",
     "text": [
      "Best trial: 21. Best value: 0.0770544:  95%|█████████▌| 190/200 [02:42<00:07,  1.38it/s]"
     ]
    },
    {
     "name": "stdout",
     "output_type": "stream",
     "text": [
      "[I 2025-08-15 14:07:42,099] Trial 189 finished with value: 0.0790282442801982 and parameters: {'lookback': 19, 'num_layers': 3, 'hidden_size': 46, 'lr': 0.00750375762290634, 'batch_size': 64}. Best is trial 21 with value: 0.07705444270087482.\n"
     ]
    },
    {
     "name": "stderr",
     "output_type": "stream",
     "text": [
      "Best trial: 21. Best value: 0.0770544:  96%|█████████▌| 191/200 [02:43<00:06,  1.39it/s]"
     ]
    },
    {
     "name": "stdout",
     "output_type": "stream",
     "text": [
      "[I 2025-08-15 14:07:42,811] Trial 190 finished with value: 0.08349328802133474 and parameters: {'lookback': 20, 'num_layers': 3, 'hidden_size': 43, 'lr': 0.008067198109770388, 'batch_size': 64}. Best is trial 21 with value: 0.07705444270087482.\n"
     ]
    },
    {
     "name": "stderr",
     "output_type": "stream",
     "text": [
      "Best trial: 21. Best value: 0.0770544:  96%|█████████▌| 192/200 [02:44<00:06,  1.32it/s]"
     ]
    },
    {
     "name": "stdout",
     "output_type": "stream",
     "text": [
      "[I 2025-08-15 14:07:43,662] Trial 191 finished with value: 0.07803169158924861 and parameters: {'lookback': 27, 'num_layers': 3, 'hidden_size': 40, 'lr': 0.009292859214318239, 'batch_size': 64}. Best is trial 21 with value: 0.07705444270087482.\n"
     ]
    },
    {
     "name": "stderr",
     "output_type": "stream",
     "text": [
      "Best trial: 21. Best value: 0.0770544:  96%|█████████▋| 193/200 [02:45<00:05,  1.36it/s]"
     ]
    },
    {
     "name": "stdout",
     "output_type": "stream",
     "text": [
      "[I 2025-08-15 14:07:44,336] Trial 192 finished with value: 0.07886220297174269 and parameters: {'lookback': 27, 'num_layers': 3, 'hidden_size': 40, 'lr': 0.009542729781019372, 'batch_size': 64}. Best is trial 21 with value: 0.07705444270087482.\n"
     ]
    },
    {
     "name": "stderr",
     "output_type": "stream",
     "text": [
      "Best trial: 21. Best value: 0.0770544:  97%|█████████▋| 194/200 [02:45<00:04,  1.34it/s]"
     ]
    },
    {
     "name": "stdout",
     "output_type": "stream",
     "text": [
      "[I 2025-08-15 14:07:45,114] Trial 193 finished with value: 0.07889489478713903 and parameters: {'lookback': 27, 'num_layers': 3, 'hidden_size': 42, 'lr': 0.008221463004196948, 'batch_size': 64}. Best is trial 21 with value: 0.07705444270087482.\n"
     ]
    },
    {
     "name": "stderr",
     "output_type": "stream",
     "text": [
      "Best trial: 21. Best value: 0.0770544:  98%|█████████▊| 195/200 [02:46<00:03,  1.29it/s]"
     ]
    },
    {
     "name": "stdout",
     "output_type": "stream",
     "text": [
      "[I 2025-08-15 14:07:45,950] Trial 194 finished with value: 0.07804790109845142 and parameters: {'lookback': 26, 'num_layers': 3, 'hidden_size': 49, 'lr': 0.007438939218760128, 'batch_size': 64}. Best is trial 21 with value: 0.07705444270087482.\n"
     ]
    },
    {
     "name": "stderr",
     "output_type": "stream",
     "text": [
      "Best trial: 21. Best value: 0.0770544:  98%|█████████▊| 196/200 [02:47<00:02,  1.42it/s]"
     ]
    },
    {
     "name": "stdout",
     "output_type": "stream",
     "text": [
      "[I 2025-08-15 14:07:46,502] Trial 195 finished with value: 0.07875374746105465 and parameters: {'lookback': 26, 'num_layers': 3, 'hidden_size': 50, 'lr': 0.007382888758676273, 'batch_size': 64}. Best is trial 21 with value: 0.07705444270087482.\n"
     ]
    },
    {
     "name": "stderr",
     "output_type": "stream",
     "text": [
      "Best trial: 21. Best value: 0.0770544:  98%|█████████▊| 197/200 [02:47<00:02,  1.49it/s]"
     ]
    },
    {
     "name": "stdout",
     "output_type": "stream",
     "text": [
      "[I 2025-08-15 14:07:47,085] Trial 196 finished with value: 0.07941043102142323 and parameters: {'lookback': 26, 'num_layers': 3, 'hidden_size': 49, 'lr': 0.00994862834246523, 'batch_size': 64}. Best is trial 21 with value: 0.07705444270087482.\n"
     ]
    },
    {
     "name": "stderr",
     "output_type": "stream",
     "text": [
      "Best trial: 21. Best value: 0.0770544:  99%|█████████▉| 198/200 [02:48<00:01,  1.66it/s]"
     ]
    },
    {
     "name": "stdout",
     "output_type": "stream",
     "text": [
      "[I 2025-08-15 14:07:47,526] Trial 197 finished with value: 0.08074478810454395 and parameters: {'lookback': 28, 'num_layers': 3, 'hidden_size': 45, 'lr': 0.009012086745973905, 'batch_size': 64}. Best is trial 21 with value: 0.07705444270087482.\n"
     ]
    },
    {
     "name": "stderr",
     "output_type": "stream",
     "text": [
      "Best trial: 21. Best value: 0.0770544: 100%|█████████▉| 199/200 [02:48<00:00,  1.73it/s]"
     ]
    },
    {
     "name": "stdout",
     "output_type": "stream",
     "text": [
      "[I 2025-08-15 14:07:48,049] Trial 198 finished with value: 0.07913678385269918 and parameters: {'lookback': 27, 'num_layers': 3, 'hidden_size': 46, 'lr': 0.008327128470379402, 'batch_size': 64}. Best is trial 21 with value: 0.07705444270087482.\n"
     ]
    },
    {
     "name": "stderr",
     "output_type": "stream",
     "text": [
      "Best trial: 21. Best value: 0.0770544: 100%|██████████| 200/200 [02:49<00:00,  1.18it/s]\n"
     ]
    },
    {
     "name": "stdout",
     "output_type": "stream",
     "text": [
      "[I 2025-08-15 14:07:48,611] Trial 199 finished with value: 0.07965349125084574 and parameters: {'lookback': 25, 'num_layers': 3, 'hidden_size': 43, 'lr': 0.006656677552668798, 'batch_size': 64}. Best is trial 21 with value: 0.07705444270087482.\n",
      "Best hyperparameters: {'lookback': 22, 'num_layers': 3, 'hidden_size': 42, 'lr': 0.009991758886584622, 'batch_size': 64}\n",
      "Best validation RMSE: 0.07705444270087482\n",
      "Rolling Forecast Test Metrics: {\n",
      "  \"MSE\": 725.7067535349146,\n",
      "  \"RMSE\": 26.938944922452226,\n",
      "  \"MAE\": 26.034363865099454,\n",
      "  \"MAPE%\": 40.649137620393766,\n",
      "  \"R2\": -19.7147889074464\n",
      "}\n"
     ]
    },
    {
     "data": {
      "image/png": "[encoded data removed]",
      "text/plain": [
       "<Figure size 1200x500 with 1 Axes>"
      ]
     },
     "metadata": {},
     "output_type": "display_data"
    }
   ],
   "source": [
    "\"\"\"\n",
    "Modified: Carbon Price Forecasting with PyTorch RNN (Simple)\n",
    "- Hyperparameters tuned via Optuna: lookback, n_layers, hidden_size, learning_rate, batch_size\n",
    "- Proper scaling (train-only during tuning; train+val for final model)\n",
    "- Time split: Train=2021-01-01..2023-12-31 (last 10% of that for val); Test=2024-01-01..2024-12-31\n",
    "- Rolling (recursive) forecast on the 2024 test set\n",
    "\n",
    "Requirements: pip install optuna torch scikit-learn matplotlib pandas\n",
    "\"\"\"\n",
    "\n",
    "import os\n",
    "import math\n",
    "import json\n",
    "import random\n",
    "import numpy as np\n",
    "import pandas as pd\n",
    "import matplotlib.pyplot as plt\n",
    "\n",
    "import torch\n",
    "import torch.nn as nn\n",
    "from torch.utils.data import Dataset, DataLoader\n",
    "\n",
    "from sklearn.preprocessing import StandardScaler\n",
    "from sklearn.metrics import mean_squared_error, mean_absolute_error, r2_score\n",
    "import optuna\n",
    "\n",
    "# -------------------- Config --------------------\n",
    "RANDOM_STATE = 42\n",
    "CSV_PATH = \"Carbon_Emissions_Futures_2021_Onwards.csv\"  # <--- change if needed\n",
    "DATE_COL = \"Date\"\n",
    "TARGET_COL = \"Price\"\n",
    "\n",
    "# Reproducibility\n",
    "random.seed(RANDOM_STATE)\n",
    "np.random.seed(RANDOM_STATE)\n",
    "torch.manual_seed(RANDOM_STATE)\n",
    "\n",
    "# -------------------- Data utils --------------------\n",
    "def _parse_volume(v):\n",
    "    if pd.isna(v):\n",
    "        return np.nan\n",
    "    if isinstance(v, (int, float)):\n",
    "        return float(v)\n",
    "    s = str(v).strip().replace(\",\", \"\")\n",
    "    if s.endswith((\"K\",\"k\")):\n",
    "        return float(s[:-1]) * 1_000\n",
    "    if s.endswith((\"M\",\"m\")):\n",
    "        return float(s[:-1]) * 1_000_000\n",
    "    return float(s)\n",
    "\n",
    "\n",
    "def clean_dataframe(df: pd.DataFrame) -> pd.DataFrame:\n",
    "    df = df.copy()\n",
    "    df.rename(columns={\"Vol.\": \"Volume\", \"Change %\": \"ChangePct\"}, inplace=True)\n",
    "    df[DATE_COL] = pd.to_datetime(df[DATE_COL], dayfirst=True, errors='coerce')\n",
    "    for col in [\"Price\", \"Open\", \"High\", \"Low\"]:\n",
    "        df[col] = pd.to_numeric(df[col], errors='coerce')\n",
    "    if \"Volume\" in df:\n",
    "        df[\"Volume\"] = df[\"Volume\"].apply(_parse_volume)\n",
    "    if \"ChangePct\" in df:\n",
    "        df[\"ChangePct\"] = pd.to_numeric(df[\"ChangePct\"].astype(str).str.replace('%',''), errors='coerce') / 100.0\n",
    "    df = df.dropna(subset=[DATE_COL]).sort_values(DATE_COL).reset_index(drop=True)\n",
    "    return df\n",
    "\n",
    "\n",
    "def train_val_test_split(df: pd.DataFrame):\n",
    "    train_mask = (df[DATE_COL] >= '2021-01-01') & (df[DATE_COL] <= '2023-12-31')\n",
    "    test_mask  = (df[DATE_COL] >= '2024-01-01') & (df[DATE_COL] <= '2024-12-31')\n",
    "    df_train_full = df.loc[train_mask].copy()\n",
    "    df_test = df.loc[test_mask].copy()\n",
    "    split_idx = int(len(df_train_full) * 0.9)\n",
    "    return df_train_full.iloc[:split_idx], df_train_full.iloc[split_idx:], df_test\n",
    "\n",
    "\n",
    "def create_sequences(series_2d: np.ndarray, lookback: int):\n",
    "    \"\"\"series_2d shape: (N, 1). Returns X: (N-lookback, lookback, 1), y: (N-lookback,).\n",
    "    \"\"\"\n",
    "    X, y = [], []\n",
    "    for i in range(lookback, len(series_2d)):\n",
    "        X.append(series_2d[i-lookback:i])\n",
    "        y.append(series_2d[i, 0])\n",
    "    return np.asarray(X, dtype=np.float32), np.asarray(y, dtype=np.float32)\n",
    "\n",
    "\n",
    "class SeqDataset(Dataset):\n",
    "    def __init__(self, X: np.ndarray, y: np.ndarray):\n",
    "        self.X = X\n",
    "        self.y = y\n",
    "    def __len__(self):\n",
    "        return len(self.X)\n",
    "    def __getitem__(self, idx):\n",
    "        return self.X[idx], self.y[idx]\n",
    "\n",
    "\n",
    "# -------------------- Model (Modified) --------------------\n",
    "class RNNRegressor(nn.Module):\n",
    "    def __init__(self, input_size: int, hidden_size: int, num_layers: int):\n",
    "        super().__init__()\n",
    "        # Use nn.RNN instead of nn.LSTM\n",
    "        self.rnn = nn.RNN(input_size=input_size, hidden_size=hidden_size, num_layers=num_layers, batch_first=True)\n",
    "        self.head = nn.Linear(hidden_size, 1)\n",
    "    def forward(self, x):  # x: (B, T, F)\n",
    "        # nn.RNN returns (output, h_n), so we only take the output\n",
    "        out, h_n = self.rnn(x)\n",
    "        last = out[:, -1, :] # Use the output from the last time step\n",
    "        return self.head(last).squeeze(-1)\n",
    "\n",
    "\n",
    "# -------------------- Metrics --------------------\n",
    "def evaluate_metrics(y_true, y_pred):\n",
    "    mse = mean_squared_error(y_true, y_pred)\n",
    "    rmse = math.sqrt(mse)\n",
    "    mae = mean_absolute_error(y_true, y_pred)\n",
    "    mape = np.mean(np.abs((y_true - y_pred) / np.clip(np.abs(y_true), 1e-8, None))) * 100\n",
    "    r2 = r2_score(y_true, y_pred)\n",
    "    return {\"MSE\": mse, \"RMSE\": rmse, \"MAE\": mae, \"MAPE%\": mape, \"R2\": r2}\n",
    "\n",
    "\n",
    "# -------------------- Training loop --------------------\n",
    "def train_epoch(model, loader, criterion, optimizer, device):\n",
    "    model.train()\n",
    "    total = 0.0\n",
    "    for xb, yb in loader:\n",
    "        xb = xb.to(device)\n",
    "        yb = yb.to(device)\n",
    "        optimizer.zero_grad()\n",
    "        pred = model(xb)\n",
    "        loss = criterion(pred, yb)\n",
    "        loss.backward()\n",
    "        optimizer.step()\n",
    "        total += loss.item() * xb.size(0)\n",
    "    return total / len(loader.dataset)\n",
    "\n",
    "\n",
    "def eval_epoch(model, loader, criterion, device):\n",
    "    model.eval()\n",
    "    total = 0.0\n",
    "    with torch.no_grad():\n",
    "        for xb, yb in loader:\n",
    "            xb = xb.to(device)\n",
    "            yb = yb.to(device)\n",
    "            pred = model(xb)\n",
    "            loss = criterion(pred, yb)\n",
    "            total += loss.item() * xb.size(0)\n",
    "    return total / len(loader.dataset)\n",
    "\n",
    "\n",
    "# -------------------- Main --------------------\n",
    "if __name__ == \"__main__\":\n",
    "    device = torch.device(\"cuda\" if torch.cuda.is_available() else \"cpu\")\n",
    "    print(f\"Using device: {device}\")\n",
    "\n",
    "    # 1) Load & clean\n",
    "    raw = pd.read_csv(CSV_PATH)\n",
    "    df = clean_dataframe(raw)\n",
    "\n",
    "    # 2) Split\n",
    "    df_train, df_val, df_test = train_val_test_split(df)\n",
    "\n",
    "    # 3) Scale (train-only for tuning)\n",
    "    scaler = StandardScaler()\n",
    "    train_scaled = scaler.fit_transform(df_train[[TARGET_COL]])\n",
    "    val_scaled   = scaler.transform(df_val[[TARGET_COL]])\n",
    "\n",
    "    # -------- Optuna objective --------\n",
    "    def objective(trial: optuna.Trial):\n",
    "        lookback   = trial.suggest_int(\"lookback\", 1, 30)\n",
    "        num_layers = trial.suggest_int(\"num_layers\", 1, 3)\n",
    "        hidden_sz  = trial.suggest_int(\"hidden_size\", 16, 128, log=True)\n",
    "        lr         = trial.suggest_float(\"lr\", 1e-4, 1e-2, log=True)\n",
    "        batch_size = trial.suggest_categorical(\"batch_size\", [16, 32, 64])\n",
    "        epochs     = 100\n",
    "\n",
    "        Xtr, ytr = create_sequences(train_scaled, lookback)\n",
    "        # To create validation sequences, prepend last lookback rows of train to val\n",
    "        Xval_in = np.vstack([train_scaled[-lookback:], val_scaled])\n",
    "        yval_in = np.concatenate([train_scaled[-lookback:,0], val_scaled[:,0]])\n",
    "        Xva, yva = create_sequences(Xval_in, lookback)\n",
    "\n",
    "        train_ds = SeqDataset(Xtr, ytr)\n",
    "        val_ds   = SeqDataset(Xva, yva)\n",
    "        train_ld = DataLoader(train_ds, batch_size=batch_size, shuffle=True)\n",
    "        val_ld   = DataLoader(val_ds, batch_size=batch_size, shuffle=False)\n",
    "\n",
    "        # Use RNNRegressor instead of LSTMRegressor\n",
    "        model = RNNRegressor(input_size=1, hidden_size=hidden_sz, num_layers=num_layers).to(device)\n",
    "        optimizer = torch.optim.Adam(model.parameters(), lr=lr)\n",
    "        criterion = nn.MSELoss()\n",
    "\n",
    "        best_val = float('inf')\n",
    "        patience, wait = 5, 0\n",
    "\n",
    "        for epoch in range(epochs):\n",
    "            train_epoch(model, train_ld, criterion, optimizer, device)\n",
    "            val_loss = eval_epoch(model, val_ld, criterion, device)\n",
    "            if val_loss < best_val - 1e-6:\n",
    "                best_val = val_loss\n",
    "                wait = 0\n",
    "            else:\n",
    "                wait += 1\n",
    "                if wait >= patience:\n",
    "                    break\n",
    "\n",
    "        return math.sqrt(best_val)  # RMSE\n",
    "\n",
    "    study = optuna.create_study(direction=\"minimize\")\n",
    "    study.optimize(objective, n_trials=200, n_jobs=1, show_progress_bar=True)\n",
    "\n",
    "    print(\"Best hyperparameters:\", study.best_params)\n",
    "    print(\"Best validation RMSE:\", study.best_value)\n",
    "\n",
    "    # 4) Final train on train+val with best params\n",
    "    best = study.best_params\n",
    "    lookback   = best[\"lookback\"]\n",
    "    num_layers = best[\"num_layers\"]\n",
    "    hidden_sz  = best[\"hidden_size\"]\n",
    "    lr         = best[\"lr\"]\n",
    "    batch_size = best[\"batch_size\"]\n",
    "\n",
    "    full_scaler = StandardScaler()\n",
    "    trainval_scaled = full_scaler.fit_transform(pd.concat([df_train, df_val])[ [TARGET_COL] ])\n",
    "\n",
    "    Xtrv, ytrv = create_sequences(trainval_scaled, lookback)\n",
    "    trainval_ds = SeqDataset(Xtrv, ytrv)\n",
    "    trainval_ld = DataLoader(trainval_ds, batch_size=batch_size, shuffle=True)\n",
    "\n",
    "    # Use RNNRegressor instead of LSTMRegressor\n",
    "    model_final = RNNRegressor(input_size=1, hidden_size=hidden_sz, num_layers=num_layers).to(device)\n",
    "    optimizer   = torch.optim.Adam(model_final.parameters(), lr=lr)\n",
    "    criterion   = nn.MSELoss()\n",
    "\n",
    "    EPOCHS_FINAL = 50\n",
    "    for _ in range(EPOCHS_FINAL):\n",
    "        train_epoch(model_final, trainval_ld, criterion, optimizer, device)\n",
    "\n",
    "    # 5) Rolling forecast on test set (recursive, on scaled values)\n",
    "    history = trainval_scaled.tolist()  # list of [scaled_price]\n",
    "    preds_scaled = []\n",
    "    with torch.no_grad():\n",
    "        for _ in range(len(df_test)):\n",
    "            x_in = np.array(history[-lookback:]).reshape(1, lookback, 1).astype(np.float32)\n",
    "            x_tensor = torch.from_numpy(x_in).to(device)\n",
    "            yhat = model_final(x_tensor).cpu().numpy().ravel()[0]\n",
    "            preds_scaled.append(yhat)\n",
    "            history.append([yhat])  # append predicted (scaled) value for next step\n",
    "\n",
    "    preds = full_scaler.inverse_transform(np.array(preds_scaled).reshape(-1,1)).ravel()\n",
    "\n",
    "    # 6) Metrics & Plot\n",
    "    y_test = df_test[TARGET_COL].values\n",
    "    metrics = evaluate_metrics(y_test, preds)\n",
    "    print(\"Rolling Forecast Test Metrics:\", json.dumps(metrics, indent=2))\n",
    "\n",
    "    plt.figure(figsize=(12,5))\n",
    "    plt.plot(df_test[DATE_COL], y_test, label='Actual')\n",
    "    plt.plot(df_test[DATE_COL], preds, label='Predicted', linestyle='--')\n",
    "    plt.title('PyTorch RNN (Simple) Rolling Forecast — Actual vs Predicted (2024)')\n",
    "    plt.xlabel('Date')\n",
    "    plt.ylabel('Price')\n",
    "    plt.legend()\n",
    "    plt.tight_layout()\n",
    "    plt.show()\n",
    "\n",
    "    # # Save best params for reproducibility\n",
    "    # with open('best_rnn_params.json', 'w') as f:\n",
    "    #     json.dump({\"best_params\": study.best_params, \"best_val_rmse\": study.best_value}, f, indent=2)\n",
    "    # print(\"Saved best params to best_rnn_params.json\")"
   ]
  },
  {
   "cell_type": "code",
   "execution_count": 11,
   "id": "cb504fea",
   "metadata": {},
   "outputs": [
    {
     "name": "stderr",
     "output_type": "stream",
     "text": [
      "[I 2025-08-15 17:34:40,773] A new study created in memory with name: no-name-e3ff7811-a34c-48ff-8c68-fe1998b92315\n"
     ]
    },
    {
     "name": "stdout",
     "output_type": "stream",
     "text": [
      "Using device: cuda\n"
     ]
    },
    {
     "name": "stderr",
     "output_type": "stream",
     "text": [
      "[I 2025-08-15 17:34:41,204] Trial 0 finished with value: 0.0825674291016698 and parameters: {'lookback': 13, 'num_layers': 3, 'hidden_size': 39, 'lr': 0.007216367436544508, 'batch_size': 64}. Best is trial 0 with value: 0.0825674291016698.\n",
      "[I 2025-08-15 17:34:48,377] Trial 1 finished with value: 0.08372334072263865 and parameters: {'lookback': 5, 'num_layers': 3, 'hidden_size': 74, 'lr': 0.00013050607747187637, 'batch_size': 16}. Best is trial 0 with value: 0.0825674291016698.\n",
      "[I 2025-08-15 17:34:49,231] Trial 2 finished with value: 0.08226018898860987 and parameters: {'lookback': 18, 'num_layers': 3, 'hidden_size': 51, 'lr': 0.008446410318457808, 'batch_size': 32}. Best is trial 2 with value: 0.08226018898860987.\n",
      "[I 2025-08-15 17:34:50,500] Trial 3 finished with value: 0.09135890585645774 and parameters: {'lookback': 19, 'num_layers': 2, 'hidden_size': 63, 'lr': 0.0004304913362947718, 'batch_size': 32}. Best is trial 2 with value: 0.08226018898860987.\n",
      "[I 2025-08-15 17:34:50,824] Trial 4 finished with value: 0.15913508223665282 and parameters: {'lookback': 14, 'num_layers': 1, 'hidden_size': 37, 'lr': 0.0002980553006910145, 'batch_size': 64}. Best is trial 2 with value: 0.08226018898860987.\n",
      "[I 2025-08-15 17:34:52,704] Trial 5 finished with value: 0.07927569293384229 and parameters: {'lookback': 30, 'num_layers': 1, 'hidden_size': 94, 'lr': 0.002111400065470045, 'batch_size': 16}. Best is trial 5 with value: 0.07927569293384229.\n",
      "[I 2025-08-15 17:34:54,736] Trial 6 finished with value: 0.11476712322920112 and parameters: {'lookback': 24, 'num_layers': 1, 'hidden_size': 36, 'lr': 0.00039228316323228, 'batch_size': 16}. Best is trial 5 with value: 0.07927569293384229.\n",
      "[I 2025-08-15 17:34:55,982] Trial 7 finished with value: 0.07983639256636493 and parameters: {'lookback': 4, 'num_layers': 3, 'hidden_size': 89, 'lr': 0.0026190096737652383, 'batch_size': 64}. Best is trial 5 with value: 0.07927569293384229.\n",
      "[I 2025-08-15 17:34:58,831] Trial 8 finished with value: 0.09176934828992095 and parameters: {'lookback': 9, 'num_layers': 2, 'hidden_size': 38, 'lr': 0.00036139283236958107, 'batch_size': 32}. Best is trial 5 with value: 0.07927569293384229.\n",
      "[I 2025-08-15 17:35:00,868] Trial 9 finished with value: 0.0787644693561029 and parameters: {'lookback': 12, 'num_layers': 2, 'hidden_size': 16, 'lr': 0.006340455215130805, 'batch_size': 32}. Best is trial 9 with value: 0.0787644693561029.\n",
      "[I 2025-08-15 17:35:02,065] Trial 10 finished with value: 0.0884835010277393 and parameters: {'lookback': 10, 'num_layers': 2, 'hidden_size': 16, 'lr': 0.003288035793115744, 'batch_size': 32}. Best is trial 9 with value: 0.0787644693561029.\n",
      "[I 2025-08-15 17:35:05,254] Trial 11 finished with value: 0.08411945766061513 and parameters: {'lookback': 30, 'num_layers': 1, 'hidden_size': 16, 'lr': 0.0018108798622330055, 'batch_size': 16}. Best is trial 9 with value: 0.0787644693561029.\n",
      "[I 2025-08-15 17:35:07,490] Trial 12 finished with value: 0.07990688126750382 and parameters: {'lookback': 30, 'num_layers': 2, 'hidden_size': 117, 'lr': 0.0011634190112997276, 'batch_size': 16}. Best is trial 9 with value: 0.0787644693561029.\n",
      "[I 2025-08-15 17:35:10,025] Trial 13 finished with value: 0.07960177248616404 and parameters: {'lookback': 23, 'num_layers': 1, 'hidden_size': 23, 'lr': 0.0048078992244261496, 'batch_size': 16}. Best is trial 9 with value: 0.0787644693561029.\n",
      "[I 2025-08-15 17:35:11,085] Trial 14 finished with value: 0.11613423891172016 and parameters: {'lookback': 24, 'num_layers': 1, 'hidden_size': 24, 'lr': 0.0010223358354549603, 'batch_size': 32}. Best is trial 9 with value: 0.0787644693561029.\n",
      "[I 2025-08-15 17:35:12,032] Trial 15 finished with value: 0.07859650449721278 and parameters: {'lookback': 9, 'num_layers': 2, 'hidden_size': 126, 'lr': 0.004522903067762821, 'batch_size': 32}. Best is trial 15 with value: 0.07859650449721278.\n",
      "[I 2025-08-15 17:35:13,541] Trial 16 finished with value: 0.07964451400250493 and parameters: {'lookback': 7, 'num_layers': 2, 'hidden_size': 26, 'lr': 0.004635371126947903, 'batch_size': 32}. Best is trial 15 with value: 0.07859650449721278.\n",
      "[I 2025-08-15 17:35:14,871] Trial 17 finished with value: 0.08074725230871836 and parameters: {'lookback': 2, 'num_layers': 2, 'hidden_size': 54, 'lr': 0.009972084901910861, 'batch_size': 32}. Best is trial 15 with value: 0.07859650449721278.\n",
      "[I 2025-08-15 17:35:15,775] Trial 18 finished with value: 0.08033595125752435 and parameters: {'lookback': 13, 'num_layers': 2, 'hidden_size': 111, 'lr': 0.004472376055058748, 'batch_size': 32}. Best is trial 15 with value: 0.07859650449721278.\n",
      "[I 2025-08-15 17:35:16,956] Trial 19 finished with value: 0.10403025139511105 and parameters: {'lookback': 8, 'num_layers': 2, 'hidden_size': 28, 'lr': 0.0007023587939778321, 'batch_size': 32}. Best is trial 15 with value: 0.07859650449721278.\n",
      "[I 2025-08-15 17:35:18,724] Trial 20 finished with value: 0.08490038592129769 and parameters: {'lookback': 11, 'num_layers': 3, 'hidden_size': 20, 'lr': 0.001427522115699845, 'batch_size': 32}. Best is trial 15 with value: 0.07859650449721278.\n",
      "[I 2025-08-15 17:35:21,640] Trial 21 finished with value: 0.08078874454512008 and parameters: {'lookback': 16, 'num_layers': 1, 'hidden_size': 86, 'lr': 0.0027020309949934347, 'batch_size': 16}. Best is trial 15 with value: 0.07859650449721278.\n",
      "[I 2025-08-15 17:35:23,275] Trial 22 finished with value: 0.0790443674017085 and parameters: {'lookback': 21, 'num_layers': 2, 'hidden_size': 123, 'lr': 0.002182903857561546, 'batch_size': 16}. Best is trial 15 with value: 0.07859650449721278.\n",
      "[I 2025-08-15 17:35:24,030] Trial 23 finished with value: 0.08034360470013119 and parameters: {'lookback': 21, 'num_layers': 2, 'hidden_size': 128, 'lr': 0.006155004129264322, 'batch_size': 64}. Best is trial 15 with value: 0.07859650449721278.\n",
      "[I 2025-08-15 17:35:25,621] Trial 24 finished with value: 0.07839787760249 and parameters: {'lookback': 16, 'num_layers': 2, 'hidden_size': 71, 'lr': 0.003921254238033798, 'batch_size': 32}. Best is trial 24 with value: 0.07839787760249.\n",
      "[I 2025-08-15 17:35:26,645] Trial 25 finished with value: 0.07968056497800356 and parameters: {'lookback': 16, 'num_layers': 2, 'hidden_size': 68, 'lr': 0.0033570771907338644, 'batch_size': 32}. Best is trial 24 with value: 0.07839787760249.\n",
      "[I 2025-08-15 17:35:27,600] Trial 26 finished with value: 0.07905251276446718 and parameters: {'lookback': 12, 'num_layers': 2, 'hidden_size': 48, 'lr': 0.006042492043264017, 'batch_size': 32}. Best is trial 24 with value: 0.07839787760249.\n",
      "[I 2025-08-15 17:35:29,100] Trial 27 finished with value: 0.08093650592543863 and parameters: {'lookback': 15, 'num_layers': 3, 'hidden_size': 101, 'lr': 0.0038481020637831467, 'batch_size': 32}. Best is trial 24 with value: 0.07839787760249.\n",
      "[I 2025-08-15 17:35:31,439] Trial 28 finished with value: 0.08240626796160155 and parameters: {'lookback': 6, 'num_layers': 2, 'hidden_size': 58, 'lr': 0.0007635424019014977, 'batch_size': 32}. Best is trial 24 with value: 0.07839787760249.\n",
      "[I 2025-08-15 17:35:31,964] Trial 29 finished with value: 0.08006518971006701 and parameters: {'lookback': 12, 'num_layers': 2, 'hidden_size': 70, 'lr': 0.0067070868105350455, 'batch_size': 64}. Best is trial 24 with value: 0.07839787760249.\n",
      "[I 2025-08-15 17:35:33,362] Trial 30 finished with value: 0.07899473537035431 and parameters: {'lookback': 9, 'num_layers': 2, 'hidden_size': 80, 'lr': 0.008008965766880538, 'batch_size': 32}. Best is trial 24 with value: 0.07839787760249.\n",
      "[I 2025-08-15 17:35:34,229] Trial 31 finished with value: 0.08004969483733511 and parameters: {'lookback': 9, 'num_layers': 2, 'hidden_size': 79, 'lr': 0.007730576106177855, 'batch_size': 32}. Best is trial 24 with value: 0.07839787760249.\n",
      "[I 2025-08-15 17:35:35,252] Trial 32 finished with value: 0.08392302584644967 and parameters: {'lookback': 4, 'num_layers': 2, 'hidden_size': 103, 'lr': 0.00977669490760691, 'batch_size': 32}. Best is trial 24 with value: 0.07839787760249.\n",
      "[I 2025-08-15 17:35:36,338] Trial 33 finished with value: 0.07903017445124402 and parameters: {'lookback': 18, 'num_layers': 3, 'hidden_size': 32, 'lr': 0.005560912993872596, 'batch_size': 32}. Best is trial 24 with value: 0.07839787760249.\n",
      "[I 2025-08-15 17:35:37,260] Trial 34 finished with value: 0.07867538922800066 and parameters: {'lookback': 11, 'num_layers': 2, 'hidden_size': 43, 'lr': 0.007731489576551301, 'batch_size': 32}. Best is trial 24 with value: 0.07839787760249.\n",
      "[I 2025-08-15 17:35:40,202] Trial 35 finished with value: 0.10862426317690839 and parameters: {'lookback': 14, 'num_layers': 2, 'hidden_size': 45, 'lr': 0.0001154375970730122, 'batch_size': 32}. Best is trial 24 with value: 0.07839787760249.\n",
      "[I 2025-08-15 17:35:41,027] Trial 36 finished with value: 0.13971917821553614 and parameters: {'lookback': 11, 'num_layers': 2, 'hidden_size': 20, 'lr': 0.00017092176544554835, 'batch_size': 32}. Best is trial 24 with value: 0.07839787760249.\n",
      "[I 2025-08-15 17:35:41,773] Trial 37 finished with value: 0.08042039266652232 and parameters: {'lookback': 18, 'num_layers': 3, 'hidden_size': 42, 'lr': 0.003729134816028466, 'batch_size': 64}. Best is trial 24 with value: 0.07839787760249.\n",
      "[I 2025-08-15 17:35:42,357] Trial 38 finished with value: 0.08081767078665195 and parameters: {'lookback': 14, 'num_layers': 2, 'hidden_size': 63, 'lr': 0.007467545550088143, 'batch_size': 32}. Best is trial 24 with value: 0.07839787760249.\n",
      "[I 2025-08-15 17:35:43,499] Trial 39 finished with value: 0.09219243092075702 and parameters: {'lookback': 16, 'num_layers': 2, 'hidden_size': 31, 'lr': 0.0017227244853470875, 'batch_size': 32}. Best is trial 24 with value: 0.07839787760249.\n",
      "[I 2025-08-15 17:35:44,749] Trial 40 finished with value: 0.08639940328746629 and parameters: {'lookback': 7, 'num_layers': 1, 'hidden_size': 34, 'lr': 0.0027114955689959857, 'batch_size': 64}. Best is trial 24 with value: 0.07839787760249.\n",
      "[I 2025-08-15 17:35:45,804] Trial 41 finished with value: 0.07785354704436996 and parameters: {'lookback': 10, 'num_layers': 2, 'hidden_size': 76, 'lr': 0.008352666116087667, 'batch_size': 32}. Best is trial 41 with value: 0.07785354704436996.\n",
      "[I 2025-08-15 17:35:46,937] Trial 42 finished with value: 0.07970701233961257 and parameters: {'lookback': 10, 'num_layers': 2, 'hidden_size': 58, 'lr': 0.005220469677728203, 'batch_size': 32}. Best is trial 41 with value: 0.07785354704436996.\n",
      "[I 2025-08-15 17:35:48,076] Trial 43 finished with value: 0.08245295207471655 and parameters: {'lookback': 12, 'num_layers': 2, 'hidden_size': 99, 'lr': 0.008611250677983316, 'batch_size': 32}. Best is trial 41 with value: 0.07785354704436996.\n",
      "[I 2025-08-15 17:35:49,194] Trial 44 finished with value: 0.07857772305774571 and parameters: {'lookback': 10, 'num_layers': 2, 'hidden_size': 41, 'lr': 0.006467760553707507, 'batch_size': 32}. Best is trial 41 with value: 0.07785354704436996.\n",
      "[I 2025-08-15 17:35:50,440] Trial 45 finished with value: 0.07954034290580754 and parameters: {'lookback': 5, 'num_layers': 3, 'hidden_size': 49, 'lr': 0.004205282396595598, 'batch_size': 32}. Best is trial 41 with value: 0.07785354704436996.\n",
      "[I 2025-08-15 17:35:52,124] Trial 46 finished with value: 0.07916257555976591 and parameters: {'lookback': 8, 'num_layers': 2, 'hidden_size': 41, 'lr': 0.003144297643854379, 'batch_size': 32}. Best is trial 41 with value: 0.07785354704436996.\n",
      "[I 2025-08-15 17:35:52,819] Trial 47 finished with value: 0.08017485289320789 and parameters: {'lookback': 10, 'num_layers': 2, 'hidden_size': 54, 'lr': 0.005582059814710072, 'batch_size': 32}. Best is trial 41 with value: 0.07785354704436996.\n",
      "[I 2025-08-15 17:35:54,818] Trial 48 finished with value: 0.08162218612690858 and parameters: {'lookback': 2, 'num_layers': 2, 'hidden_size': 45, 'lr': 0.00708640010876963, 'batch_size': 32}. Best is trial 41 with value: 0.07785354704436996.\n",
      "[I 2025-08-15 17:35:56,079] Trial 49 finished with value: 0.07933688474027854 and parameters: {'lookback': 27, 'num_layers': 1, 'hidden_size': 37, 'lr': 0.008653758048687829, 'batch_size': 32}. Best is trial 41 with value: 0.07785354704436996.\n",
      "[I 2025-08-15 17:35:56,774] Trial 50 finished with value: 0.08197667656693065 and parameters: {'lookback': 7, 'num_layers': 2, 'hidden_size': 74, 'lr': 0.004700354946524654, 'batch_size': 32}. Best is trial 41 with value: 0.07785354704436996.\n",
      "[I 2025-08-15 17:35:58,641] Trial 51 finished with value: 0.08182168048160858 and parameters: {'lookback': 13, 'num_layers': 2, 'hidden_size': 113, 'lr': 0.006461057226147092, 'batch_size': 32}. Best is trial 41 with value: 0.07785354704436996.\n",
      "[I 2025-08-15 17:36:00,555] Trial 52 finished with value: 0.09325006793475736 and parameters: {'lookback': 11, 'num_layers': 2, 'hidden_size': 93, 'lr': 0.00995588608818614, 'batch_size': 32}. Best is trial 41 with value: 0.07785354704436996.\n",
      "[I 2025-08-15 17:36:02,129] Trial 53 finished with value: 0.08103474538731371 and parameters: {'lookback': 8, 'num_layers': 2, 'hidden_size': 84, 'lr': 0.0051161338332092595, 'batch_size': 16}. Best is trial 41 with value: 0.07785354704436996.\n",
      "[I 2025-08-15 17:36:02,946] Trial 54 finished with value: 0.07916385548655305 and parameters: {'lookback': 13, 'num_layers': 2, 'hidden_size': 64, 'lr': 0.004033632439543888, 'batch_size': 32}. Best is trial 41 with value: 0.07785354704436996.\n",
      "[I 2025-08-15 17:36:04,068] Trial 55 finished with value: 0.07881475390352746 and parameters: {'lookback': 17, 'num_layers': 2, 'hidden_size': 19, 'lr': 0.006891073864401646, 'batch_size': 32}. Best is trial 41 with value: 0.07785354704436996.\n",
      "[I 2025-08-15 17:36:05,600] Trial 56 finished with value: 0.08396911823722378 and parameters: {'lookback': 20, 'num_layers': 2, 'hidden_size': 29, 'lr': 0.0021692300334469725, 'batch_size': 32}. Best is trial 41 with value: 0.07785354704436996.\n",
      "[I 2025-08-15 17:36:06,148] Trial 57 finished with value: 0.0854915484706455 and parameters: {'lookback': 15, 'num_layers': 2, 'hidden_size': 58, 'lr': 0.0034140905283817635, 'batch_size': 64}. Best is trial 41 with value: 0.07785354704436996.\n",
      "[I 2025-08-15 17:36:07,111] Trial 58 finished with value: 0.08551052353669003 and parameters: {'lookback': 10, 'num_layers': 2, 'hidden_size': 24, 'lr': 0.005927420858547045, 'batch_size': 16}. Best is trial 41 with value: 0.07785354704436996.\n",
      "[I 2025-08-15 17:36:11,155] Trial 59 finished with value: 0.07906715474023654 and parameters: {'lookback': 6, 'num_layers': 1, 'hidden_size': 17, 'lr': 0.008268772750668193, 'batch_size': 32}. Best is trial 41 with value: 0.07785354704436996.\n",
      "[I 2025-08-15 17:36:18,412] Trial 60 finished with value: 0.07935163471991558 and parameters: {'lookback': 9, 'num_layers': 2, 'hidden_size': 52, 'lr': 0.002957971422521416, 'batch_size': 32}. Best is trial 41 with value: 0.07785354704436996.\n",
      "[I 2025-08-15 17:36:25,597] Trial 61 finished with value: 0.07829164420842454 and parameters: {'lookback': 19, 'num_layers': 2, 'hidden_size': 17, 'lr': 0.0063422893802331315, 'batch_size': 32}. Best is trial 41 with value: 0.07785354704436996.\n",
      "[I 2025-08-15 17:36:31,224] Trial 62 finished with value: 0.08081717171812346 and parameters: {'lookback': 20, 'num_layers': 2, 'hidden_size': 17, 'lr': 0.00474499735621375, 'batch_size': 32}. Best is trial 41 with value: 0.07785354704436996.\n",
      "[I 2025-08-15 17:36:36,596] Trial 63 finished with value: 0.0801225234827161 and parameters: {'lookback': 14, 'num_layers': 2, 'hidden_size': 19, 'lr': 0.006431630717810682, 'batch_size': 32}. Best is trial 41 with value: 0.07785354704436996.\n",
      "[I 2025-08-15 17:36:41,684] Trial 64 finished with value: 0.10066053301495277 and parameters: {'lookback': 11, 'num_layers': 2, 'hidden_size': 40, 'lr': 0.0004926249240781453, 'batch_size': 32}. Best is trial 41 with value: 0.07785354704436996.\n",
      "[I 2025-08-15 17:36:47,913] Trial 65 finished with value: 0.07876543529194213 and parameters: {'lookback': 23, 'num_layers': 2, 'hidden_size': 16, 'lr': 0.009124945871261333, 'batch_size': 32}. Best is trial 41 with value: 0.07785354704436996.\n",
      "[I 2025-08-15 17:36:51,228] Trial 66 finished with value: 0.08196353846927831 and parameters: {'lookback': 12, 'num_layers': 2, 'hidden_size': 21, 'lr': 0.007334923612151985, 'batch_size': 32}. Best is trial 41 with value: 0.07785354704436996.\n",
      "[I 2025-08-15 17:36:55,564] Trial 67 finished with value: 0.07954672530092219 and parameters: {'lookback': 15, 'num_layers': 2, 'hidden_size': 27, 'lr': 0.005634387958802275, 'batch_size': 32}. Best is trial 41 with value: 0.07785354704436996.\n",
      "[I 2025-08-15 17:37:03,944] Trial 68 finished with value: 0.0789178787008426 and parameters: {'lookback': 17, 'num_layers': 2, 'hidden_size': 109, 'lr': 0.00417521980578917, 'batch_size': 16}. Best is trial 41 with value: 0.07785354704436996.\n",
      "[I 2025-08-15 17:37:09,020] Trial 69 finished with value: 0.10981639502798603 and parameters: {'lookback': 19, 'num_layers': 2, 'hidden_size': 70, 'lr': 0.0001978641743896328, 'batch_size': 32}. Best is trial 41 with value: 0.07785354704436996.\n",
      "[I 2025-08-15 17:37:13,806] Trial 70 finished with value: 0.07899287998561619 and parameters: {'lookback': 8, 'num_layers': 2, 'hidden_size': 34, 'lr': 0.0036121530833674365, 'batch_size': 32}. Best is trial 41 with value: 0.07785354704436996.\n",
      "[I 2025-08-15 17:37:20,599] Trial 71 finished with value: 0.07845639267623937 and parameters: {'lookback': 23, 'num_layers': 2, 'hidden_size': 16, 'lr': 0.00865651924212605, 'batch_size': 32}. Best is trial 41 with value: 0.07785354704436996.\n",
      "[I 2025-08-15 17:37:25,858] Trial 72 finished with value: 0.07921720675153333 and parameters: {'lookback': 26, 'num_layers': 2, 'hidden_size': 18, 'lr': 0.008128831408035421, 'batch_size': 32}. Best is trial 41 with value: 0.07785354704436996.\n",
      "[I 2025-08-15 17:37:30,947] Trial 73 finished with value: 0.08418375326338692 and parameters: {'lookback': 21, 'num_layers': 2, 'hidden_size': 22, 'lr': 0.006464542612964378, 'batch_size': 32}. Best is trial 41 with value: 0.07785354704436996.\n",
      "[I 2025-08-15 17:37:34,414] Trial 74 finished with value: 0.08168375175816671 and parameters: {'lookback': 24, 'num_layers': 2, 'hidden_size': 16, 'lr': 0.005153592228756224, 'batch_size': 64}. Best is trial 41 with value: 0.07785354704436996.\n",
      "[I 2025-08-15 17:37:41,675] Trial 75 finished with value: 0.07948645625629262 and parameters: {'lookback': 22, 'num_layers': 2, 'hidden_size': 17, 'lr': 0.0072900400568795005, 'batch_size': 32}. Best is trial 41 with value: 0.07785354704436996.\n",
      "[I 2025-08-15 17:37:44,137] Trial 76 finished with value: 0.08891404102630428 and parameters: {'lookback': 26, 'num_layers': 2, 'hidden_size': 48, 'lr': 0.009345489028067328, 'batch_size': 32}. Best is trial 41 with value: 0.07785354704436996.\n",
      "[I 2025-08-15 17:37:47,920] Trial 77 finished with value: 0.08075758097837826 and parameters: {'lookback': 9, 'num_layers': 2, 'hidden_size': 90, 'lr': 0.005676084668025004, 'batch_size': 32}. Best is trial 41 with value: 0.07785354704436996.\n",
      "[I 2025-08-15 17:37:52,149] Trial 78 finished with value: 0.0794033842330062 and parameters: {'lookback': 11, 'num_layers': 2, 'hidden_size': 121, 'lr': 0.007906012137847798, 'batch_size': 32}. Best is trial 41 with value: 0.07785354704436996.\n",
      "[I 2025-08-15 17:37:59,740] Trial 79 finished with value: 0.0799580687087979 and parameters: {'lookback': 13, 'num_layers': 2, 'hidden_size': 18, 'lr': 0.00443704596682967, 'batch_size': 32}. Best is trial 41 with value: 0.07785354704436996.\n",
      "[I 2025-08-15 17:38:06,449] Trial 80 finished with value: 0.08701095240129042 and parameters: {'lookback': 10, 'num_layers': 3, 'hidden_size': 24, 'lr': 0.0025501611697074976, 'batch_size': 32}. Best is trial 41 with value: 0.07785354704436996.\n",
      "[I 2025-08-15 17:38:12,039] Trial 81 finished with value: 0.07920358084637155 and parameters: {'lookback': 25, 'num_layers': 2, 'hidden_size': 16, 'lr': 0.008556238031227357, 'batch_size': 32}. Best is trial 41 with value: 0.07785354704436996.\n",
      "[I 2025-08-15 17:38:16,879] Trial 82 finished with value: 0.07941915825114346 and parameters: {'lookback': 23, 'num_layers': 2, 'hidden_size': 18, 'lr': 0.009584927118627086, 'batch_size': 32}. Best is trial 41 with value: 0.07785354704436996.\n",
      "[I 2025-08-15 17:38:20,165] Trial 83 finished with value: 0.08125170558605525 and parameters: {'lookback': 29, 'num_layers': 2, 'hidden_size': 16, 'lr': 0.006815458939871413, 'batch_size': 32}. Best is trial 41 with value: 0.07785354704436996.\n",
      "[I 2025-08-15 17:38:27,429] Trial 84 finished with value: 0.0782809223001215 and parameters: {'lookback': 22, 'num_layers': 2, 'hidden_size': 19, 'lr': 0.009209191723472353, 'batch_size': 32}. Best is trial 41 with value: 0.07785354704436996.\n",
      "[I 2025-08-15 17:38:37,233] Trial 85 finished with value: 0.07907116179877637 and parameters: {'lookback': 19, 'num_layers': 2, 'hidden_size': 20, 'lr': 0.006071224353270959, 'batch_size': 32}. Best is trial 41 with value: 0.07785354704436996.\n",
      "[I 2025-08-15 17:38:41,357] Trial 86 finished with value: 0.07843095561521574 and parameters: {'lookback': 22, 'num_layers': 2, 'hidden_size': 43, 'lr': 0.007480724078755934, 'batch_size': 64}. Best is trial 41 with value: 0.07785354704436996.\n",
      "[I 2025-08-15 17:38:44,045] Trial 87 finished with value: 0.07941862821874619 and parameters: {'lookback': 22, 'num_layers': 2, 'hidden_size': 43, 'lr': 0.007731444885491064, 'batch_size': 64}. Best is trial 41 with value: 0.07785354704436996.\n",
      "[I 2025-08-15 17:38:49,268] Trial 88 finished with value: 0.07846728598896426 and parameters: {'lookback': 22, 'num_layers': 2, 'hidden_size': 38, 'lr': 0.005029027598894336, 'batch_size': 64}. Best is trial 41 with value: 0.07785354704436996.\n",
      "[I 2025-08-15 17:38:51,475] Trial 89 finished with value: 0.10162340544412345 and parameters: {'lookback': 22, 'num_layers': 2, 'hidden_size': 38, 'lr': 0.0014123769015084646, 'batch_size': 64}. Best is trial 41 with value: 0.07785354704436996.\n",
      "[I 2025-08-15 17:38:56,051] Trial 90 finished with value: 0.07928800354679862 and parameters: {'lookback': 20, 'num_layers': 2, 'hidden_size': 33, 'lr': 0.00552695809774601, 'batch_size': 64}. Best is trial 41 with value: 0.07785354704436996.\n",
      "[I 2025-08-15 17:38:59,884] Trial 91 finished with value: 0.07994930353071324 and parameters: {'lookback': 24, 'num_layers': 2, 'hidden_size': 36, 'lr': 0.0049768359499280206, 'batch_size': 64}. Best is trial 41 with value: 0.07785354704436996.\n",
      "[I 2025-08-15 17:39:02,920] Trial 92 finished with value: 0.07883725851462405 and parameters: {'lookback': 21, 'num_layers': 2, 'hidden_size': 47, 'lr': 0.0071279240067696065, 'batch_size': 64}. Best is trial 41 with value: 0.07785354704436996.\n",
      "[I 2025-08-15 17:39:05,858] Trial 93 finished with value: 0.07902320767983316 and parameters: {'lookback': 23, 'num_layers': 2, 'hidden_size': 44, 'lr': 0.008889582990712663, 'batch_size': 64}. Best is trial 41 with value: 0.07785354704436996.\n",
      "[I 2025-08-15 17:39:09,533] Trial 94 finished with value: 0.07929596954328416 and parameters: {'lookback': 25, 'num_layers': 2, 'hidden_size': 40, 'lr': 0.009990518220505694, 'batch_size': 64}. Best is trial 41 with value: 0.07785354704436996.\n",
      "[I 2025-08-15 17:39:12,781] Trial 95 finished with value: 0.07972163610195397 and parameters: {'lookback': 22, 'num_layers': 2, 'hidden_size': 53, 'lr': 0.006621464706055888, 'batch_size': 64}. Best is trial 41 with value: 0.07785354704436996.\n",
      "[I 2025-08-15 17:39:22,833] Trial 96 finished with value: 0.0776066621943461 and parameters: {'lookback': 20, 'num_layers': 2, 'hidden_size': 30, 'lr': 0.004555381936161336, 'batch_size': 16}. Best is trial 96 with value: 0.0776066621943461.\n",
      "[I 2025-08-15 17:39:31,426] Trial 97 finished with value: 0.08089679784437587 and parameters: {'lookback': 18, 'num_layers': 2, 'hidden_size': 35, 'lr': 0.003846343733014471, 'batch_size': 16}. Best is trial 96 with value: 0.0776066621943461.\n",
      "[I 2025-08-15 17:39:39,802] Trial 98 finished with value: 0.0816051469247313 and parameters: {'lookback': 19, 'num_layers': 2, 'hidden_size': 30, 'lr': 0.004558852258450319, 'batch_size': 16}. Best is trial 96 with value: 0.0776066621943461.\n",
      "[I 2025-08-15 17:39:49,508] Trial 99 finished with value: 0.07968761077945559 and parameters: {'lookback': 21, 'num_layers': 2, 'hidden_size': 46, 'lr': 0.002413752266438431, 'batch_size': 16}. Best is trial 96 with value: 0.0776066621943461.\n",
      "[I 2025-08-15 17:39:57,934] Trial 100 finished with value: 0.08213864636274207 and parameters: {'lookback': 20, 'num_layers': 2, 'hidden_size': 76, 'lr': 0.006081607434062224, 'batch_size': 16}. Best is trial 96 with value: 0.0776066621943461.\n",
      "[I 2025-08-15 17:40:02,920] Trial 101 finished with value: 0.08185322837523926 and parameters: {'lookback': 23, 'num_layers': 2, 'hidden_size': 50, 'lr': 0.007673929282542399, 'batch_size': 16}. Best is trial 96 with value: 0.0776066621943461.\n",
      "[I 2025-08-15 17:40:07,244] Trial 102 finished with value: 0.07911415171995284 and parameters: {'lookback': 17, 'num_layers': 2, 'hidden_size': 38, 'lr': 0.005110117145080461, 'batch_size': 64}. Best is trial 96 with value: 0.0776066621943461.\n",
      "[I 2025-08-15 17:40:08,654] Trial 103 finished with value: 0.07959215244246988 and parameters: {'lookback': 22, 'num_layers': 2, 'hidden_size': 42, 'lr': 0.00869002134324947, 'batch_size': 32}. Best is trial 96 with value: 0.0776066621943461.\n",
      "[I 2025-08-15 17:40:09,703] Trial 104 finished with value: 0.07940807246302288 and parameters: {'lookback': 20, 'num_layers': 2, 'hidden_size': 40, 'lr': 0.004397504873149711, 'batch_size': 64}. Best is trial 96 with value: 0.0776066621943461.\n",
      "[I 2025-08-15 17:40:10,577] Trial 105 finished with value: 0.07943756301261205 and parameters: {'lookback': 7, 'num_layers': 2, 'hidden_size': 56, 'lr': 0.0030694208869332445, 'batch_size': 32}. Best is trial 96 with value: 0.0776066621943461.\n",
      "[I 2025-08-15 17:40:12,528] Trial 106 finished with value: 0.07924966827801763 and parameters: {'lookback': 24, 'num_layers': 2, 'hidden_size': 61, 'lr': 0.0054090388830186535, 'batch_size': 16}. Best is trial 96 with value: 0.0776066621943461.\n",
      "[I 2025-08-15 17:40:13,536] Trial 107 finished with value: 0.08123258476888601 and parameters: {'lookback': 9, 'num_layers': 2, 'hidden_size': 26, 'lr': 0.0035444362266446017, 'batch_size': 32}. Best is trial 96 with value: 0.0776066621943461.\n",
      "[I 2025-08-15 17:40:14,882] Trial 108 finished with value: 0.09659729467306234 and parameters: {'lookback': 21, 'num_layers': 2, 'hidden_size': 22, 'lr': 0.000874354291692541, 'batch_size': 32}. Best is trial 96 with value: 0.0776066621943461.\n",
      "[I 2025-08-15 17:40:15,396] Trial 109 finished with value: 0.08304275529518138 and parameters: {'lookback': 25, 'num_layers': 2, 'hidden_size': 84, 'lr': 0.007119250859029264, 'batch_size': 32}. Best is trial 96 with value: 0.0776066621943461.\n",
      "[I 2025-08-15 17:40:17,470] Trial 110 finished with value: 0.0810292653086005 and parameters: {'lookback': 19, 'num_layers': 2, 'hidden_size': 98, 'lr': 0.0005250806181608619, 'batch_size': 32}. Best is trial 96 with value: 0.0776066621943461.\n",
      "[I 2025-08-15 17:40:18,419] Trial 111 finished with value: 0.07960733913295348 and parameters: {'lookback': 10, 'num_layers': 2, 'hidden_size': 19, 'lr': 0.006215864279547151, 'batch_size': 32}. Best is trial 96 with value: 0.0776066621943461.\n",
      "[I 2025-08-15 17:40:19,124] Trial 112 finished with value: 0.07995189858291821 and parameters: {'lookback': 12, 'num_layers': 2, 'hidden_size': 44, 'lr': 0.008016436915696762, 'batch_size': 32}. Best is trial 96 with value: 0.0776066621943461.\n",
      "[I 2025-08-15 17:40:20,029] Trial 113 finished with value: 0.08329002068803638 and parameters: {'lookback': 11, 'num_layers': 2, 'hidden_size': 17, 'lr': 0.0048211410086548044, 'batch_size': 32}. Best is trial 96 with value: 0.0776066621943461.\n",
      "[I 2025-08-15 17:40:20,599] Trial 114 finished with value: 0.08110881313129288 and parameters: {'lookback': 12, 'num_layers': 2, 'hidden_size': 107, 'lr': 0.0040887941497406224, 'batch_size': 32}. Best is trial 96 with value: 0.0776066621943461.\n",
      "[I 2025-08-15 17:40:21,560] Trial 115 finished with value: 0.07962456645302628 and parameters: {'lookback': 8, 'num_layers': 2, 'hidden_size': 66, 'lr': 0.006493260102965674, 'batch_size': 32}. Best is trial 96 with value: 0.0776066621943461.\n",
      "[I 2025-08-15 17:40:22,465] Trial 116 finished with value: 0.08313418531312827 and parameters: {'lookback': 13, 'num_layers': 2, 'hidden_size': 18, 'lr': 0.005906048920464333, 'batch_size': 32}. Best is trial 96 with value: 0.0776066621943461.\n",
      "[I 2025-08-15 17:40:23,309] Trial 117 finished with value: 0.08693208949862849 and parameters: {'lookback': 18, 'num_layers': 2, 'hidden_size': 128, 'lr': 0.009160928974296146, 'batch_size': 64}. Best is trial 96 with value: 0.0776066621943461.\n",
      "[I 2025-08-15 17:40:23,829] Trial 118 finished with value: 0.08096782720832606 and parameters: {'lookback': 23, 'num_layers': 2, 'hidden_size': 32, 'lr': 0.0076095887060996245, 'batch_size': 32}. Best is trial 96 with value: 0.0776066621943461.\n",
      "[I 2025-08-15 17:40:24,371] Trial 119 finished with value: 0.07984665557956218 and parameters: {'lookback': 22, 'num_layers': 2, 'hidden_size': 36, 'lr': 0.008513421017327378, 'batch_size': 32}. Best is trial 96 with value: 0.0776066621943461.\n",
      "[I 2025-08-15 17:40:26,530] Trial 120 finished with value: 0.0791857252210864 and parameters: {'lookback': 10, 'num_layers': 2, 'hidden_size': 17, 'lr': 0.007034314961651507, 'batch_size': 16}. Best is trial 96 with value: 0.0776066621943461.\n",
      "[I 2025-08-15 17:40:31,538] Trial 121 finished with value: 0.07870333571695712 and parameters: {'lookback': 11, 'num_layers': 2, 'hidden_size': 16, 'lr': 0.009335363009142141, 'batch_size': 32}. Best is trial 96 with value: 0.0776066621943461.\n",
      "[I 2025-08-15 17:40:34,915] Trial 122 finished with value: 0.08035443482112342 and parameters: {'lookback': 11, 'num_layers': 2, 'hidden_size': 16, 'lr': 0.009957495244847724, 'batch_size': 32}. Best is trial 96 with value: 0.0776066621943461.\n",
      "[I 2025-08-15 17:40:39,656] Trial 123 finished with value: 0.07875302972538296 and parameters: {'lookback': 12, 'num_layers': 2, 'hidden_size': 19, 'lr': 0.008049230962214257, 'batch_size': 32}. Best is trial 96 with value: 0.0776066621943461.\n",
      "[I 2025-08-15 17:40:43,352] Trial 124 finished with value: 0.08221562644375897 and parameters: {'lookback': 9, 'num_layers': 2, 'hidden_size': 20, 'lr': 0.008023537117990538, 'batch_size': 32}. Best is trial 96 with value: 0.0776066621943461.\n",
      "[I 2025-08-15 17:40:47,240] Trial 125 finished with value: 0.07978966035213243 and parameters: {'lookback': 11, 'num_layers': 2, 'hidden_size': 19, 'lr': 0.008858353233919132, 'batch_size': 32}. Best is trial 96 with value: 0.0776066621943461.\n",
      "[I 2025-08-15 17:40:49,877] Trial 126 finished with value: 0.08531895864045488 and parameters: {'lookback': 10, 'num_layers': 2, 'hidden_size': 21, 'lr': 0.007031097106821095, 'batch_size': 32}. Best is trial 96 with value: 0.0776066621943461.\n",
      "[I 2025-08-15 17:40:54,857] Trial 127 finished with value: 0.07773540853045045 and parameters: {'lookback': 16, 'num_layers': 2, 'hidden_size': 39, 'lr': 0.0055281208432347425, 'batch_size': 32}. Best is trial 96 with value: 0.0776066621943461.\n",
      "[I 2025-08-15 17:40:56,125] Trial 128 finished with value: 0.15176988300715213 and parameters: {'lookback': 16, 'num_layers': 2, 'hidden_size': 42, 'lr': 0.00029213543349524605, 'batch_size': 64}. Best is trial 96 with value: 0.0776066621943461.\n",
      "[I 2025-08-15 17:41:00,674] Trial 129 finished with value: 0.07831660366247033 and parameters: {'lookback': 16, 'num_layers': 2, 'hidden_size': 39, 'lr': 0.0055965905148698, 'batch_size': 32}. Best is trial 96 with value: 0.0776066621943461.\n",
      "[I 2025-08-15 17:41:04,423] Trial 130 finished with value: 0.07813212716775803 and parameters: {'lookback': 15, 'num_layers': 2, 'hidden_size': 39, 'lr': 0.005331892047709837, 'batch_size': 32}. Best is trial 96 with value: 0.0776066621943461.\n",
      "[I 2025-08-15 17:41:08,501] Trial 131 finished with value: 0.07836370230639113 and parameters: {'lookback': 15, 'num_layers': 2, 'hidden_size': 40, 'lr': 0.005531838230471916, 'batch_size': 32}. Best is trial 96 with value: 0.0776066621943461.\n",
      "[I 2025-08-15 17:41:13,982] Trial 132 finished with value: 0.07796623025162422 and parameters: {'lookback': 15, 'num_layers': 2, 'hidden_size': 38, 'lr': 0.005519989304949292, 'batch_size': 32}. Best is trial 96 with value: 0.0776066621943461.\n",
      "[I 2025-08-15 17:41:18,173] Trial 133 finished with value: 0.07893343790530452 and parameters: {'lookback': 15, 'num_layers': 2, 'hidden_size': 36, 'lr': 0.005332931889710006, 'batch_size': 32}. Best is trial 96 with value: 0.0776066621943461.\n",
      "[I 2025-08-15 17:41:22,301] Trial 134 finished with value: 0.0807898009645311 and parameters: {'lookback': 15, 'num_layers': 2, 'hidden_size': 40, 'lr': 0.005773544308609338, 'batch_size': 32}. Best is trial 96 with value: 0.0776066621943461.\n",
      "[I 2025-08-15 17:41:26,256] Trial 135 finished with value: 0.0789205638731285 and parameters: {'lookback': 17, 'num_layers': 2, 'hidden_size': 38, 'lr': 0.004900464293378054, 'batch_size': 32}. Best is trial 96 with value: 0.0776066621943461.\n",
      "[I 2025-08-15 17:41:29,540] Trial 136 finished with value: 0.08413251894524014 and parameters: {'lookback': 14, 'num_layers': 2, 'hidden_size': 39, 'lr': 0.004247447493570495, 'batch_size': 32}. Best is trial 96 with value: 0.0776066621943461.\n",
      "[I 2025-08-15 17:41:32,437] Trial 137 finished with value: 0.07963816695630552 and parameters: {'lookback': 16, 'num_layers': 2, 'hidden_size': 34, 'lr': 0.0061760850969106084, 'batch_size': 32}. Best is trial 96 with value: 0.0776066621943461.\n",
      "[I 2025-08-15 17:41:36,142] Trial 138 finished with value: 0.07974152665230803 and parameters: {'lookback': 15, 'num_layers': 2, 'hidden_size': 37, 'lr': 0.005469667387502636, 'batch_size': 32}. Best is trial 96 with value: 0.0776066621943461.\n",
      "[I 2025-08-15 17:41:39,332] Trial 139 finished with value: 0.07991692755504111 and parameters: {'lookback': 16, 'num_layers': 2, 'hidden_size': 46, 'lr': 0.0038277145852445072, 'batch_size': 64}. Best is trial 96 with value: 0.0776066621943461.\n",
      "[I 2025-08-15 17:41:45,245] Trial 140 finished with value: 0.08202569136923803 and parameters: {'lookback': 14, 'num_layers': 2, 'hidden_size': 42, 'lr': 0.0047192526111888644, 'batch_size': 16}. Best is trial 96 with value: 0.0776066621943461.\n",
      "[I 2025-08-15 17:41:49,994] Trial 141 finished with value: 0.07910444037650519 and parameters: {'lookback': 17, 'num_layers': 2, 'hidden_size': 39, 'lr': 0.004436411512974077, 'batch_size': 32}. Best is trial 96 with value: 0.0776066621943461.\n",
      "[I 2025-08-15 17:41:54,846] Trial 142 finished with value: 0.0797111863053527 and parameters: {'lookback': 16, 'num_layers': 2, 'hidden_size': 41, 'lr': 0.005249228221809396, 'batch_size': 32}. Best is trial 96 with value: 0.0776066621943461.\n",
      "[I 2025-08-15 17:41:57,101] Trial 143 finished with value: 0.08218608504700554 and parameters: {'lookback': 15, 'num_layers': 2, 'hidden_size': 35, 'lr': 0.006554007853477789, 'batch_size': 32}. Best is trial 96 with value: 0.0776066621943461.\n",
      "[I 2025-08-15 17:42:01,138] Trial 144 finished with value: 0.08114919273523041 and parameters: {'lookback': 17, 'num_layers': 2, 'hidden_size': 49, 'lr': 0.005801683222494025, 'batch_size': 32}. Best is trial 96 with value: 0.0776066621943461.\n",
      "[I 2025-08-15 17:42:04,100] Trial 145 finished with value: 0.08299443955674499 and parameters: {'lookback': 18, 'num_layers': 2, 'hidden_size': 44, 'lr': 0.004802885518887359, 'batch_size': 32}. Best is trial 96 with value: 0.0776066621943461.\n",
      "[I 2025-08-15 17:42:09,989] Trial 146 finished with value: 0.0791927729078551 and parameters: {'lookback': 21, 'num_layers': 2, 'hidden_size': 31, 'lr': 0.0033149622251166804, 'batch_size': 32}. Best is trial 96 with value: 0.0776066621943461.\n",
      "[I 2025-08-15 17:42:14,373] Trial 147 finished with value: 0.08052534903827414 and parameters: {'lookback': 14, 'num_layers': 2, 'hidden_size': 33, 'lr': 0.006567400356527062, 'batch_size': 32}. Best is trial 96 with value: 0.0776066621943461.\n",
      "[I 2025-08-15 17:42:18,180] Trial 148 finished with value: 0.07837499233618246 and parameters: {'lookback': 19, 'num_layers': 2, 'hidden_size': 41, 'lr': 0.004003813323260133, 'batch_size': 64}. Best is trial 96 with value: 0.0776066621943461.\n",
      "[I 2025-08-15 17:42:20,586] Trial 149 finished with value: 0.07896314178169665 and parameters: {'lookback': 20, 'num_layers': 2, 'hidden_size': 72, 'lr': 0.0052103507951382485, 'batch_size': 64}. Best is trial 96 with value: 0.0776066621943461.\n",
      "[I 2025-08-15 17:42:22,477] Trial 150 finished with value: 0.0793856447650793 and parameters: {'lookback': 18, 'num_layers': 2, 'hidden_size': 38, 'lr': 0.006003053065914305, 'batch_size': 64}. Best is trial 96 with value: 0.0776066621943461.\n",
      "[I 2025-08-15 17:42:23,942] Trial 151 finished with value: 0.08398359626188333 and parameters: {'lookback': 19, 'num_layers': 2, 'hidden_size': 41, 'lr': 0.004130433397801551, 'batch_size': 64}. Best is trial 96 with value: 0.0776066621943461.\n",
      "[I 2025-08-15 17:42:27,549] Trial 152 finished with value: 0.07873980017301993 and parameters: {'lookback': 17, 'num_layers': 2, 'hidden_size': 45, 'lr': 0.003699829577777083, 'batch_size': 64}. Best is trial 96 with value: 0.0776066621943461.\n",
      "[I 2025-08-15 17:42:30,994] Trial 153 finished with value: 0.07972721744293212 and parameters: {'lookback': 16, 'num_layers': 2, 'hidden_size': 39, 'lr': 0.004598712303568255, 'batch_size': 64}. Best is trial 96 with value: 0.0776066621943461.\n",
      "[I 2025-08-15 17:42:34,634] Trial 154 finished with value: 0.08091245824259069 and parameters: {'lookback': 22, 'num_layers': 2, 'hidden_size': 37, 'lr': 0.007374075508541228, 'batch_size': 32}. Best is trial 96 with value: 0.0776066621943461.\n",
      "[I 2025-08-15 17:42:39,022] Trial 155 finished with value: 0.07898096133041756 and parameters: {'lookback': 23, 'num_layers': 2, 'hidden_size': 47, 'lr': 0.0056855786845636976, 'batch_size': 32}. Best is trial 96 with value: 0.0776066621943461.\n",
      "[I 2025-08-15 17:42:42,811] Trial 156 finished with value: 0.09080930868778009 and parameters: {'lookback': 19, 'num_layers': 2, 'hidden_size': 43, 'lr': 0.002898509059420992, 'batch_size': 16}. Best is trial 96 with value: 0.0776066621943461.\n",
      "[I 2025-08-15 17:42:48,595] Trial 157 finished with value: 0.08045816122740432 and parameters: {'lookback': 21, 'num_layers': 2, 'hidden_size': 51, 'lr': 0.003950554798139799, 'batch_size': 32}. Best is trial 96 with value: 0.0776066621943461.\n",
      "[I 2025-08-15 17:42:50,886] Trial 158 finished with value: 0.09237234333692215 and parameters: {'lookback': 14, 'num_layers': 2, 'hidden_size': 35, 'lr': 0.001914236630293665, 'batch_size': 64}. Best is trial 96 with value: 0.0776066621943461.\n",
      "[I 2025-08-15 17:42:55,059] Trial 159 finished with value: 0.07832829079371936 and parameters: {'lookback': 15, 'num_layers': 2, 'hidden_size': 41, 'lr': 0.00669714498767763, 'batch_size': 32}. Best is trial 96 with value: 0.0776066621943461.\n",
      "[I 2025-08-15 17:42:57,931] Trial 160 finished with value: 0.07928536944646493 and parameters: {'lookback': 15, 'num_layers': 2, 'hidden_size': 41, 'lr': 0.006993130036665931, 'batch_size': 32}. Best is trial 96 with value: 0.0776066621943461.\n",
      "[I 2025-08-15 17:43:02,889] Trial 161 finished with value: 0.07860555692872102 and parameters: {'lookback': 16, 'num_layers': 2, 'hidden_size': 40, 'lr': 0.005063831680888778, 'batch_size': 32}. Best is trial 96 with value: 0.0776066621943461.\n",
      "[I 2025-08-15 17:43:06,989] Trial 162 finished with value: 0.07947105655756928 and parameters: {'lookback': 17, 'num_layers': 2, 'hidden_size': 43, 'lr': 0.0062967476259886725, 'batch_size': 32}. Best is trial 96 with value: 0.0776066621943461.\n",
      "[I 2025-08-15 17:43:12,366] Trial 163 finished with value: 0.07861832922827709 and parameters: {'lookback': 15, 'num_layers': 2, 'hidden_size': 37, 'lr': 0.004411855109227666, 'batch_size': 32}. Best is trial 96 with value: 0.0776066621943461.\n",
      "[I 2025-08-15 17:43:18,088] Trial 164 finished with value: 0.07798132660988473 and parameters: {'lookback': 16, 'num_layers': 2, 'hidden_size': 116, 'lr': 0.005564238328395283, 'batch_size': 32}. Best is trial 96 with value: 0.0776066621943461.\n",
      "[I 2025-08-15 17:43:20,402] Trial 165 finished with value: 0.08312812632973678 and parameters: {'lookback': 13, 'num_layers': 2, 'hidden_size': 45, 'lr': 0.007513286583767756, 'batch_size': 32}. Best is trial 96 with value: 0.0776066621943461.\n",
      "[I 2025-08-15 17:43:25,071] Trial 166 finished with value: 0.07898827632713215 and parameters: {'lookback': 16, 'num_layers': 2, 'hidden_size': 39, 'lr': 0.005549874248513065, 'batch_size': 32}. Best is trial 96 with value: 0.0776066621943461.\n",
      "[I 2025-08-15 17:43:27,651] Trial 167 finished with value: 0.08472539184014465 and parameters: {'lookback': 14, 'num_layers': 2, 'hidden_size': 42, 'lr': 0.006759142634195346, 'batch_size': 32}. Best is trial 96 with value: 0.0776066621943461.\n",
      "[I 2025-08-15 17:43:29,901] Trial 168 finished with value: 0.09398974669733319 and parameters: {'lookback': 3, 'num_layers': 2, 'hidden_size': 78, 'lr': 0.006314516182154644, 'batch_size': 64}. Best is trial 96 with value: 0.0776066621943461.\n",
      "[I 2025-08-15 17:43:30,744] Trial 169 finished with value: 0.08000165848766155 and parameters: {'lookback': 18, 'num_layers': 2, 'hidden_size': 28, 'lr': 0.008426394619244259, 'batch_size': 32}. Best is trial 96 with value: 0.0776066621943461.\n",
      "[I 2025-08-15 17:43:31,692] Trial 170 finished with value: 0.08046223635089847 and parameters: {'lookback': 15, 'num_layers': 2, 'hidden_size': 36, 'lr': 0.005175865600620745, 'batch_size': 32}. Best is trial 96 with value: 0.0776066621943461.\n",
      "[I 2025-08-15 17:43:32,235] Trial 171 finished with value: 0.08578988771465546 and parameters: {'lookback': 20, 'num_layers': 2, 'hidden_size': 121, 'lr': 0.004761791711939475, 'batch_size': 32}. Best is trial 96 with value: 0.0776066621943461.\n",
      "[I 2025-08-15 17:43:33,713] Trial 172 finished with value: 0.07931782964601806 and parameters: {'lookback': 22, 'num_layers': 2, 'hidden_size': 106, 'lr': 0.005845689033148788, 'batch_size': 32}. Best is trial 96 with value: 0.0776066621943461.\n",
      "[I 2025-08-15 17:43:34,477] Trial 173 finished with value: 0.07924433965792818 and parameters: {'lookback': 24, 'num_layers': 2, 'hidden_size': 40, 'lr': 0.005466005684322034, 'batch_size': 32}. Best is trial 96 with value: 0.0776066621943461.\n",
      "[I 2025-08-15 17:43:35,727] Trial 174 finished with value: 0.07974336072532547 and parameters: {'lookback': 23, 'num_layers': 2, 'hidden_size': 38, 'lr': 0.0034876353179981723, 'batch_size': 32}. Best is trial 96 with value: 0.0776066621943461.\n",
      "[I 2025-08-15 17:43:38,082] Trial 175 finished with value: 0.08099400983492747 and parameters: {'lookback': 17, 'num_layers': 2, 'hidden_size': 127, 'lr': 0.004227077521928982, 'batch_size': 16}. Best is trial 96 with value: 0.0776066621943461.\n",
      "[I 2025-08-15 17:43:39,000] Trial 176 finished with value: 0.09545528868258685 and parameters: {'lookback': 21, 'num_layers': 2, 'hidden_size': 118, 'lr': 0.007564546367682103, 'batch_size': 32}. Best is trial 96 with value: 0.0776066621943461.\n",
      "[I 2025-08-15 17:43:39,984] Trial 177 finished with value: 0.07895364127770689 and parameters: {'lookback': 15, 'num_layers': 2, 'hidden_size': 112, 'lr': 0.006721119564221, 'batch_size': 32}. Best is trial 96 with value: 0.0776066621943461.\n",
      "[I 2025-08-15 17:43:40,624] Trial 178 finished with value: 0.08120088213288332 and parameters: {'lookback': 16, 'num_layers': 2, 'hidden_size': 90, 'lr': 0.00483665504641947, 'batch_size': 32}. Best is trial 96 with value: 0.0776066621943461.\n",
      "[I 2025-08-15 17:43:41,582] Trial 179 finished with value: 0.0828915921630999 and parameters: {'lookback': 18, 'num_layers': 2, 'hidden_size': 94, 'lr': 0.0012954682644825079, 'batch_size': 64}. Best is trial 96 with value: 0.0776066621943461.\n",
      "[I 2025-08-15 17:43:42,512] Trial 180 finished with value: 0.08641069190154153 and parameters: {'lookback': 19, 'num_layers': 2, 'hidden_size': 117, 'lr': 0.006014005278089276, 'batch_size': 32}. Best is trial 96 with value: 0.0776066621943461.\n",
      "[I 2025-08-15 17:43:43,275] Trial 181 finished with value: 0.08118946820945701 and parameters: {'lookback': 16, 'num_layers': 2, 'hidden_size': 40, 'lr': 0.00531494915105681, 'batch_size': 32}. Best is trial 96 with value: 0.0776066621943461.\n",
      "[I 2025-08-15 17:43:44,407] Trial 182 finished with value: 0.07857975052556881 and parameters: {'lookback': 16, 'num_layers': 2, 'hidden_size': 43, 'lr': 0.005064137149741061, 'batch_size': 32}. Best is trial 96 with value: 0.0776066621943461.\n",
      "[I 2025-08-15 17:43:45,254] Trial 183 finished with value: 0.07863644799113496 and parameters: {'lookback': 16, 'num_layers': 2, 'hidden_size': 43, 'lr': 0.004332143953103688, 'batch_size': 32}. Best is trial 96 with value: 0.0776066621943461.\n",
      "[I 2025-08-15 17:43:46,006] Trial 184 finished with value: 0.08006870974561342 and parameters: {'lookback': 15, 'num_layers': 2, 'hidden_size': 47, 'lr': 0.004877673135453721, 'batch_size': 32}. Best is trial 96 with value: 0.0776066621943461.\n",
      "[I 2025-08-15 17:43:46,886] Trial 185 finished with value: 0.08066135626829109 and parameters: {'lookback': 17, 'num_layers': 2, 'hidden_size': 25, 'lr': 0.006000163508187211, 'batch_size': 32}. Best is trial 96 with value: 0.0776066621943461.\n",
      "[I 2025-08-15 17:43:47,666] Trial 186 finished with value: 0.07979698253931038 and parameters: {'lookback': 14, 'num_layers': 2, 'hidden_size': 44, 'lr': 0.003969378448699753, 'batch_size': 32}. Best is trial 96 with value: 0.0776066621943461.\n",
      "[I 2025-08-15 17:43:48,673] Trial 187 finished with value: 0.07860693561953419 and parameters: {'lookback': 20, 'num_layers': 2, 'hidden_size': 61, 'lr': 0.008489425541437567, 'batch_size': 32}. Best is trial 96 with value: 0.0776066621943461.\n",
      "[I 2025-08-15 17:43:49,006] Trial 188 finished with value: 0.0870342989069978 and parameters: {'lookback': 16, 'num_layers': 2, 'hidden_size': 41, 'lr': 0.007149657738722963, 'batch_size': 64}. Best is trial 96 with value: 0.0776066621943461.\n",
      "[I 2025-08-15 17:43:50,220] Trial 189 finished with value: 0.07941152983371282 and parameters: {'lookback': 22, 'num_layers': 2, 'hidden_size': 37, 'lr': 0.005258224869247732, 'batch_size': 16}. Best is trial 96 with value: 0.0776066621943461.\n",
      "[I 2025-08-15 17:43:51,143] Trial 190 finished with value: 0.07911695036028571 and parameters: {'lookback': 24, 'num_layers': 2, 'hidden_size': 42, 'lr': 0.006505903717959215, 'batch_size': 32}. Best is trial 96 with value: 0.0776066621943461.\n",
      "[I 2025-08-15 17:43:52,074] Trial 191 finished with value: 0.0794979218420377 and parameters: {'lookback': 16, 'num_layers': 2, 'hidden_size': 39, 'lr': 0.004756674318176983, 'batch_size': 32}. Best is trial 96 with value: 0.0776066621943461.\n",
      "[I 2025-08-15 17:43:53,476] Trial 192 finished with value: 0.07879835590498516 and parameters: {'lookback': 16, 'num_layers': 2, 'hidden_size': 40, 'lr': 0.005211350202944082, 'batch_size': 32}. Best is trial 96 with value: 0.0776066621943461.\n",
      "[I 2025-08-15 17:43:54,171] Trial 193 finished with value: 0.07965425303738684 and parameters: {'lookback': 17, 'num_layers': 2, 'hidden_size': 41, 'lr': 0.005583189985647721, 'batch_size': 32}. Best is trial 96 with value: 0.0776066621943461.\n",
      "[I 2025-08-15 17:43:55,046] Trial 194 finished with value: 0.08022976653087123 and parameters: {'lookback': 15, 'num_layers': 2, 'hidden_size': 45, 'lr': 0.004500975748456364, 'batch_size': 32}. Best is trial 96 with value: 0.0776066621943461.\n",
      "[I 2025-08-15 17:43:55,775] Trial 195 finished with value: 0.08088328062355297 and parameters: {'lookback': 15, 'num_layers': 2, 'hidden_size': 38, 'lr': 0.004930430147197663, 'batch_size': 32}. Best is trial 96 with value: 0.0776066621943461.\n",
      "[I 2025-08-15 17:43:56,386] Trial 196 finished with value: 0.08001862006520577 and parameters: {'lookback': 18, 'num_layers': 2, 'hidden_size': 35, 'lr': 0.005911001738066512, 'batch_size': 32}. Best is trial 96 with value: 0.0776066621943461.\n",
      "[I 2025-08-15 17:43:57,206] Trial 197 finished with value: 0.07998171230584428 and parameters: {'lookback': 9, 'num_layers': 2, 'hidden_size': 43, 'lr': 0.007645170913453036, 'batch_size': 32}. Best is trial 96 with value: 0.0776066621943461.\n",
      "[I 2025-08-15 17:43:58,444] Trial 198 finished with value: 0.07976891544466537 and parameters: {'lookback': 17, 'num_layers': 2, 'hidden_size': 17, 'lr': 0.006457430287532407, 'batch_size': 32}. Best is trial 96 with value: 0.0776066621943461.\n",
      "[I 2025-08-15 17:43:59,165] Trial 199 finished with value: 0.0828804411143152 and parameters: {'lookback': 6, 'num_layers': 2, 'hidden_size': 39, 'lr': 0.00396808937180125, 'batch_size': 64}. Best is trial 96 with value: 0.0776066621943461.\n"
     ]
    },
    {
     "name": "stdout",
     "output_type": "stream",
     "text": [
      "Best hyperparameters: {'lookback': 20, 'num_layers': 2, 'hidden_size': 30, 'lr': 0.004555381936161336, 'batch_size': 16}\n",
      "Best validation RMSE: 0.0776066621943461\n",
      "Multi-step Rolling Forecast (5-day blocks) Test Metrics: {\n",
      "  \"MSE\": 3.549582520989738,\n",
      "  \"RMSE\": 1.8840335774581456,\n",
      "  \"MAE\": 1.5300961795606116,\n",
      "  \"MAPE%\": 2.331092169744828,\n",
      "  \"R2\": 0.8986796632748626\n",
      "}\n",
      "Saved plot to rnn_pytorch_multistep_forecast_2024.png\n",
      "Saved best params to best_rnn_params_multistep.json\n"
     ]
    },
    {
     "data": {
      "image/png": "[encoded data removed]",
      "text/plain": [
       "<Figure size 1200x500 with 1 Axes>"
      ]
     },
     "metadata": {},
     "output_type": "display_data"
    }
   ],
   "source": [
    "\"\"\"\n",
    "Modified: Carbon Price Forecasting with PyTorch RNN (Simple)\n",
    "- Multi-step Rolling Forecast (1 steps) on Test Set.\n",
    "- The model predicts 5 days at a time. The ground truth is used to advance the window.\n",
    "\"\"\"\n",
    "\n",
    "import os\n",
    "import math\n",
    "import json\n",
    "import random\n",
    "import numpy as np\n",
    "import pandas as pd\n",
    "import matplotlib.pyplot as plt\n",
    "\n",
    "import torch\n",
    "import torch.nn as nn\n",
    "from torch.utils.data import Dataset, DataLoader\n",
    "\n",
    "from sklearn.preprocessing import StandardScaler\n",
    "from sklearn.metrics import mean_squared_error, mean_absolute_error, r2_score\n",
    "import optuna\n",
    "\n",
    "# -------------------- Config --------------------\n",
    "RANDOM_STATE = 42\n",
    "CSV_PATH = \"Carbon_Emissions_Futures_2021_Onwards.csv\"\n",
    "DATE_COL = \"Date\"\n",
    "TARGET_COL = \"Price\"\n",
    "FORECAST_STEPS = 1 # <--- NEW: Number of steps to forecast ahead\n",
    "\n",
    "# Reproducibility\n",
    "random.seed(RANDOM_STATE)\n",
    "np.random.seed(RANDOM_STATE)\n",
    "torch.manual_seed(RANDOM_STATE)\n",
    "\n",
    "# -------------------- Data utils --------------------\n",
    "def _parse_volume(v):\n",
    "    if pd.isna(v):\n",
    "        return np.nan\n",
    "    if isinstance(v, (int, float)):\n",
    "        return float(v)\n",
    "    s = str(v).strip().replace(\",\", \"\")\n",
    "    if s.endswith((\"K\",\"k\")):\n",
    "        return float(s[:-1]) * 1_000\n",
    "    if s.endswith((\"M\",\"m\")):\n",
    "        return float(s[:-1]) * 1_000_000\n",
    "    return float(s)\n",
    "\n",
    "def clean_dataframe(df: pd.DataFrame) -> pd.DataFrame:\n",
    "    df = df.copy()\n",
    "    df.rename(columns={\"Vol.\": \"Volume\", \"Change %\": \"ChangePct\"}, inplace=True)\n",
    "    df[DATE_COL] = pd.to_datetime(df[DATE_COL], dayfirst=True, errors='coerce')\n",
    "    for col in [\"Price\", \"Open\", \"High\", \"Low\"]:\n",
    "        df[col] = pd.to_numeric(df[col], errors='coerce')\n",
    "    if \"Volume\" in df:\n",
    "        df[\"Volume\"] = df[\"Volume\"].apply(_parse_volume)\n",
    "    if \"ChangePct\" in df:\n",
    "        df[\"ChangePct\"] = pd.to_numeric(df[\"ChangePct\"].astype(str).str.replace('%',''), errors='coerce') / 100.0\n",
    "    df = df.dropna(subset=[DATE_COL]).sort_values(DATE_COL).reset_index(drop=True)\n",
    "    return df\n",
    "\n",
    "def train_val_test_split(df: pd.DataFrame):\n",
    "    train_mask = (df[DATE_COL] >= '2021-01-01') & (df[DATE_COL] <= '2023-12-31')\n",
    "    test_mask  = (df[DATE_COL] >= '2024-01-01') & (df[DATE_COL] <= '2024-12-31')\n",
    "    df_train_full = df.loc[train_mask].copy()\n",
    "    df_test = df.loc[test_mask].copy()\n",
    "    split_idx = int(len(df_train_full) * 0.9)\n",
    "    return df_train_full.iloc[:split_idx], df_train_full.iloc[split_idx:], df_test\n",
    "\n",
    "def create_sequences(series_2d: np.ndarray, lookback: int):\n",
    "    X, y = [], []\n",
    "    for i in range(lookback, len(series_2d)):\n",
    "        X.append(series_2d[i-lookback:i])\n",
    "        y.append(series_2d[i, 0])\n",
    "    return np.asarray(X, dtype=np.float32), np.asarray(y, dtype=np.float32)\n",
    "\n",
    "class SeqDataset(Dataset):\n",
    "    def __init__(self, X: np.ndarray, y: np.ndarray):\n",
    "        self.X = X\n",
    "        self.y = y\n",
    "    def __len__(self):\n",
    "        return len(self.X)\n",
    "    def __getitem__(self, idx):\n",
    "        return self.X[idx], self.y[idx]\n",
    "\n",
    "# -------------------- Model --------------------\n",
    "class RNNRegressor(nn.Module):\n",
    "    def __init__(self, input_size: int, hidden_size: int, num_layers: int):\n",
    "        super().__init__()\n",
    "        self.rnn = nn.RNN(input_size=input_size, hidden_size=hidden_size, num_layers=num_layers, batch_first=True)\n",
    "        self.head = nn.Linear(hidden_size, 1)\n",
    "    def forward(self, x):\n",
    "        out, h_n = self.rnn(x)\n",
    "        last = out[:, -1, :]\n",
    "        return self.head(last).squeeze(-1)\n",
    "\n",
    "# -------------------- Metrics --------------------\n",
    "def evaluate_metrics(y_true, y_pred):\n",
    "    mse = mean_squared_error(y_true, y_pred)\n",
    "    rmse = math.sqrt(mse)\n",
    "    mae = mean_absolute_error(y_true, y_pred)\n",
    "    mape = np.mean(np.abs((y_true - y_pred) / np.clip(np.abs(y_true), 1e-8, None))) * 100\n",
    "    r2 = r2_score(y_true, y_pred)\n",
    "    return {\"MSE\": mse, \"RMSE\": rmse, \"MAE\": mae, \"MAPE%\": mape, \"R2\": r2}\n",
    "\n",
    "# -------------------- Training loop --------------------\n",
    "def train_epoch(model, loader, criterion, optimizer, device):\n",
    "    model.train()\n",
    "    total = 0.0\n",
    "    for xb, yb in loader:\n",
    "        xb = xb.to(device)\n",
    "        yb = yb.to(device)\n",
    "        optimizer.zero_grad()\n",
    "        pred = model(xb)\n",
    "        loss = criterion(pred, yb)\n",
    "        loss.backward()\n",
    "        optimizer.step()\n",
    "        total += loss.item() * xb.size(0)\n",
    "    return total / len(loader.dataset)\n",
    "\n",
    "def eval_epoch(model, loader, criterion, device):\n",
    "    model.eval()\n",
    "    total = 0.0\n",
    "    with torch.no_grad():\n",
    "        for xb, yb in loader:\n",
    "            xb = xb.to(device)\n",
    "            yb = yb.to(device)\n",
    "            pred = model(xb)\n",
    "            loss = criterion(pred, yb)\n",
    "            total += loss.item() * xb.size(0)\n",
    "    return total / len(loader.dataset)\n",
    "\n",
    "# -------------------- Main --------------------\n",
    "if __name__ == \"__main__\":\n",
    "    device = torch.device(\"cuda\" if torch.cuda.is_available() else \"cpu\")\n",
    "    print(f\"Using device: {device}\")\n",
    "\n",
    "    raw = pd.read_csv(CSV_PATH)\n",
    "    df = clean_dataframe(raw)\n",
    "    df_train, df_val, df_test = train_val_test_split(df)\n",
    "    \n",
    "    scaler = StandardScaler()\n",
    "    train_scaled = scaler.fit_transform(df_train[[TARGET_COL]])\n",
    "    val_scaled   = scaler.transform(df_val[[TARGET_COL]])\n",
    "\n",
    "    def objective(trial: optuna.Trial):\n",
    "        lookback   = trial.suggest_int(\"lookback\", 2, 30)\n",
    "        num_layers = trial.suggest_int(\"num_layers\", 1, 3)\n",
    "        hidden_sz  = trial.suggest_int(\"hidden_size\", 16, 128, log=True)\n",
    "        lr         = trial.suggest_float(\"lr\", 1e-4, 1e-2, log=True)\n",
    "        batch_size = trial.suggest_categorical(\"batch_size\", [16, 32, 64])\n",
    "        epochs     = 100\n",
    "\n",
    "        Xtr, ytr = create_sequences(train_scaled, lookback)\n",
    "        Xval_in = np.vstack([train_scaled[-lookback:], val_scaled])\n",
    "        yval_in = np.concatenate([train_scaled[-lookback:,0], val_scaled[:,0]])\n",
    "        Xva, yva = create_sequences(Xval_in, lookback)\n",
    "\n",
    "        train_ds = SeqDataset(Xtr, ytr)\n",
    "        val_ds   = SeqDataset(Xva, yva)\n",
    "        train_ld = DataLoader(train_ds, batch_size=batch_size, shuffle=True)\n",
    "        val_ld   = DataLoader(val_ds, batch_size=batch_size, shuffle=False)\n",
    "\n",
    "        model = RNNRegressor(input_size=1, hidden_size=hidden_sz, num_layers=num_layers).to(device)\n",
    "        optimizer = torch.optim.Adam(model.parameters(), lr=lr)\n",
    "        criterion = nn.MSELoss()\n",
    "\n",
    "        best_val = float('inf')\n",
    "        patience, wait = 5, 0\n",
    "        for epoch in range(epochs):\n",
    "            train_epoch(model, train_ld, criterion, optimizer, device)\n",
    "            val_loss = eval_epoch(model, val_ld, criterion, device)\n",
    "            if val_loss < best_val - 1e-6:\n",
    "                best_val = val_loss\n",
    "                wait = 0\n",
    "            else:\n",
    "                wait += 1\n",
    "                if wait >= patience:\n",
    "                    break\n",
    "        return math.sqrt(best_val)\n",
    "\n",
    "    study = optuna.create_study(direction=\"minimize\")\n",
    "    study.optimize(objective, n_trials=200)\n",
    "\n",
    "    print(\"Best hyperparameters:\", study.best_params)\n",
    "    print(\"Best validation RMSE:\", study.best_value)\n",
    "\n",
    "    best = study.best_params\n",
    "    lookback   = best[\"lookback\"]\n",
    "    num_layers = best[\"num_layers\"]\n",
    "    hidden_sz  = best[\"hidden_size\"]\n",
    "    lr         = best[\"lr\"]\n",
    "    batch_size = best[\"batch_size\"]\n",
    "\n",
    "    full_scaler = StandardScaler()\n",
    "    trainval_scaled = full_scaler.fit_transform(pd.concat([df_train, df_val])[ [TARGET_COL] ])\n",
    "    Xtrv, ytrv = create_sequences(trainval_scaled, lookback)\n",
    "    trainval_ds = SeqDataset(Xtrv, ytrv)\n",
    "    trainval_ld = DataLoader(trainval_ds, batch_size=batch_size, shuffle=True)\n",
    "    model_final = RNNRegressor(input_size=1, hidden_size=hidden_sz, num_layers=num_layers).to(device)\n",
    "    optimizer   = torch.optim.Adam(model_final.parameters(), lr=lr)\n",
    "    criterion   = nn.MSELoss()\n",
    "\n",
    "    EPOCHS_FINAL = 50\n",
    "    for _ in range(EPOCHS_FINAL):\n",
    "        train_epoch(model_final, trainval_ld, criterion, optimizer, device)\n",
    "\n",
    "    # -------------------- Multi-step rolling forecast loop (MODIFIED) --------------------\n",
    "    history = trainval_scaled.tolist()\n",
    "    preds_scaled = []\n",
    "    y_test_scaled = full_scaler.transform(df_test[[TARGET_COL]]).tolist()\n",
    "\n",
    "    with torch.no_grad():\n",
    "        for i in range(0, len(df_test), FORECAST_STEPS):\n",
    "            # A) Make multi-step predictions based on current history\n",
    "            temp_history = history.copy()\n",
    "            block_preds = []\n",
    "            for _ in range(FORECAST_STEPS):\n",
    "                x_in = np.array(temp_history[-lookback:]).reshape(1, lookback, 1).astype(np.float32)\n",
    "                x_tensor = torch.from_numpy(x_in).to(device)\n",
    "                yhat = model_final(x_tensor).cpu().numpy().ravel()[0]\n",
    "                block_preds.append(yhat)\n",
    "                temp_history.append([yhat]) # Use prediction for the next step within the block\n",
    "            \n",
    "            preds_scaled.extend(block_preds)\n",
    "\n",
    "            # B) Advance the window using ground truth\n",
    "            for j in range(FORECAST_STEPS):\n",
    "                # Ensure we don't go out of bounds of the test set\n",
    "                if i + j < len(df_test):\n",
    "                    history.append(y_test_scaled[i + j])\n",
    "                else:\n",
    "                    break\n",
    "    \n",
    "    # Trim predictions to match the test set size\n",
    "    preds_scaled = preds_scaled[:len(df_test)]\n",
    "\n",
    "    preds = full_scaler.inverse_transform(np.array(preds_scaled).reshape(-1,1)).ravel()\n",
    "\n",
    "    # -------------------- Metrics & Plot --------------------\n",
    "    y_test = df_test[TARGET_COL].values\n",
    "    metrics = evaluate_metrics(y_test, preds)\n",
    "    print(\"Multi-step Rolling Forecast (1-day block) Test Metrics:\", json.dumps(metrics, indent=2))\n",
    "\n",
    "    plt.figure(figsize=(12,5))\n",
    "    plt.plot(df_test[DATE_COL], y_test, label='Actual')\n",
    "    plt.plot(df_test[DATE_COL], preds, label='Predicted', linestyle='--')\n",
    "    plt.title('PyTorch RNN (Simple) Multi-Step Forecast — Actual vs Predicted (2024)')\n",
    "    plt.xlabel('Date')\n",
    "    plt.ylabel('Price')\n",
    "    plt.legend()\n",
    "    plt.tight_layout()\n",
    "    plt.savefig('rnn_pytorch_multistep_forecast_2024.png', dpi=150)\n",
    "    print(\"Saved plot to rnn_pytorch_multistep_forecast_2024.png\")\n",
    "\n",
    "    with open('best_rnn_params_multistep.json', 'w') as f:\n",
    "        json.dump({\"best_params\": study.best_params, \"best_val_rmse\": study.best_value}, f, indent=2)\n",
    "    print(\"Saved best params to best_rnn_params_multistep.json\")"
   ]
  },
  {
   "cell_type": "code",
   "execution_count": null,
   "id": "8d41ed8e",
   "metadata": {},
   "outputs": [],
   "source": []
  }
 ],
 "metadata": {
  "kernelspec": {
   "display_name": "torchgpu",
   "language": "python",
   "name": "python3"
  },
  "language_info": {
   "codemirror_mode": {
    "name": "ipython",
    "version": 3
   },
   "file_extension": ".py",
   "mimetype": "text/x-python",
   "name": "python",
   "nbconvert_exporter": "python",
   "pygments_lexer": "ipython3",
   "version": "3.11.13"
  }
 },
 "nbformat": 4,
 "nbformat_minor": 5
}
